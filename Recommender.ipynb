{
  "nbformat": 4,
  "nbformat_minor": 0,
  "metadata": {
    "colab": {
      "name": "Recommender.ipynb",
      "provenance": [],
      "toc_visible": true,
      "authorship_tag": "ABX9TyMN+Zk3IL/RPXdv6PfwakHt",
      "include_colab_link": true
    },
    "kernelspec": {
      "name": "python3",
      "display_name": "Python 3"
    },
    "accelerator": "GPU"
  },
  "cells": [
    {
      "cell_type": "markdown",
      "metadata": {
        "id": "view-in-github",
        "colab_type": "text"
      },
      "source": [
        "<a href=\"https://colab.research.google.com/github/Aditya0721/Recommender/blob/master/Recommender.ipynb\" target=\"_parent\"><img src=\"https://colab.research.google.com/assets/colab-badge.svg\" alt=\"Open In Colab\"/></a>"
      ]
    },
    {
      "cell_type": "markdown",
      "metadata": {
        "id": "9zqpa1O8sgAK",
        "colab_type": "text"
      },
      "source": [
        "# **DATA PREPROCESSING**"
      ]
    },
    {
      "cell_type": "markdown",
      "metadata": {
        "id": "AbK_UEwCs6nr",
        "colab_type": "text"
      },
      "source": [
        "## Uploading the datasets and storing it in dataframes"
      ]
    },
    {
      "cell_type": "code",
      "metadata": {
        "id": "fgvlmTujsr3j",
        "colab_type": "code",
        "colab": {}
      },
      "source": [
        "import pandas as pd\n",
        "from google.colab import files\n",
        "import io"
      ],
      "execution_count": 0,
      "outputs": []
    },
    {
      "cell_type": "code",
      "metadata": {
        "id": "Vw225DXpuJn6",
        "colab_type": "code",
        "colab": {
          "resources": {
            "http://localhost:8080/nbextensions/google.colab/files.js": {
              "data": "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",
              "ok": true,
              "headers": [
                [
                  "content-type",
                  "application/javascript"
                ]
              ],
              "status": 200,
              "status_text": ""
            }
          },
          "base_uri": "https://localhost:8080/",
          "height": 142
        },
        "outputId": "2a775593-1f15-4655-d1d2-2570a4087d01"
      },
      "source": [
        "uploaded = files.upload()"
      ],
      "execution_count": 8,
      "outputs": [
        {
          "output_type": "display_data",
          "data": {
            "text/html": [
              "\n",
              "     <input type=\"file\" id=\"files-0ebbdddf-e752-4961-9e5d-2792fde8dc75\" name=\"files[]\" multiple disabled />\n",
              "     <output id=\"result-0ebbdddf-e752-4961-9e5d-2792fde8dc75\">\n",
              "      Upload widget is only available when the cell has been executed in the\n",
              "      current browser session. Please rerun this cell to enable.\n",
              "      </output>\n",
              "      <script src=\"/nbextensions/google.colab/files.js\"></script> "
            ],
            "text/plain": [
              "<IPython.core.display.HTML object>"
            ]
          },
          "metadata": {
            "tags": []
          }
        },
        {
          "output_type": "stream",
          "text": [
            "Saving posts.csv to posts.csv\n",
            "Saving users.csv to users (1).csv\n",
            "Saving views.csv to views.csv\n"
          ],
          "name": "stdout"
        }
      ]
    },
    {
      "cell_type": "code",
      "metadata": {
        "id": "elZS-mB4vO0x",
        "colab_type": "code",
        "colab": {
          "base_uri": "https://localhost:8080/",
          "height": 195
        },
        "outputId": "3cc6905f-6997-48ec-9b8e-d38717cb9128"
      },
      "source": [
        "users_df = pd.read_csv('users.csv')\n",
        "users_df.head()"
      ],
      "execution_count": 12,
      "outputs": [
        {
          "output_type": "execute_result",
          "data": {
            "text/html": [
              "<div>\n",
              "<style scoped>\n",
              "    .dataframe tbody tr th:only-of-type {\n",
              "        vertical-align: middle;\n",
              "    }\n",
              "\n",
              "    .dataframe tbody tr th {\n",
              "        vertical-align: top;\n",
              "    }\n",
              "\n",
              "    .dataframe thead th {\n",
              "        text-align: right;\n",
              "    }\n",
              "</style>\n",
              "<table border=\"1\" class=\"dataframe\">\n",
              "  <thead>\n",
              "    <tr style=\"text-align: right;\">\n",
              "      <th></th>\n",
              "      <th>_id</th>\n",
              "      <th>name</th>\n",
              "      <th>gender</th>\n",
              "      <th>academics</th>\n",
              "    </tr>\n",
              "  </thead>\n",
              "  <tbody>\n",
              "    <tr>\n",
              "      <th>0</th>\n",
              "      <td>5d60098a653a331687083238</td>\n",
              "      <td>Nivesh Singh Chauhan</td>\n",
              "      <td>male</td>\n",
              "      <td>undergraduate</td>\n",
              "    </tr>\n",
              "    <tr>\n",
              "      <th>1</th>\n",
              "      <td>5d610ae1653a331687083239</td>\n",
              "      <td>Gaurav Sharma</td>\n",
              "      <td>male</td>\n",
              "      <td>graduate</td>\n",
              "    </tr>\n",
              "    <tr>\n",
              "      <th>2</th>\n",
              "      <td>5d618359fc5fcf3bdd9a0910</td>\n",
              "      <td>Akshay Mishra</td>\n",
              "      <td>male</td>\n",
              "      <td>undergraduate</td>\n",
              "    </tr>\n",
              "    <tr>\n",
              "      <th>3</th>\n",
              "      <td>5d6d2bb87fa40e1417a49315</td>\n",
              "      <td>Saksham Mathur</td>\n",
              "      <td>male</td>\n",
              "      <td>undergraduate</td>\n",
              "    </tr>\n",
              "    <tr>\n",
              "      <th>4</th>\n",
              "      <td>5d7c994d5720533e15c3b1e9</td>\n",
              "      <td>Varun Chowhan</td>\n",
              "      <td>male</td>\n",
              "      <td>undergraduate</td>\n",
              "    </tr>\n",
              "  </tbody>\n",
              "</table>\n",
              "</div>"
            ],
            "text/plain": [
              "                        _id                  name gender      academics\n",
              "0  5d60098a653a331687083238  Nivesh Singh Chauhan   male  undergraduate\n",
              "1  5d610ae1653a331687083239         Gaurav Sharma   male       graduate\n",
              "2  5d618359fc5fcf3bdd9a0910         Akshay Mishra   male  undergraduate\n",
              "3  5d6d2bb87fa40e1417a49315        Saksham Mathur   male  undergraduate\n",
              "4  5d7c994d5720533e15c3b1e9         Varun Chowhan   male  undergraduate"
            ]
          },
          "metadata": {
            "tags": []
          },
          "execution_count": 12
        }
      ]
    },
    {
      "cell_type": "code",
      "metadata": {
        "id": "hOLibwYjvz6t",
        "colab_type": "code",
        "colab": {
          "base_uri": "https://localhost:8080/",
          "height": 195
        },
        "outputId": "ec96bbc4-323a-4447-ed42-9e7c62701f02"
      },
      "source": [
        "posts_df = pd.read_csv('posts.csv')\n",
        "posts_df.head()"
      ],
      "execution_count": 13,
      "outputs": [
        {
          "output_type": "execute_result",
          "data": {
            "text/html": [
              "<div>\n",
              "<style scoped>\n",
              "    .dataframe tbody tr th:only-of-type {\n",
              "        vertical-align: middle;\n",
              "    }\n",
              "\n",
              "    .dataframe tbody tr th {\n",
              "        vertical-align: top;\n",
              "    }\n",
              "\n",
              "    .dataframe thead th {\n",
              "        text-align: right;\n",
              "    }\n",
              "</style>\n",
              "<table border=\"1\" class=\"dataframe\">\n",
              "  <thead>\n",
              "    <tr style=\"text-align: right;\">\n",
              "      <th></th>\n",
              "      <th>_id</th>\n",
              "      <th>title</th>\n",
              "      <th>category</th>\n",
              "      <th>post_type</th>\n",
              "    </tr>\n",
              "  </thead>\n",
              "  <tbody>\n",
              "    <tr>\n",
              "      <th>0</th>\n",
              "      <td>5d62abaa65218653a132c956</td>\n",
              "      <td>hello there</td>\n",
              "      <td>Plant Biotechnology</td>\n",
              "      <td>blog</td>\n",
              "    </tr>\n",
              "    <tr>\n",
              "      <th>1</th>\n",
              "      <td>5d6d39567fa40e1417a4931c</td>\n",
              "      <td>Ml and AI</td>\n",
              "      <td>Artificial Intelligence|Machine Learning|Infor...</td>\n",
              "      <td>blog</td>\n",
              "    </tr>\n",
              "    <tr>\n",
              "      <th>2</th>\n",
              "      <td>5d7d23315720533e15c3b1ee</td>\n",
              "      <td>What is an Operating System ?</td>\n",
              "      <td>Operating Systems</td>\n",
              "      <td>blog</td>\n",
              "    </tr>\n",
              "    <tr>\n",
              "      <th>3</th>\n",
              "      <td>5d7d405e5720533e15c3b1f3</td>\n",
              "      <td>Lord Shiva</td>\n",
              "      <td>Drawings</td>\n",
              "      <td>artwork</td>\n",
              "    </tr>\n",
              "    <tr>\n",
              "      <th>4</th>\n",
              "      <td>5d80dfbc6c53455f896e600e</td>\n",
              "      <td>How Competition law evolved?</td>\n",
              "      <td>Competition Laws</td>\n",
              "      <td>blog</td>\n",
              "    </tr>\n",
              "  </tbody>\n",
              "</table>\n",
              "</div>"
            ],
            "text/plain": [
              "                        _id  ...  post_type\n",
              "0  5d62abaa65218653a132c956  ...       blog\n",
              "1  5d6d39567fa40e1417a4931c  ...       blog\n",
              "2  5d7d23315720533e15c3b1ee  ...       blog\n",
              "3  5d7d405e5720533e15c3b1f3  ...    artwork\n",
              "4  5d80dfbc6c53455f896e600e  ...       blog\n",
              "\n",
              "[5 rows x 4 columns]"
            ]
          },
          "metadata": {
            "tags": []
          },
          "execution_count": 13
        }
      ]
    },
    {
      "cell_type": "code",
      "metadata": {
        "id": "KAURKMjIwGzT",
        "colab_type": "code",
        "colab": {
          "base_uri": "https://localhost:8080/",
          "height": 195
        },
        "outputId": "76862296-1da3-4a10-d16d-034dd6e5a357"
      },
      "source": [
        "views_df = pd.read_csv('views.csv')\n",
        "views_df.head()"
      ],
      "execution_count": 14,
      "outputs": [
        {
          "output_type": "execute_result",
          "data": {
            "text/html": [
              "<div>\n",
              "<style scoped>\n",
              "    .dataframe tbody tr th:only-of-type {\n",
              "        vertical-align: middle;\n",
              "    }\n",
              "\n",
              "    .dataframe tbody tr th {\n",
              "        vertical-align: top;\n",
              "    }\n",
              "\n",
              "    .dataframe thead th {\n",
              "        text-align: right;\n",
              "    }\n",
              "</style>\n",
              "<table border=\"1\" class=\"dataframe\">\n",
              "  <thead>\n",
              "    <tr style=\"text-align: right;\">\n",
              "      <th></th>\n",
              "      <th>user_id</th>\n",
              "      <th>post_id</th>\n",
              "      <th>timestamp</th>\n",
              "    </tr>\n",
              "  </thead>\n",
              "  <tbody>\n",
              "    <tr>\n",
              "      <th>0</th>\n",
              "      <td>5df49b32cc709107827fb3c7</td>\n",
              "      <td>5ec821ddec493f4a2655889e</td>\n",
              "      <td>2020-06-01T10:46:45.131Z</td>\n",
              "    </tr>\n",
              "    <tr>\n",
              "      <th>1</th>\n",
              "      <td>5ed3748576027d35905ccaab</td>\n",
              "      <td>5ed4cbadbd514d602c1531a6</td>\n",
              "      <td>2020-06-01T09:39:20.021Z</td>\n",
              "    </tr>\n",
              "    <tr>\n",
              "      <th>2</th>\n",
              "      <td>5ed0defa76027d35905cc2de</td>\n",
              "      <td>5eac305f10426255a7aa9dd3</td>\n",
              "      <td>2020-06-01T08:12:42.682Z</td>\n",
              "    </tr>\n",
              "    <tr>\n",
              "      <th>3</th>\n",
              "      <td>5ed0defa76027d35905cc2de</td>\n",
              "      <td>5ed1ff0276027d35905cc60d</td>\n",
              "      <td>2020-06-01T08:10:23.880Z</td>\n",
              "    </tr>\n",
              "    <tr>\n",
              "      <th>4</th>\n",
              "      <td>5ed0defa76027d35905cc2de</td>\n",
              "      <td>5ed3820f76027d35905ccac8</td>\n",
              "      <td>2020-06-01T08:08:54.124Z</td>\n",
              "    </tr>\n",
              "  </tbody>\n",
              "</table>\n",
              "</div>"
            ],
            "text/plain": [
              "                    user_id                   post_id                 timestamp\n",
              "0  5df49b32cc709107827fb3c7  5ec821ddec493f4a2655889e  2020-06-01T10:46:45.131Z\n",
              "1  5ed3748576027d35905ccaab  5ed4cbadbd514d602c1531a6  2020-06-01T09:39:20.021Z\n",
              "2  5ed0defa76027d35905cc2de  5eac305f10426255a7aa9dd3  2020-06-01T08:12:42.682Z\n",
              "3  5ed0defa76027d35905cc2de  5ed1ff0276027d35905cc60d  2020-06-01T08:10:23.880Z\n",
              "4  5ed0defa76027d35905cc2de  5ed3820f76027d35905ccac8  2020-06-01T08:08:54.124Z"
            ]
          },
          "metadata": {
            "tags": []
          },
          "execution_count": 14
        }
      ]
    },
    {
      "cell_type": "markdown",
      "metadata": {
        "id": "as3gC4_KxGxu",
        "colab_type": "text"
      },
      "source": [
        ""
      ]
    },
    {
      "cell_type": "markdown",
      "metadata": {
        "id": "nWr9osbZxpIe",
        "colab_type": "text"
      },
      "source": [
        "## DETAILS OF THE DATAFRAMES"
      ]
    },
    {
      "cell_type": "code",
      "metadata": {
        "id": "Osovac3dx8n9",
        "colab_type": "code",
        "colab": {
          "base_uri": "https://localhost:8080/",
          "height": 166
        },
        "outputId": "c13e6806-4f9c-4959-bef5-ed392c49fc60"
      },
      "source": [
        "users_df.describe()"
      ],
      "execution_count": 15,
      "outputs": [
        {
          "output_type": "execute_result",
          "data": {
            "text/html": [
              "<div>\n",
              "<style scoped>\n",
              "    .dataframe tbody tr th:only-of-type {\n",
              "        vertical-align: middle;\n",
              "    }\n",
              "\n",
              "    .dataframe tbody tr th {\n",
              "        vertical-align: top;\n",
              "    }\n",
              "\n",
              "    .dataframe thead th {\n",
              "        text-align: right;\n",
              "    }\n",
              "</style>\n",
              "<table border=\"1\" class=\"dataframe\">\n",
              "  <thead>\n",
              "    <tr style=\"text-align: right;\">\n",
              "      <th></th>\n",
              "      <th>_id</th>\n",
              "      <th>name</th>\n",
              "      <th>gender</th>\n",
              "      <th>academics</th>\n",
              "    </tr>\n",
              "  </thead>\n",
              "  <tbody>\n",
              "    <tr>\n",
              "      <th>count</th>\n",
              "      <td>118</td>\n",
              "      <td>118</td>\n",
              "      <td>118</td>\n",
              "      <td>118</td>\n",
              "    </tr>\n",
              "    <tr>\n",
              "      <th>unique</th>\n",
              "      <td>118</td>\n",
              "      <td>118</td>\n",
              "      <td>3</td>\n",
              "      <td>3</td>\n",
              "    </tr>\n",
              "    <tr>\n",
              "      <th>top</th>\n",
              "      <td>5ed142cd76027d35905cc4cd</td>\n",
              "      <td>Saumya Singh</td>\n",
              "      <td>male</td>\n",
              "      <td>undergraduate</td>\n",
              "    </tr>\n",
              "    <tr>\n",
              "      <th>freq</th>\n",
              "      <td>1</td>\n",
              "      <td>1</td>\n",
              "      <td>72</td>\n",
              "      <td>68</td>\n",
              "    </tr>\n",
              "  </tbody>\n",
              "</table>\n",
              "</div>"
            ],
            "text/plain": [
              "                             _id          name gender      academics\n",
              "count                        118           118    118            118\n",
              "unique                       118           118      3              3\n",
              "top     5ed142cd76027d35905cc4cd  Saumya Singh   male  undergraduate\n",
              "freq                           1             1     72             68"
            ]
          },
          "metadata": {
            "tags": []
          },
          "execution_count": 15
        }
      ]
    },
    {
      "cell_type": "code",
      "metadata": {
        "id": "2-V1JhUTyRno",
        "colab_type": "code",
        "colab": {
          "base_uri": "https://localhost:8080/",
          "height": 166
        },
        "outputId": "bc0eec97-d5c6-493b-9dae-e17ff8851b0b"
      },
      "source": [
        "views_df.describe()"
      ],
      "execution_count": 16,
      "outputs": [
        {
          "output_type": "execute_result",
          "data": {
            "text/html": [
              "<div>\n",
              "<style scoped>\n",
              "    .dataframe tbody tr th:only-of-type {\n",
              "        vertical-align: middle;\n",
              "    }\n",
              "\n",
              "    .dataframe tbody tr th {\n",
              "        vertical-align: top;\n",
              "    }\n",
              "\n",
              "    .dataframe thead th {\n",
              "        text-align: right;\n",
              "    }\n",
              "</style>\n",
              "<table border=\"1\" class=\"dataframe\">\n",
              "  <thead>\n",
              "    <tr style=\"text-align: right;\">\n",
              "      <th></th>\n",
              "      <th>user_id</th>\n",
              "      <th>post_id</th>\n",
              "      <th>timestamp</th>\n",
              "    </tr>\n",
              "  </thead>\n",
              "  <tbody>\n",
              "    <tr>\n",
              "      <th>count</th>\n",
              "      <td>1449</td>\n",
              "      <td>1449</td>\n",
              "      <td>1449</td>\n",
              "    </tr>\n",
              "    <tr>\n",
              "      <th>unique</th>\n",
              "      <td>118</td>\n",
              "      <td>495</td>\n",
              "      <td>1449</td>\n",
              "    </tr>\n",
              "    <tr>\n",
              "      <th>top</th>\n",
              "      <td>5d60098a653a331687083238</td>\n",
              "      <td>5ec1fd0974f7660d73aa0fd5</td>\n",
              "      <td>2020-05-02T08:40:17.759Z</td>\n",
              "    </tr>\n",
              "    <tr>\n",
              "      <th>freq</th>\n",
              "      <td>230</td>\n",
              "      <td>18</td>\n",
              "      <td>1</td>\n",
              "    </tr>\n",
              "  </tbody>\n",
              "</table>\n",
              "</div>"
            ],
            "text/plain": [
              "                         user_id  ...                 timestamp\n",
              "count                       1449  ...                      1449\n",
              "unique                       118  ...                      1449\n",
              "top     5d60098a653a331687083238  ...  2020-05-02T08:40:17.759Z\n",
              "freq                         230  ...                         1\n",
              "\n",
              "[4 rows x 3 columns]"
            ]
          },
          "metadata": {
            "tags": []
          },
          "execution_count": 16
        }
      ]
    },
    {
      "cell_type": "code",
      "metadata": {
        "id": "VRr6TO64yblb",
        "colab_type": "code",
        "colab": {
          "base_uri": "https://localhost:8080/",
          "height": 166
        },
        "outputId": "db12c882-8629-4767-f519-fe232109e228"
      },
      "source": [
        "posts_df.describe()"
      ],
      "execution_count": 17,
      "outputs": [
        {
          "output_type": "execute_result",
          "data": {
            "text/html": [
              "<div>\n",
              "<style scoped>\n",
              "    .dataframe tbody tr th:only-of-type {\n",
              "        vertical-align: middle;\n",
              "    }\n",
              "\n",
              "    .dataframe tbody tr th {\n",
              "        vertical-align: top;\n",
              "    }\n",
              "\n",
              "    .dataframe thead th {\n",
              "        text-align: right;\n",
              "    }\n",
              "</style>\n",
              "<table border=\"1\" class=\"dataframe\">\n",
              "  <thead>\n",
              "    <tr style=\"text-align: right;\">\n",
              "      <th></th>\n",
              "      <th>_id</th>\n",
              "      <th>title</th>\n",
              "      <th>category</th>\n",
              "      <th>post_type</th>\n",
              "    </tr>\n",
              "  </thead>\n",
              "  <tbody>\n",
              "    <tr>\n",
              "      <th>count</th>\n",
              "      <td>493</td>\n",
              "      <td>493</td>\n",
              "      <td>465</td>\n",
              "      <td>493</td>\n",
              "    </tr>\n",
              "    <tr>\n",
              "      <th>unique</th>\n",
              "      <td>493</td>\n",
              "      <td>477</td>\n",
              "      <td>231</td>\n",
              "      <td>4</td>\n",
              "    </tr>\n",
              "    <tr>\n",
              "      <th>top</th>\n",
              "      <td>5e9ab176a3258347b42f2c4a</td>\n",
              "      <td>PENCIL RENDERING</td>\n",
              "      <td>Photography</td>\n",
              "      <td>artwork</td>\n",
              "    </tr>\n",
              "    <tr>\n",
              "      <th>freq</th>\n",
              "      <td>1</td>\n",
              "      <td>3</td>\n",
              "      <td>81</td>\n",
              "      <td>241</td>\n",
              "    </tr>\n",
              "  </tbody>\n",
              "</table>\n",
              "</div>"
            ],
            "text/plain": [
              "                             _id             title     category  post_type\n",
              "count                        493               493          465        493\n",
              "unique                       493               477          231          4\n",
              "top     5e9ab176a3258347b42f2c4a  PENCIL RENDERING  Photography    artwork\n",
              "freq                           1                 3           81        241"
            ]
          },
          "metadata": {
            "tags": []
          },
          "execution_count": 17
        }
      ]
    },
    {
      "cell_type": "markdown",
      "metadata": {
        "id": "ZggFrzl7y5fb",
        "colab_type": "text"
      },
      "source": [
        "**checking for null values**"
      ]
    },
    {
      "cell_type": "code",
      "metadata": {
        "id": "WwbCGE1uzDh2",
        "colab_type": "code",
        "colab": {
          "base_uri": "https://localhost:8080/",
          "height": 101
        },
        "outputId": "0c4d4d00-b427-4e5c-9ad7-466d9115a808"
      },
      "source": [
        "users_df.isnull().any()\n"
      ],
      "execution_count": 19,
      "outputs": [
        {
          "output_type": "execute_result",
          "data": {
            "text/plain": [
              "_id          False\n",
              "name         False\n",
              "gender       False\n",
              "academics    False\n",
              "dtype: bool"
            ]
          },
          "metadata": {
            "tags": []
          },
          "execution_count": 19
        }
      ]
    },
    {
      "cell_type": "code",
      "metadata": {
        "id": "WXsX_dLHzlf3",
        "colab_type": "code",
        "colab": {
          "base_uri": "https://localhost:8080/",
          "height": 84
        },
        "outputId": "cfaed176-05a5-47fc-d86d-cd48a8c8237d"
      },
      "source": [
        "views_df.isnull().any()"
      ],
      "execution_count": 20,
      "outputs": [
        {
          "output_type": "execute_result",
          "data": {
            "text/plain": [
              "user_id      False\n",
              "post_id      False\n",
              "timestamp    False\n",
              "dtype: bool"
            ]
          },
          "metadata": {
            "tags": []
          },
          "execution_count": 20
        }
      ]
    },
    {
      "cell_type": "code",
      "metadata": {
        "id": "aSf0qPGpzreN",
        "colab_type": "code",
        "colab": {
          "base_uri": "https://localhost:8080/",
          "height": 101
        },
        "outputId": "5f007630-ed4c-419b-e81f-68f68606e88f"
      },
      "source": [
        "posts_df.isnull().any()"
      ],
      "execution_count": 22,
      "outputs": [
        {
          "output_type": "execute_result",
          "data": {
            "text/plain": [
              "_id           False\n",
              "title         False\n",
              "category       True\n",
              " post_type    False\n",
              "dtype: bool"
            ]
          },
          "metadata": {
            "tags": []
          },
          "execution_count": 22
        }
      ]
    },
    {
      "cell_type": "markdown",
      "metadata": {
        "id": "GNfnflIoz1x3",
        "colab_type": "text"
      },
      "source": [
        "**we have got null values in the category column of the posts dataset**"
      ]
    },
    {
      "cell_type": "markdown",
      "metadata": {
        "id": "_KtYHNQ_0EiI",
        "colab_type": "text"
      },
      "source": [
        "**as its a categorical variable we have to fill the null values considering the title and post_type**"
      ]
    },
    {
      "cell_type": "markdown",
      "metadata": {
        "id": "TwC_G4qq3Pgb",
        "colab_type": "text"
      },
      "source": [
        "**counting total number of null values in posts_df**"
      ]
    },
    {
      "cell_type": "code",
      "metadata": {
        "id": "BhmbvuOi0pgb",
        "colab_type": "code",
        "colab": {
          "base_uri": "https://localhost:8080/",
          "height": 34
        },
        "outputId": "13f99e05-d084-456a-98ec-c7e4d4bd677f"
      },
      "source": [
        "posts_df['category'].isna().sum()"
      ],
      "execution_count": 42,
      "outputs": [
        {
          "output_type": "execute_result",
          "data": {
            "text/plain": [
              "28"
            ]
          },
          "metadata": {
            "tags": []
          },
          "execution_count": 42
        }
      ]
    },
    {
      "cell_type": "markdown",
      "metadata": {
        "id": "WDPdLi4t4Feh",
        "colab_type": "text"
      },
      "source": [
        "**finding title and post_type for all 28 null values**"
      ]
    },
    {
      "cell_type": "code",
      "metadata": {
        "id": "lvYNvdvn4BuI",
        "colab_type": "code",
        "colab": {
          "base_uri": "https://localhost:8080/",
          "height": 876
        },
        "outputId": "16f74b14-d233-4633-ffd5-c6c431563d73"
      },
      "source": [
        "posts_df[posts_df['category'].isna()]"
      ],
      "execution_count": 47,
      "outputs": [
        {
          "output_type": "execute_result",
          "data": {
            "text/html": [
              "<div>\n",
              "<style scoped>\n",
              "    .dataframe tbody tr th:only-of-type {\n",
              "        vertical-align: middle;\n",
              "    }\n",
              "\n",
              "    .dataframe tbody tr th {\n",
              "        vertical-align: top;\n",
              "    }\n",
              "\n",
              "    .dataframe thead th {\n",
              "        text-align: right;\n",
              "    }\n",
              "</style>\n",
              "<table border=\"1\" class=\"dataframe\">\n",
              "  <thead>\n",
              "    <tr style=\"text-align: right;\">\n",
              "      <th></th>\n",
              "      <th>_id</th>\n",
              "      <th>title</th>\n",
              "      <th>category</th>\n",
              "      <th>post_type</th>\n",
              "    </tr>\n",
              "  </thead>\n",
              "  <tbody>\n",
              "    <tr>\n",
              "      <th>24</th>\n",
              "      <td>5ddeb6e80eb5e25a8a07f065</td>\n",
              "      <td>Library Managment System: Software Requirement...</td>\n",
              "      <td>NaN</td>\n",
              "      <td>project</td>\n",
              "    </tr>\n",
              "    <tr>\n",
              "      <th>25</th>\n",
              "      <td>5de179d80eb5e25a8a07f079</td>\n",
              "      <td>Navigation system using BFS DFS algorithms</td>\n",
              "      <td>NaN</td>\n",
              "      <td>project</td>\n",
              "    </tr>\n",
              "    <tr>\n",
              "      <th>29</th>\n",
              "      <td>5dee9b5042a8854bf6eabaaf</td>\n",
              "      <td>Computer Aided Machine Drawing (CAMD)</td>\n",
              "      <td>NaN</td>\n",
              "      <td>project</td>\n",
              "    </tr>\n",
              "    <tr>\n",
              "      <th>65</th>\n",
              "      <td>5e3ea110eab55d319938a7a7</td>\n",
              "      <td>OS</td>\n",
              "      <td>NaN</td>\n",
              "      <td>project</td>\n",
              "    </tr>\n",
              "    <tr>\n",
              "      <th>88</th>\n",
              "      <td>5e4c3873f5561b1994c8e3d9</td>\n",
              "      <td>Bill Calculation(PHP)</td>\n",
              "      <td>NaN</td>\n",
              "      <td>project</td>\n",
              "    </tr>\n",
              "    <tr>\n",
              "      <th>93</th>\n",
              "      <td>5e4da502f5561b1994c8e42c</td>\n",
              "      <td>Prime No.(PHP)</td>\n",
              "      <td>NaN</td>\n",
              "      <td>project</td>\n",
              "    </tr>\n",
              "    <tr>\n",
              "      <th>94</th>\n",
              "      <td>5e4da7c8f5561b1994c8e439</td>\n",
              "      <td>Factorial of a No.(PHP)</td>\n",
              "      <td>NaN</td>\n",
              "      <td>project</td>\n",
              "    </tr>\n",
              "    <tr>\n",
              "      <th>95</th>\n",
              "      <td>5e4dab15f5561b1994c8e446</td>\n",
              "      <td>Palindrome No.(PHP)</td>\n",
              "      <td>NaN</td>\n",
              "      <td>project</td>\n",
              "    </tr>\n",
              "    <tr>\n",
              "      <th>96</th>\n",
              "      <td>5e4ed85af5561b1994c8e470</td>\n",
              "      <td>Factorial (.net)</td>\n",
              "      <td>NaN</td>\n",
              "      <td>project</td>\n",
              "    </tr>\n",
              "    <tr>\n",
              "      <th>97</th>\n",
              "      <td>5e4ed8ccf5561b1994c8e47d</td>\n",
              "      <td>Leap year checking (.net)</td>\n",
              "      <td>NaN</td>\n",
              "      <td>project</td>\n",
              "    </tr>\n",
              "    <tr>\n",
              "      <th>98</th>\n",
              "      <td>5e4edd1bf5561b1994c8e48a</td>\n",
              "      <td>Delegates(.net)</td>\n",
              "      <td>NaN</td>\n",
              "      <td>project</td>\n",
              "    </tr>\n",
              "    <tr>\n",
              "      <th>99</th>\n",
              "      <td>5e4edd87f5561b1994c8e497</td>\n",
              "      <td>Overloading Method(.net)</td>\n",
              "      <td>NaN</td>\n",
              "      <td>project</td>\n",
              "    </tr>\n",
              "    <tr>\n",
              "      <th>227</th>\n",
              "      <td>5e8c2d01a3258347b42f2627</td>\n",
              "      <td>Even and Odd Numbers (PHP)</td>\n",
              "      <td>NaN</td>\n",
              "      <td>project</td>\n",
              "    </tr>\n",
              "    <tr>\n",
              "      <th>228</th>\n",
              "      <td>5e8c993da3258347b42f264d</td>\n",
              "      <td>Armstrong No.(C# .Net)</td>\n",
              "      <td>NaN</td>\n",
              "      <td>project</td>\n",
              "    </tr>\n",
              "    <tr>\n",
              "      <th>229</th>\n",
              "      <td>5e8cb88ea3258347b42f267e</td>\n",
              "      <td>Palindrome (C# .Net)</td>\n",
              "      <td>NaN</td>\n",
              "      <td>project</td>\n",
              "    </tr>\n",
              "    <tr>\n",
              "      <th>230</th>\n",
              "      <td>5e8cc876a3258347b42f26a3</td>\n",
              "      <td>Negative or Positive No. (PHP)</td>\n",
              "      <td>NaN</td>\n",
              "      <td>project</td>\n",
              "    </tr>\n",
              "    <tr>\n",
              "      <th>231</th>\n",
              "      <td>5e8ccfb5a3258347b42f26bc</td>\n",
              "      <td>Friend Number (C# .Net)</td>\n",
              "      <td>NaN</td>\n",
              "      <td>project</td>\n",
              "    </tr>\n",
              "    <tr>\n",
              "      <th>352</th>\n",
              "      <td>5ea5aacd10426255a7aa9b71</td>\n",
              "      <td>Photography Composition</td>\n",
              "      <td>NaN</td>\n",
              "      <td>project</td>\n",
              "    </tr>\n",
              "    <tr>\n",
              "      <th>353</th>\n",
              "      <td>5ea5ce9310426255a7aa9b8d</td>\n",
              "      <td>Photography</td>\n",
              "      <td>NaN</td>\n",
              "      <td>project</td>\n",
              "    </tr>\n",
              "    <tr>\n",
              "      <th>374</th>\n",
              "      <td>5eaf3d4110426255a7aa9f4c</td>\n",
              "      <td>Students Networking!</td>\n",
              "      <td>NaN</td>\n",
              "      <td>blog</td>\n",
              "    </tr>\n",
              "    <tr>\n",
              "      <th>394</th>\n",
              "      <td>5eb1df6d10426255a7aaa029</td>\n",
              "      <td>Novel &amp; Consenent (P.H.P)</td>\n",
              "      <td>NaN</td>\n",
              "      <td>project</td>\n",
              "    </tr>\n",
              "    <tr>\n",
              "      <th>442</th>\n",
              "      <td>5eca8fceeaff6b0c3a58a3c0</td>\n",
              "      <td>Zero-Waste Lifestyle</td>\n",
              "      <td>NaN</td>\n",
              "      <td>project</td>\n",
              "    </tr>\n",
              "    <tr>\n",
              "      <th>463</th>\n",
              "      <td>5ed0e31a76027d35905cc302</td>\n",
              "      <td>Designing Cmos circuit from Boolean expression...</td>\n",
              "      <td>NaN</td>\n",
              "      <td>project</td>\n",
              "    </tr>\n",
              "    <tr>\n",
              "      <th>464</th>\n",
              "      <td>5ed0e65976027d35905cc356</td>\n",
              "      <td>Moore FSM Sequence Detector</td>\n",
              "      <td>NaN</td>\n",
              "      <td>project</td>\n",
              "    </tr>\n",
              "    <tr>\n",
              "      <th>465</th>\n",
              "      <td>5ed0f0c576027d35905cc3c7</td>\n",
              "      <td>Designing Circular Microstrip Antenna</td>\n",
              "      <td>NaN</td>\n",
              "      <td>project</td>\n",
              "    </tr>\n",
              "    <tr>\n",
              "      <th>468</th>\n",
              "      <td>5ed175f176027d35905cc554</td>\n",
              "      <td>GAN's Introduction</td>\n",
              "      <td>NaN</td>\n",
              "      <td>project</td>\n",
              "    </tr>\n",
              "    <tr>\n",
              "      <th>469</th>\n",
              "      <td>5ed175f476027d35905cc562</td>\n",
              "      <td>GAN's Introduction</td>\n",
              "      <td>NaN</td>\n",
              "      <td>project</td>\n",
              "    </tr>\n",
              "    <tr>\n",
              "      <th>490</th>\n",
              "      <td>5ed3ef4cbd514d602c1530f2</td>\n",
              "      <td>Recommendation Engine</td>\n",
              "      <td>NaN</td>\n",
              "      <td>project</td>\n",
              "    </tr>\n",
              "  </tbody>\n",
              "</table>\n",
              "</div>"
            ],
            "text/plain": [
              "                          _id  ...  post_type\n",
              "24   5ddeb6e80eb5e25a8a07f065  ...    project\n",
              "25   5de179d80eb5e25a8a07f079  ...    project\n",
              "29   5dee9b5042a8854bf6eabaaf  ...    project\n",
              "65   5e3ea110eab55d319938a7a7  ...    project\n",
              "88   5e4c3873f5561b1994c8e3d9  ...    project\n",
              "93   5e4da502f5561b1994c8e42c  ...    project\n",
              "94   5e4da7c8f5561b1994c8e439  ...    project\n",
              "95   5e4dab15f5561b1994c8e446  ...    project\n",
              "96   5e4ed85af5561b1994c8e470  ...    project\n",
              "97   5e4ed8ccf5561b1994c8e47d  ...    project\n",
              "98   5e4edd1bf5561b1994c8e48a  ...    project\n",
              "99   5e4edd87f5561b1994c8e497  ...    project\n",
              "227  5e8c2d01a3258347b42f2627  ...    project\n",
              "228  5e8c993da3258347b42f264d  ...    project\n",
              "229  5e8cb88ea3258347b42f267e  ...    project\n",
              "230  5e8cc876a3258347b42f26a3  ...    project\n",
              "231  5e8ccfb5a3258347b42f26bc  ...    project\n",
              "352  5ea5aacd10426255a7aa9b71  ...    project\n",
              "353  5ea5ce9310426255a7aa9b8d  ...    project\n",
              "374  5eaf3d4110426255a7aa9f4c  ...       blog\n",
              "394  5eb1df6d10426255a7aaa029  ...    project\n",
              "442  5eca8fceeaff6b0c3a58a3c0  ...    project\n",
              "463  5ed0e31a76027d35905cc302  ...    project\n",
              "464  5ed0e65976027d35905cc356  ...    project\n",
              "465  5ed0f0c576027d35905cc3c7  ...    project\n",
              "468  5ed175f176027d35905cc554  ...    project\n",
              "469  5ed175f476027d35905cc562  ...    project\n",
              "490  5ed3ef4cbd514d602c1530f2  ...    project\n",
              "\n",
              "[28 rows x 4 columns]"
            ]
          },
          "metadata": {
            "tags": []
          },
          "execution_count": 47
        }
      ]
    },
    {
      "cell_type": "markdown",
      "metadata": {
        "id": "RQYNuDLe5ve4",
        "colab_type": "text"
      },
      "source": [
        "**As we can see most of the null values are for the project post types we will create a new category called project and assign it to the null values and when ever a user leaves the category field empty we will assign it to project as default**"
      ]
    },
    {
      "cell_type": "code",
      "metadata": {
        "id": "Ogqln3t76OjS",
        "colab_type": "code",
        "colab": {}
      },
      "source": [
        "posts_df[posts_df['category'].isna()]='project'"
      ],
      "execution_count": 0,
      "outputs": []
    },
    {
      "cell_type": "markdown",
      "metadata": {
        "id": "iV0kTtSm6k6r",
        "colab_type": "text"
      },
      "source": [
        "**As we have imputed the null values lets check again**"
      ]
    },
    {
      "cell_type": "code",
      "metadata": {
        "id": "fbSLvD7D6e2q",
        "colab_type": "code",
        "colab": {
          "base_uri": "https://localhost:8080/",
          "height": 101
        },
        "outputId": "b8872583-b5c7-4d36-fef3-dd2b2fac6d22"
      },
      "source": [
        "posts_df.isna().any()"
      ],
      "execution_count": 51,
      "outputs": [
        {
          "output_type": "execute_result",
          "data": {
            "text/plain": [
              "_id           False\n",
              "title         False\n",
              "category      False\n",
              " post_type    False\n",
              "dtype: bool"
            ]
          },
          "metadata": {
            "tags": []
          },
          "execution_count": 51
        }
      ]
    },
    {
      "cell_type": "markdown",
      "metadata": {
        "id": "DJvcYDVM-NwF",
        "colab_type": "text"
      },
      "source": [
        "**Now lets see how many unique categories are present in the dataset**"
      ]
    },
    {
      "cell_type": "code",
      "metadata": {
        "id": "ydrCZASi-YkF",
        "colab_type": "code",
        "colab": {
          "base_uri": "https://localhost:8080/",
          "height": 1000
        },
        "outputId": "dd61d766-bb17-42f0-8569-cf3395866ddb"
      },
      "source": [
        "posts_df['category'].unique()"
      ],
      "execution_count": 56,
      "outputs": [
        {
          "output_type": "execute_result",
          "data": {
            "text/plain": [
              "array(['Plant Biotechnology',\n",
              "       'Artificial Intelligence|Machine Learning|Information Technology',\n",
              "       'Operating Systems', 'Drawings', 'Competition Laws', 'Eco System',\n",
              "       'Economic Policies', 'Graphic|Graphic Design', 'Painting',\n",
              "       'Pen and ink', 'Computer Technology|Information Technology',\n",
              "       'Drawings|Painting',\n",
              "       'Graphic Design|Visual Arts|Illustration|Graphic',\n",
              "       'Drawings|Calligraphy', 'Photography', 'Empowerment', 'project',\n",
              "       'Video editing', 'Inorganic Chemistry', 'Programming languages',\n",
              "       'Conceptual|Graphic Design', 'HR Management',\n",
              "       'Human Resources|HR Management',\n",
              "       'Mass Media|International Relations', 'Sculptures|Artistic design',\n",
              "       'Fashion Design|Ceramics|Artistic design', 'Craft|Artistic design',\n",
              "       'Fashion Design|Visual Arts|Conceptual|Artistic design',\n",
              "       'Photography|Fashion Design|Visual Arts|Graphic Design|Artistic design',\n",
              "       'Fashion Design|Visual Arts|Graphic Design|Artistic design|Graphic|Illustration',\n",
              "       'Mathematics|Linear Algebra',\n",
              "       'Electronics & electrical Technology|Electrical Machines',\n",
              "       'Auditing|Internal Audit', 'E Commerce|E Transactions',\n",
              "       'Computer Technology|Computation',\n",
              "       'Auditing|Internal Financial Control', 'Taxation|Custom Laws',\n",
              "       'Auditing|Audit Evidence', 'Taxation|GST', 'Taxation|Direct Tax',\n",
              "       'Auditing|Secratarial Audit', 'Banking|Banking Companies',\n",
              "       'Banking|Banking Technology', 'Auditing|Audit Remark',\n",
              "       'Auditing|Cost Audit', 'Auditing|Statuary Audit',\n",
              "       'Computer Technology|Programming languages',\n",
              "       'Legal Studies|Legal System', 'Sports Coaching|Sports Law',\n",
              "       'Economics|Economics Sociology', 'Economics|Revenue Concept',\n",
              "       'Human Rights|Rights and Duties',\n",
              "       'Sociology|Sociology of Religion', 'Sociology|Sociology in India',\n",
              "       'Political Science|International Politics',\n",
              "       'Political Science|Colonialism In India',\n",
              "       'Legal Studies|Labor Law',\n",
              "       'Computer Technology|Design and Analysis of Algorithms|Programming languages',\n",
              "       'Computer Technology|Computer Application|Programming languages|Information Technology',\n",
              "       'Graphics|Computer Creation', 'E Commerce|Other Online Platforms',\n",
              "       'Drawing', 'Drawings|Artistic design',\n",
              "       'Drawings|Artistic design|Illustration',\n",
              "       'E Commerce|Shopping Platform|Other Online Platforms',\n",
              "       'Computer Technology|Hardware|Information Technology',\n",
              "       'Computer Technology|Computation|Computer Application',\n",
              "       'Business|Business Skills',\n",
              "       'Computer Technology|Computer Application|Hardware|Information Technology',\n",
              "       'Computer Technology|Computer Application',\n",
              "       'Computer Technology|Mobile Applications',\n",
              "       'Computer Technology|Computer Application|Operating Systems',\n",
              "       'Computer Technology|Information Technology|Computer Application',\n",
              "       'Computer Technology|Computer Application|Information Technology',\n",
              "       'Communication|Basics of Communiaction',\n",
              "       'Drawings|Painting|Visual Arts|Graphic Design|Prints|Illustration',\n",
              "       'Drawings|Visual Arts|Painting|Graphic Design|Artistic design|Illustration',\n",
              "       'Computer Technology|Artificial Intelligence',\n",
              "       'Marketing|Advertising', 'Political Science|Political Thought',\n",
              "       'Accounting|Fundamental Of Accounting', 'Mixed Media',\n",
              "       'Management|Team Mangememnt',\n",
              "       'Business|Corporate Social Responsibilities',\n",
              "       'Philosophy|Applied Ethics',\n",
              "       'Human Resources|Performance In Organization|Organizational Behaviour|HR Management',\n",
              "       'Fashion Desigining|Fashion Textile|Fashion Manufacturing|Fashion Techniques|Garment Production|Garment Technology',\n",
              "       'Marketing|Promotion And Distribution Decisions',\n",
              "       'Biotechnology|Genetic Engineering', 'Physiology|Neurology',\n",
              "       'Mass Media|Indian Government', 'Physiology|Osteology',\n",
              "       'Physiology|Cardiology', 'Zoology|Ecology',\n",
              "       'Computer Technology|Cloud Computing', 'Physiology|Radiology',\n",
              "       'Computer Technology|Operating Systems',\n",
              "       'Biotechnology|Molecular Biology',\n",
              "       'Physiology|Gastroenterology|Cardiology', 'Philosophy|Logic',\n",
              "       'Watercolours', 'Drawings|Watercolours', 'Mixed Media|Conceptual',\n",
              "       'Drawings|Painting|Watercolours', 'Visual Arts', 'Conceptual',\n",
              "       'Tapestry', 'Calligraphy',\n",
              "       'Human Resources|Performance In Organization',\n",
              "       'Computer Technology|Robotics|Data Science|Information Technology|Artificial Intelligence',\n",
              "       'Philosophy|Public Philosophy', 'Digital Marketing',\n",
              "       'Mass Media|Videography',\n",
              "       'Drawings|Painting|Visual Arts|Artistic design|Watercolours|Acrylics',\n",
              "       'Biotechnology|Plant Biotechnology',\n",
              "       'Sports Coaching|Sports Event',\n",
              "       'Political Science|Government and Politics',\n",
              "       'Geography|Physical Geography', 'Computer Technology|Data Science',\n",
              "       'Computer Technology|Machine Learning', 'Graphic Design',\n",
              "       'Graphic Design|Visual Arts', 'Education',\n",
              "       'Business|Business Organisation', 'Zoology|Environmental Biology',\n",
              "       'Human Rights|Fundamental Rights',\n",
              "       'Computer Technology|Design and Analysis of Algorithms',\n",
              "       'Marketing|Marketing Management',\n",
              "       'Accounting|Partnership Accounting|Corporate Accounting|Accounting Theory And Practices',\n",
              "       'Legal Studies|Income Tax Laws',\n",
              "       'Graphics|Articulation|Computer Creation',\n",
              "       'Archeology|Human Prehistory',\n",
              "       'Business|Start Ups|Entreperneurship|Business Strategies|Venture Capitalist|Business Planning',\n",
              "       'Geography|Indian Geography',\n",
              "       'E Commerce|Shopping Platform|Other Online Platforms|Digital India',\n",
              "       'Business|Bio-entrepreneurship', 'Literature|Stories',\n",
              "       'History|Indian History', 'ViDEO',\n",
              "       'Management|Business Management', 'Visual Arts|Photography',\n",
              "       'Social Work|Health Education', 'Social Work|Social Tech',\n",
              "       'Social Work|Humanities', 'Photography|Visual Arts',\n",
              "       'Accounting|Financial Accounting', 'Psycholgy|Social Psychology',\n",
              "       'Photography|Conceptual', 'Physics|Instrumentation', 'Craft work',\n",
              "       'Social Work|Social Interventions|Substance Abuse',\n",
              "       'Economics|Indian Economy',\n",
              "       'Social Work|Substance Abuse|Social Interventions|Humanities',\n",
              "       'Social Work|Social Interventions|Substance Abuse|Health Education',\n",
              "       'Social Work|Humanities|Social Interventions',\n",
              "       'Finance|Financial Analysis', 'Architecture',\n",
              "       'Photography|Architecture|Painting',\n",
              "       'Computer Technology|Cloud Computing|Artificial Intelligence|Information Technology|Programming languages',\n",
              "       'Computer Technology|Design and Analysis of Algorithms|Web designing|Database Management|Artificial Intelligence',\n",
              "       'Literature|Movements in Literature',\n",
              "       'Physics|Atomic Physics|Energy Physics|Quantum Mecahnics|Instrumentation',\n",
              "       'Business|Business Strategies|Venture Capitalist',\n",
              "       'Photography|Architecture|Illustration',\n",
              "       'Photography|Architecture',\n",
              "       'Human Rights|Fundamental Rights|Protection & Enforcement',\n",
              "       'Environment Studies|Pollution|Environmental Biology',\n",
              "       'Photography|Conceptual|Illustration',\n",
              "       'Physics|Quantum Mecahnics|Industrial Instrumentation|Atomic Physics|Nuclear & Particle Physics|Energy Physics',\n",
              "       'Biotechnology|Environmental Biotechnology',\n",
              "       'Legal Studies|Alternate Dispute Resolution|International Treaties|International Agreement',\n",
              "       'Marketing|Principles Of Marketing|Marketing Research Methadology|Marketing Management|International Marketing',\n",
              "       'Sculptures', 'Psycholgy|Child Development',\n",
              "       'Economics|Economic Policies|Break even Point|Foreign Economy',\n",
              "       'Psycholgy|Psychological Growth',\n",
              "       'Management|Business Management|Technology Mangement|Managerial Activity|Creative And Lateral Management',\n",
              "       'Business',\n",
              "       'Business|Business Strategies|Business Enviorment|New Venture Planning|Foreign Business|Business Organisation',\n",
              "       'Marketing|Principles Of Marketing|International Marketing|Promotion And Distribution Decisions',\n",
              "       'Social Work|NGO', 'Fine Arts|Painting',\n",
              "       'Legal Studies|Legal System|Legal Tradition|Nationality Law|Government Law',\n",
              "       'Business|Entreperneurship|Venture Capitalist|Business Enviorment|Start Ups|Business Planning|New Venture Planning',\n",
              "       'Legal Studies|Company Law|Legal System|Banking Law',\n",
              "       'Computer Technology|Web designing|Artificial Intelligence|Computer Application|Machine Learning|Frontend Development',\n",
              "       'Music', 'Sculptures|Wood Crafts|Craft|Wood carving',\n",
              "       'Fashion Design', 'Painting|Craft|Artistic design',\n",
              "       '2D Composition|Watercolours|Painting',\n",
              "       'Painting|Watercolours|2D Composition',\n",
              "       'Visual Arts|Craft|Conceptual',\n",
              "       'Painting|Visual Arts|Craft|Conceptual',\n",
              "       'Painting|Craft|Mixed Media|2D Composition',\n",
              "       'Visual Arts|Craft|Mixed Media|Conceptual|Mosaic painting',\n",
              "       'Craft|Drawings|Conceptual|2D Composition',\n",
              "       'Craft|Mixed Media|Conceptual|Mosaic painting|2D Composition',\n",
              "       'Video',\n",
              "       'Fashion Desigining|Fashion Illustration|Pattern Cutting|Fashion Communication',\n",
              "       'Biotechnology|Animal Biotechnology',\n",
              "       'Fashion Desigining|Pattern & Culture|Fashion Trends|Fashion Portfoilio',\n",
              "       'Sketch Video',\n",
              "       'Fashion Desigining|Pattern & Culture|Fashion Textile|Fashion Trends',\n",
              "       'Test', 'Professionalism', 'Art', 'Science;Technology',\n",
              "       'Art; Science',\n",
              "       'Fashion Design|Illustration|Watercolours|Drawings',\n",
              "       'Drawings|Fashion Design|Illustration|Watercolours',\n",
              "       'Fashion Design|Illustration|Watercolours',\n",
              "       'Drawings|Fashion Design|Mixed Media|Conceptual|Illustration|Pen and ink|Watercolours',\n",
              "       'Fashion Design|Illustration|Conceptual|Watercolours|Pen and ink',\n",
              "       'Artistic design|Logo Design|Graphic|Illustration',\n",
              "       'Visual Arts|Graphic Design|Artistic design|Graphic|Illustration',\n",
              "       'Learning', 'Photography|Architecture|Visual Arts|Graphic Design',\n",
              "       'Photography|Architecture|Visual Arts|Graphic Design|Artistic design|Graphic|Logo Design',\n",
              "       'Visual Arts|Graphic Design|2D Composition|Logo Design',\n",
              "       'Artistic design',\n",
              "       'Literature|Stories|Fictions|Movements in Literature',\n",
              "       'Technology',\n",
              "       'Computer Technology|Computation|Computer Application|Cloud Computing',\n",
              "       'Visual Arts|Calligraphy|Pen and ink',\n",
              "       'Mixed Media|Calligraphy|Pen and ink', 'Typography|Pen and ink',\n",
              "       'Typography|Calligraphy|Pen and ink',\n",
              "       'Calligraphy|Typography|Pen and ink', 'Calligraphy|Pen and ink',\n",
              "       'Mass Media|Media And Society', 'Science; Technology'],\n",
              "      dtype=object)"
            ]
          },
          "metadata": {
            "tags": []
          },
          "execution_count": 56
        }
      ]
    },
    {
      "cell_type": "markdown",
      "metadata": {
        "id": "kjSSGdU1_9Jj",
        "colab_type": "text"
      },
      "source": [
        "**As we can see the categories conatin multiple categoris we will add more rows to the posts_df by splitting the categories and making one category for each row**"
      ]
    },
    {
      "cell_type": "code",
      "metadata": {
        "id": "oDM-WtcyA5R4",
        "colab_type": "code",
        "colab": {
          "base_uri": "https://localhost:8080/",
          "height": 54
        },
        "outputId": "ec3668d5-2485-451b-f401-d512150cd714"
      },
      "source": [
        "categories = []\n",
        "for i in posts_df['category']:\n",
        "  for j in list(i.split(\"|\")):\n",
        "    if j not in categories:\n",
        "      categories.append(j) \n",
        "print(categories)"
      ],
      "execution_count": 59,
      "outputs": [
        {
          "output_type": "stream",
          "text": [
            "['Plant Biotechnology', 'Artificial Intelligence', 'Machine Learning', 'Information Technology', 'Operating Systems', 'Drawings', 'Competition Laws', 'Eco System', 'Economic Policies', 'Graphic', 'Graphic Design', 'Painting', 'Pen and ink', 'Computer Technology', 'Visual Arts', 'Illustration', 'Calligraphy', 'Photography', 'Empowerment', 'project', 'Video editing', 'Inorganic Chemistry', 'Programming languages', 'Conceptual', 'HR Management', 'Human Resources', 'Mass Media', 'International Relations', 'Sculptures', 'Artistic design', 'Fashion Design', 'Ceramics', 'Craft', 'Mathematics', 'Linear Algebra', 'Electronics & electrical Technology', 'Electrical Machines', 'Auditing', 'Internal Audit', 'E Commerce', 'E Transactions', 'Computation', 'Internal Financial Control', 'Taxation', 'Custom Laws', 'Audit Evidence', 'GST', 'Direct Tax', 'Secratarial Audit', 'Banking', 'Banking Companies', 'Banking Technology', 'Audit Remark', 'Cost Audit', 'Statuary Audit', 'Legal Studies', 'Legal System', 'Sports Coaching', 'Sports Law', 'Economics', 'Economics Sociology', 'Revenue Concept', 'Human Rights', 'Rights and Duties', 'Sociology', 'Sociology of Religion', 'Sociology in India', 'Political Science', 'International Politics', 'Colonialism In India', 'Labor Law', 'Design and Analysis of Algorithms', 'Computer Application', 'Graphics', 'Computer Creation', 'Other Online Platforms', 'Drawing', 'Shopping Platform', 'Hardware', 'Business', 'Business Skills', 'Mobile Applications', 'Communication', 'Basics of Communiaction', 'Prints', 'Marketing', 'Advertising', 'Political Thought', 'Accounting', 'Fundamental Of Accounting', 'Mixed Media', 'Management', 'Team Mangememnt', 'Corporate Social Responsibilities', 'Philosophy', 'Applied Ethics', 'Performance In Organization', 'Organizational Behaviour', 'Fashion Desigining', 'Fashion Textile', 'Fashion Manufacturing', 'Fashion Techniques', 'Garment Production', 'Garment Technology', 'Promotion And Distribution Decisions', 'Biotechnology', 'Genetic Engineering', 'Physiology', 'Neurology', 'Indian Government', 'Osteology', 'Cardiology', 'Zoology', 'Ecology', 'Cloud Computing', 'Radiology', 'Molecular Biology', 'Gastroenterology', 'Logic', 'Watercolours', 'Tapestry', 'Robotics', 'Data Science', 'Public Philosophy', 'Digital Marketing', 'Videography', 'Acrylics', 'Sports Event', 'Government and Politics', 'Geography', 'Physical Geography', 'Education', 'Business Organisation', 'Environmental Biology', 'Fundamental Rights', 'Marketing Management', 'Partnership Accounting', 'Corporate Accounting', 'Accounting Theory And Practices', 'Income Tax Laws', 'Articulation', 'Archeology', 'Human Prehistory', 'Start Ups', 'Entreperneurship', 'Business Strategies', 'Venture Capitalist', 'Business Planning', 'Indian Geography', 'Digital India', 'Bio-entrepreneurship', 'Literature', 'Stories', 'History', 'Indian History', 'ViDEO', 'Business Management', 'Social Work', 'Health Education', 'Social Tech', 'Humanities', 'Financial Accounting', 'Psycholgy', 'Social Psychology', 'Physics', 'Instrumentation', 'Craft work', 'Social Interventions', 'Substance Abuse', 'Indian Economy', 'Finance', 'Financial Analysis', 'Architecture', 'Web designing', 'Database Management', 'Movements in Literature', 'Atomic Physics', 'Energy Physics', 'Quantum Mecahnics', 'Protection & Enforcement', 'Environment Studies', 'Pollution', 'Industrial Instrumentation', 'Nuclear & Particle Physics', 'Environmental Biotechnology', 'Alternate Dispute Resolution', 'International Treaties', 'International Agreement', 'Principles Of Marketing', 'Marketing Research Methadology', 'International Marketing', 'Child Development', 'Break even Point', 'Foreign Economy', 'Psychological Growth', 'Technology Mangement', 'Managerial Activity', 'Creative And Lateral Management', 'Business Enviorment', 'New Venture Planning', 'Foreign Business', 'NGO', 'Fine Arts', 'Legal Tradition', 'Nationality Law', 'Government Law', 'Company Law', 'Banking Law', 'Frontend Development', 'Music', 'Wood Crafts', 'Wood carving', '2D Composition', 'Mosaic painting', 'Video', 'Fashion Illustration', 'Pattern Cutting', 'Fashion Communication', 'Animal Biotechnology', 'Pattern & Culture', 'Fashion Trends', 'Fashion Portfoilio', 'Sketch Video', 'Test', 'Professionalism', 'Art', 'Science;Technology', 'Art; Science', 'Logo Design', 'Learning', 'Fictions', 'Technology', 'Typography', 'Media And Society', 'Science; Technology']\n"
          ],
          "name": "stdout"
        }
      ]
    },
    {
      "cell_type": "markdown",
      "metadata": {
        "id": "-9WJoBJc7JRE",
        "colab_type": "text"
      },
      "source": [
        "##MERGING OF THE DATAFRAMES "
      ]
    }
  ]
}