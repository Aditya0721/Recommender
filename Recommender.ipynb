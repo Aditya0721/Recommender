{
  "nbformat": 4,
  "nbformat_minor": 0,
  "metadata": {
    "colab": {
      "name": "Recommender.ipynb",
      "provenance": [],
      "collapsed_sections": [],
      "toc_visible": true,
      "authorship_tag": "ABX9TyOQPXrZTgbyCzFYUKEJT99t",
      "include_colab_link": true
    },
    "kernelspec": {
      "name": "python3",
      "display_name": "Python 3"
    }
  },
  "cells": [
    {
      "cell_type": "markdown",
      "metadata": {
        "id": "view-in-github",
        "colab_type": "text"
      },
      "source": [
        "<a href=\"https://colab.research.google.com/github/Aditya0721/Recommender/blob/master/Recommender.ipynb\" target=\"_parent\"><img src=\"https://colab.research.google.com/assets/colab-badge.svg\" alt=\"Open In Colab\"/></a>"
      ]
    },
    {
      "cell_type": "markdown",
      "metadata": {
        "id": "cgZyXQPkuf-V",
        "colab_type": "text"
      },
      "source": [
        "\n",
        "# **# The main idea behind the generation of the Recommendation system is to recommend posts using both Collaborative and Content Based Filtering Methods. For Collaborative based filtering we will find out all the categories and find the cosine similarity using item-item collaborative filtering.**\n",
        "```\n",
        "\n"
      ]
    },
    {
      "cell_type": "markdown",
      "metadata": {
        "id": "9zqpa1O8sgAK",
        "colab_type": "text"
      },
      "source": [
        "# **DATA PREPROCESSING**"
      ]
    },
    {
      "cell_type": "markdown",
      "metadata": {
        "id": "AbK_UEwCs6nr",
        "colab_type": "text"
      },
      "source": [
        "## Uploading the datasets and storing it in dataframes"
      ]
    },
    {
      "cell_type": "code",
      "metadata": {
        "id": "fgvlmTujsr3j",
        "colab_type": "code",
        "colab": {}
      },
      "source": [
        "import pandas as pd\n",
        "from google.colab import files\n",
        "import io"
      ],
      "execution_count": 0,
      "outputs": []
    },
    {
      "cell_type": "code",
      "metadata": {
        "id": "Vw225DXpuJn6",
        "colab_type": "code",
        "colab": {}
      },
      "source": [
        "uploaded = files.upload()"
      ],
      "execution_count": 0,
      "outputs": []
    },
    {
      "cell_type": "code",
      "metadata": {
        "id": "elZS-mB4vO0x",
        "colab_type": "code",
        "colab": {}
      },
      "source": [
        "users_df = pd.read_csv('users.csv')\n",
        "users_df.head()"
      ],
      "execution_count": 0,
      "outputs": []
    },
    {
      "cell_type": "code",
      "metadata": {
        "id": "hOLibwYjvz6t",
        "colab_type": "code",
        "colab": {}
      },
      "source": [
        "posts_df = pd.read_csv('posts.csv')\n",
        "posts_df.head()"
      ],
      "execution_count": 0,
      "outputs": []
    },
    {
      "cell_type": "code",
      "metadata": {
        "id": "KAURKMjIwGzT",
        "colab_type": "code",
        "colab": {}
      },
      "source": [
        "views_df = pd.read_csv('views.csv')\n",
        "views_df.head()"
      ],
      "execution_count": 0,
      "outputs": []
    },
    {
      "cell_type": "markdown",
      "metadata": {
        "id": "nWr9osbZxpIe",
        "colab_type": "text"
      },
      "source": [
        "## DETAILS OF THE DATAFRAMES"
      ]
    },
    {
      "cell_type": "code",
      "metadata": {
        "id": "Osovac3dx8n9",
        "colab_type": "code",
        "colab": {}
      },
      "source": [
        "users_df.describe()"
      ],
      "execution_count": 0,
      "outputs": []
    },
    {
      "cell_type": "code",
      "metadata": {
        "id": "2-V1JhUTyRno",
        "colab_type": "code",
        "colab": {}
      },
      "source": [
        "views_df.describe()"
      ],
      "execution_count": 0,
      "outputs": []
    },
    {
      "cell_type": "code",
      "metadata": {
        "id": "VRr6TO64yblb",
        "colab_type": "code",
        "colab": {}
      },
      "source": [
        "posts_df.describe()"
      ],
      "execution_count": 0,
      "outputs": []
    },
    {
      "cell_type": "markdown",
      "metadata": {
        "id": "ZggFrzl7y5fb",
        "colab_type": "text"
      },
      "source": [
        "**checking for null values**"
      ]
    },
    {
      "cell_type": "code",
      "metadata": {
        "id": "WwbCGE1uzDh2",
        "colab_type": "code",
        "colab": {}
      },
      "source": [
        "users_df.isnull().any()\n"
      ],
      "execution_count": 0,
      "outputs": []
    },
    {
      "cell_type": "code",
      "metadata": {
        "id": "WXsX_dLHzlf3",
        "colab_type": "code",
        "colab": {}
      },
      "source": [
        "views_df.isnull().any()"
      ],
      "execution_count": 0,
      "outputs": []
    },
    {
      "cell_type": "code",
      "metadata": {
        "id": "aSf0qPGpzreN",
        "colab_type": "code",
        "colab": {}
      },
      "source": [
        "posts_df.isnull().any()"
      ],
      "execution_count": 0,
      "outputs": []
    },
    {
      "cell_type": "markdown",
      "metadata": {
        "id": "GNfnflIoz1x3",
        "colab_type": "text"
      },
      "source": [
        "**we have got null values in the category column of the posts dataset**"
      ]
    },
    {
      "cell_type": "markdown",
      "metadata": {
        "id": "_KtYHNQ_0EiI",
        "colab_type": "text"
      },
      "source": [
        "**as its a categorical variable we have to fill the null values considering the title and post_type**"
      ]
    },
    {
      "cell_type": "markdown",
      "metadata": {
        "id": "TwC_G4qq3Pgb",
        "colab_type": "text"
      },
      "source": [
        "**counting total number of null values in posts_df**"
      ]
    },
    {
      "cell_type": "code",
      "metadata": {
        "id": "BhmbvuOi0pgb",
        "colab_type": "code",
        "colab": {}
      },
      "source": [
        "posts_df['category'].isna().sum()"
      ],
      "execution_count": 0,
      "outputs": []
    },
    {
      "cell_type": "markdown",
      "metadata": {
        "id": "WDPdLi4t4Feh",
        "colab_type": "text"
      },
      "source": [
        "**finding title and post_type for all 28 null values**"
      ]
    },
    {
      "cell_type": "code",
      "metadata": {
        "id": "lvYNvdvn4BuI",
        "colab_type": "code",
        "colab": {}
      },
      "source": [
        "posts_df[posts_df['category'].isna()]"
      ],
      "execution_count": 0,
      "outputs": []
    },
    {
      "cell_type": "markdown",
      "metadata": {
        "id": "RQYNuDLe5ve4",
        "colab_type": "text"
      },
      "source": [
        "**As we can see most of the null values are for the post_types project we will create a new category called project and assign it to the null values and when ever a user leaves the category field empty we will assign the category field same as the post_type as default**"
      ]
    },
    {
      "cell_type": "code",
      "metadata": {
        "id": "Ogqln3t76OjS",
        "colab_type": "code",
        "colab": {}
      },
      "source": [
        "posts_df[posts_df['category'].isna()]='project'"
      ],
      "execution_count": 0,
      "outputs": []
    },
    {
      "cell_type": "markdown",
      "metadata": {
        "id": "iV0kTtSm6k6r",
        "colab_type": "text"
      },
      "source": [
        "**As we have imputed the null values lets check again**"
      ]
    },
    {
      "cell_type": "code",
      "metadata": {
        "id": "fbSLvD7D6e2q",
        "colab_type": "code",
        "colab": {}
      },
      "source": [
        "posts_df.isna().any()"
      ],
      "execution_count": 0,
      "outputs": []
    },
    {
      "cell_type": "markdown",
      "metadata": {
        "id": "DJvcYDVM-NwF",
        "colab_type": "text"
      },
      "source": [
        "**Now lets see how many unique categories are present in the dataset**"
      ]
    },
    {
      "cell_type": "code",
      "metadata": {
        "id": "ydrCZASi-YkF",
        "colab_type": "code",
        "colab": {}
      },
      "source": [
        "posts_df['category'].unique()"
      ],
      "execution_count": 0,
      "outputs": []
    },
    {
      "cell_type": "markdown",
      "metadata": {
        "id": "kjSSGdU1_9Jj",
        "colab_type": "text"
      },
      "source": [
        "**As we can see some of the categories are combination of multiple categoris we will add more rows to the posts_df by splitting the categories and making one category for each row**"
      ]
    },
    {
      "cell_type": "code",
      "metadata": {
        "id": "oDM-WtcyA5R4",
        "colab_type": "code",
        "colab": {}
      },
      "source": [
        "categories = {}\n",
        "for i in posts_df['category']:\n",
        "  categories.update({i:[]})\n",
        "  for j in list(i.split(\"|\")):\n",
        "      categories[i].append(j) \n",
        "print(categories)"
      ],
      "execution_count": 0,
      "outputs": []
    },
    {
      "cell_type": "markdown",
      "metadata": {
        "id": "P46c4Q7xgCHa",
        "colab_type": "text"
      },
      "source": [
        "**Now lets update posts_df**"
      ]
    },
    {
      "cell_type": "code",
      "metadata": {
        "id": "BHRIry_jg_ph",
        "colab_type": "code",
        "colab": {}
      },
      "source": [
        "updated_data =  []\n",
        "for i in categories:\n",
        "  dummy = posts_df[posts_df['category']==i]\n",
        "  id = dummy['_id'].values[0]\n",
        "  title = dummy['title'].values[0]\n",
        "  post_type = dummy[' post_type'].values[0]\n",
        "  for j in categories[i]:\n",
        "      dict1 = {}\n",
        "      dict1.update({'_id':id})\n",
        "      dict1.update({'title':title})\n",
        "      dict1.update({'category':j})\n",
        "      dict1.update({' post_type':post_type})\n",
        "      updated_data.append(dict1)"
      ],
      "execution_count": 0,
      "outputs": []
    },
    {
      "cell_type": "code",
      "metadata": {
        "id": "G-n7sQu3esJ-",
        "colab_type": "code",
        "colab": {}
      },
      "source": [
        "posts_df_updated = pd.DataFrame(updated_data)\n"
      ],
      "execution_count": 0,
      "outputs": []
    },
    {
      "cell_type": "markdown",
      "metadata": {
        "id": "zKxAa4QA1aZ8",
        "colab_type": "text"
      },
      "source": [
        "**now lets check updated posts_df**"
      ]
    },
    {
      "cell_type": "code",
      "metadata": {
        "id": "jSuZckP4jL85",
        "colab_type": "code",
        "colab": {}
      },
      "source": [
        "posts_df_updated.loc[:, ['_id', 'category', ' post_type']].head()"
      ],
      "execution_count": 0,
      "outputs": []
    },
    {
      "cell_type": "code",
      "metadata": {
        "id": "fnWr1EkRsbRU",
        "colab_type": "code",
        "colab": {}
      },
      "source": [
        "posts_df.loc[:, ['_id', 'category', ' post_type']].head()"
      ],
      "execution_count": 0,
      "outputs": []
    },
    {
      "cell_type": "code",
      "metadata": {
        "id": "sxg1e6G512r9",
        "colab_type": "code",
        "colab": {}
      },
      "source": [
        "posts_df_updated.describe()"
      ],
      "execution_count": 0,
      "outputs": []
    },
    {
      "cell_type": "markdown",
      "metadata": {
        "id": "tUqhgbKi1ryt",
        "colab_type": "text"
      },
      "source": [
        "**As we can see we have successfully created our posts dataframe now we will merge the dataframes**"
      ]
    },
    {
      "cell_type": "markdown",
      "metadata": {
        "id": "-9WJoBJc7JRE",
        "colab_type": "text"
      },
      "source": [
        "##MERGING OF THE DATAFRAMES "
      ]
    },
    {
      "cell_type": "markdown",
      "metadata": {
        "id": "pI1Rpq81rT-K",
        "colab_type": "text"
      },
      "source": [
        "**We will merge views_df and posts_df_updated dataframes as they conatin all the columns and data that we will need for our recommendation system**"
      ]
    },
    {
      "cell_type": "code",
      "metadata": {
        "id": "xkoX98hSrjZC",
        "colab_type": "code",
        "colab": {}
      },
      "source": [
        "views_df.columns"
      ],
      "execution_count": 0,
      "outputs": []
    },
    {
      "cell_type": "code",
      "metadata": {
        "id": "Sug8N0Uir0kV",
        "colab_type": "code",
        "colab": {}
      },
      "source": [
        "posts_df_updated.columns"
      ],
      "execution_count": 0,
      "outputs": []
    },
    {
      "cell_type": "markdown",
      "metadata": {
        "id": "uy30Ua1lsKrd",
        "colab_type": "text"
      },
      "source": [
        "**As we know for merging we need a common column and post_id is the column in the both dataframes but we have to rename one of them to perform the merge operation**\n",
        "**We will change rename _id to post id in the posts_df_updated column** "
      ]
    },
    {
      "cell_type": "code",
      "metadata": {
        "id": "PKZ_O6WqsysF",
        "colab_type": "code",
        "colab": {}
      },
      "source": [
        "posts_df_updated.rename(columns={'_id':'post_id'}, inplace=True)"
      ],
      "execution_count": 0,
      "outputs": []
    },
    {
      "cell_type": "code",
      "metadata": {
        "id": "ZcHLnjIDsJh8",
        "colab_type": "code",
        "colab": {
          "base_uri": "https://localhost:8080/",
          "height": 34
        },
        "outputId": "e009fb79-78e9-49bf-bb27-616053aac6d7"
      },
      "source": [
        "posts_df_updated.columns"
      ],
      "execution_count": 35,
      "outputs": [
        {
          "output_type": "execute_result",
          "data": {
            "text/plain": [
              "Index(['post_id', 'title', 'category', ' post_type'], dtype='object')"
            ]
          },
          "metadata": {
            "tags": []
          },
          "execution_count": 35
        }
      ]
    },
    {
      "cell_type": "code",
      "metadata": {
        "id": "-3Pv27CSt5qK",
        "colab_type": "code",
        "colab": {}
      },
      "source": [
        "main_df = pd.merge(views_df, posts_df_updated)"
      ],
      "execution_count": 0,
      "outputs": []
    },
    {
      "cell_type": "code",
      "metadata": {
        "id": "-8M20CYNuGI2",
        "colab_type": "code",
        "colab": {
          "base_uri": "https://localhost:8080/",
          "height": 34
        },
        "outputId": "226f0c30-7d58-4ceb-cf9a-cb1e680fb787"
      },
      "source": [
        "main_df.columns"
      ],
      "execution_count": 38,
      "outputs": [
        {
          "output_type": "execute_result",
          "data": {
            "text/plain": [
              "Index(['user_id', 'post_id', 'timestamp', 'title', 'category', ' post_type'], dtype='object')"
            ]
          },
          "metadata": {
            "tags": []
          },
          "execution_count": 38
        }
      ]
    },
    {
      "cell_type": "code",
      "metadata": {
        "id": "6qm7H5t8uL0Y",
        "colab_type": "code",
        "colab": {
          "base_uri": "https://localhost:8080/",
          "height": 343
        },
        "outputId": "bfbc6a87-f625-4a20-9fe1-e6081605c4e4"
      },
      "source": [
        "main_df.head(10)"
      ],
      "execution_count": 39,
      "outputs": [
        {
          "output_type": "execute_result",
          "data": {
            "text/html": [
              "<div>\n",
              "<style scoped>\n",
              "    .dataframe tbody tr th:only-of-type {\n",
              "        vertical-align: middle;\n",
              "    }\n",
              "\n",
              "    .dataframe tbody tr th {\n",
              "        vertical-align: top;\n",
              "    }\n",
              "\n",
              "    .dataframe thead th {\n",
              "        text-align: right;\n",
              "    }\n",
              "</style>\n",
              "<table border=\"1\" class=\"dataframe\">\n",
              "  <thead>\n",
              "    <tr style=\"text-align: right;\">\n",
              "      <th></th>\n",
              "      <th>user_id</th>\n",
              "      <th>post_id</th>\n",
              "      <th>timestamp</th>\n",
              "      <th>title</th>\n",
              "      <th>category</th>\n",
              "      <th>post_type</th>\n",
              "    </tr>\n",
              "  </thead>\n",
              "  <tbody>\n",
              "    <tr>\n",
              "      <th>0</th>\n",
              "      <td>5df49b32cc709107827fb3c7</td>\n",
              "      <td>5ec821ddec493f4a2655889e</td>\n",
              "      <td>2020-06-01T10:46:45.131Z</td>\n",
              "      <td>Save Earth.</td>\n",
              "      <td>Visual Arts</td>\n",
              "      <td>artwork</td>\n",
              "    </tr>\n",
              "    <tr>\n",
              "      <th>1</th>\n",
              "      <td>5df49b32cc709107827fb3c7</td>\n",
              "      <td>5ec821ddec493f4a2655889e</td>\n",
              "      <td>2020-06-01T10:46:45.131Z</td>\n",
              "      <td>Save Earth.</td>\n",
              "      <td>Graphic Design</td>\n",
              "      <td>artwork</td>\n",
              "    </tr>\n",
              "    <tr>\n",
              "      <th>2</th>\n",
              "      <td>5df49b32cc709107827fb3c7</td>\n",
              "      <td>5ec821ddec493f4a2655889e</td>\n",
              "      <td>2020-06-01T10:46:45.131Z</td>\n",
              "      <td>Save Earth.</td>\n",
              "      <td>Artistic design</td>\n",
              "      <td>artwork</td>\n",
              "    </tr>\n",
              "    <tr>\n",
              "      <th>3</th>\n",
              "      <td>5df49b32cc709107827fb3c7</td>\n",
              "      <td>5ec821ddec493f4a2655889e</td>\n",
              "      <td>2020-06-01T10:46:45.131Z</td>\n",
              "      <td>Save Earth.</td>\n",
              "      <td>Graphic</td>\n",
              "      <td>artwork</td>\n",
              "    </tr>\n",
              "    <tr>\n",
              "      <th>4</th>\n",
              "      <td>5df49b32cc709107827fb3c7</td>\n",
              "      <td>5ec821ddec493f4a2655889e</td>\n",
              "      <td>2020-06-01T10:46:45.131Z</td>\n",
              "      <td>Save Earth.</td>\n",
              "      <td>Illustration</td>\n",
              "      <td>artwork</td>\n",
              "    </tr>\n",
              "    <tr>\n",
              "      <th>5</th>\n",
              "      <td>5ec3ba5374f7660d73aa1201</td>\n",
              "      <td>5ec821ddec493f4a2655889e</td>\n",
              "      <td>2020-05-24T10:49:55.177Z</td>\n",
              "      <td>Save Earth.</td>\n",
              "      <td>Visual Arts</td>\n",
              "      <td>artwork</td>\n",
              "    </tr>\n",
              "    <tr>\n",
              "      <th>6</th>\n",
              "      <td>5ec3ba5374f7660d73aa1201</td>\n",
              "      <td>5ec821ddec493f4a2655889e</td>\n",
              "      <td>2020-05-24T10:49:55.177Z</td>\n",
              "      <td>Save Earth.</td>\n",
              "      <td>Graphic Design</td>\n",
              "      <td>artwork</td>\n",
              "    </tr>\n",
              "    <tr>\n",
              "      <th>7</th>\n",
              "      <td>5ec3ba5374f7660d73aa1201</td>\n",
              "      <td>5ec821ddec493f4a2655889e</td>\n",
              "      <td>2020-05-24T10:49:55.177Z</td>\n",
              "      <td>Save Earth.</td>\n",
              "      <td>Artistic design</td>\n",
              "      <td>artwork</td>\n",
              "    </tr>\n",
              "    <tr>\n",
              "      <th>8</th>\n",
              "      <td>5ec3ba5374f7660d73aa1201</td>\n",
              "      <td>5ec821ddec493f4a2655889e</td>\n",
              "      <td>2020-05-24T10:49:55.177Z</td>\n",
              "      <td>Save Earth.</td>\n",
              "      <td>Graphic</td>\n",
              "      <td>artwork</td>\n",
              "    </tr>\n",
              "    <tr>\n",
              "      <th>9</th>\n",
              "      <td>5ec3ba5374f7660d73aa1201</td>\n",
              "      <td>5ec821ddec493f4a2655889e</td>\n",
              "      <td>2020-05-24T10:49:55.177Z</td>\n",
              "      <td>Save Earth.</td>\n",
              "      <td>Illustration</td>\n",
              "      <td>artwork</td>\n",
              "    </tr>\n",
              "  </tbody>\n",
              "</table>\n",
              "</div>"
            ],
            "text/plain": [
              "                    user_id  ...  post_type\n",
              "0  5df49b32cc709107827fb3c7  ...    artwork\n",
              "1  5df49b32cc709107827fb3c7  ...    artwork\n",
              "2  5df49b32cc709107827fb3c7  ...    artwork\n",
              "3  5df49b32cc709107827fb3c7  ...    artwork\n",
              "4  5df49b32cc709107827fb3c7  ...    artwork\n",
              "5  5ec3ba5374f7660d73aa1201  ...    artwork\n",
              "6  5ec3ba5374f7660d73aa1201  ...    artwork\n",
              "7  5ec3ba5374f7660d73aa1201  ...    artwork\n",
              "8  5ec3ba5374f7660d73aa1201  ...    artwork\n",
              "9  5ec3ba5374f7660d73aa1201  ...    artwork\n",
              "\n",
              "[10 rows x 6 columns]"
            ]
          },
          "metadata": {
            "tags": []
          },
          "execution_count": 39
        }
      ]
    },
    {
      "cell_type": "code",
      "metadata": {
        "id": "m-X6BfoHwHsW",
        "colab_type": "code",
        "colab": {
          "base_uri": "https://localhost:8080/",
          "height": 975
        },
        "outputId": "7f8307eb-4261-460c-c6fd-79d02e4ac557"
      },
      "source": [
        "main_df.tail(20)"
      ],
      "execution_count": 40,
      "outputs": [
        {
          "output_type": "execute_result",
          "data": {
            "text/html": [
              "<div>\n",
              "<style scoped>\n",
              "    .dataframe tbody tr th:only-of-type {\n",
              "        vertical-align: middle;\n",
              "    }\n",
              "\n",
              "    .dataframe tbody tr th {\n",
              "        vertical-align: top;\n",
              "    }\n",
              "\n",
              "    .dataframe thead th {\n",
              "        text-align: right;\n",
              "    }\n",
              "</style>\n",
              "<table border=\"1\" class=\"dataframe\">\n",
              "  <thead>\n",
              "    <tr style=\"text-align: right;\">\n",
              "      <th></th>\n",
              "      <th>user_id</th>\n",
              "      <th>post_id</th>\n",
              "      <th>timestamp</th>\n",
              "      <th>title</th>\n",
              "      <th>category</th>\n",
              "      <th>post_type</th>\n",
              "    </tr>\n",
              "  </thead>\n",
              "  <tbody>\n",
              "    <tr>\n",
              "      <th>1730</th>\n",
              "      <td>5d610ae1653a331687083239</td>\n",
              "      <td>5e7bd922cfc8b713f5ac7da9</td>\n",
              "      <td>2020-03-27T09:45:14.071Z</td>\n",
              "      <td>What sports will look like in the future</td>\n",
              "      <td>Computer Technology</td>\n",
              "      <td>blog</td>\n",
              "    </tr>\n",
              "    <tr>\n",
              "      <th>1731</th>\n",
              "      <td>5d610ae1653a331687083239</td>\n",
              "      <td>5e7bd922cfc8b713f5ac7da9</td>\n",
              "      <td>2020-03-27T09:45:14.071Z</td>\n",
              "      <td>What sports will look like in the future</td>\n",
              "      <td>Robotics</td>\n",
              "      <td>blog</td>\n",
              "    </tr>\n",
              "    <tr>\n",
              "      <th>1732</th>\n",
              "      <td>5d610ae1653a331687083239</td>\n",
              "      <td>5e7bd922cfc8b713f5ac7da9</td>\n",
              "      <td>2020-03-27T09:45:14.071Z</td>\n",
              "      <td>What sports will look like in the future</td>\n",
              "      <td>Data Science</td>\n",
              "      <td>blog</td>\n",
              "    </tr>\n",
              "    <tr>\n",
              "      <th>1733</th>\n",
              "      <td>5d610ae1653a331687083239</td>\n",
              "      <td>5e7bd922cfc8b713f5ac7da9</td>\n",
              "      <td>2020-03-27T09:45:14.071Z</td>\n",
              "      <td>What sports will look like in the future</td>\n",
              "      <td>Information Technology</td>\n",
              "      <td>blog</td>\n",
              "    </tr>\n",
              "    <tr>\n",
              "      <th>1734</th>\n",
              "      <td>5d610ae1653a331687083239</td>\n",
              "      <td>5e7bd922cfc8b713f5ac7da9</td>\n",
              "      <td>2020-03-27T09:45:14.071Z</td>\n",
              "      <td>What sports will look like in the future</td>\n",
              "      <td>Artificial Intelligence</td>\n",
              "      <td>blog</td>\n",
              "    </tr>\n",
              "    <tr>\n",
              "      <th>1735</th>\n",
              "      <td>5e5855ced701ab08af792b51</td>\n",
              "      <td>5e7bd922cfc8b713f5ac7da9</td>\n",
              "      <td>2020-03-26T21:39:16.764Z</td>\n",
              "      <td>What sports will look like in the future</td>\n",
              "      <td>Computer Technology</td>\n",
              "      <td>blog</td>\n",
              "    </tr>\n",
              "    <tr>\n",
              "      <th>1736</th>\n",
              "      <td>5e5855ced701ab08af792b51</td>\n",
              "      <td>5e7bd922cfc8b713f5ac7da9</td>\n",
              "      <td>2020-03-26T21:39:16.764Z</td>\n",
              "      <td>What sports will look like in the future</td>\n",
              "      <td>Robotics</td>\n",
              "      <td>blog</td>\n",
              "    </tr>\n",
              "    <tr>\n",
              "      <th>1737</th>\n",
              "      <td>5e5855ced701ab08af792b51</td>\n",
              "      <td>5e7bd922cfc8b713f5ac7da9</td>\n",
              "      <td>2020-03-26T21:39:16.764Z</td>\n",
              "      <td>What sports will look like in the future</td>\n",
              "      <td>Data Science</td>\n",
              "      <td>blog</td>\n",
              "    </tr>\n",
              "    <tr>\n",
              "      <th>1738</th>\n",
              "      <td>5e5855ced701ab08af792b51</td>\n",
              "      <td>5e7bd922cfc8b713f5ac7da9</td>\n",
              "      <td>2020-03-26T21:39:16.764Z</td>\n",
              "      <td>What sports will look like in the future</td>\n",
              "      <td>Information Technology</td>\n",
              "      <td>blog</td>\n",
              "    </tr>\n",
              "    <tr>\n",
              "      <th>1739</th>\n",
              "      <td>5e5855ced701ab08af792b51</td>\n",
              "      <td>5e7bd922cfc8b713f5ac7da9</td>\n",
              "      <td>2020-03-26T21:39:16.764Z</td>\n",
              "      <td>What sports will look like in the future</td>\n",
              "      <td>Artificial Intelligence</td>\n",
              "      <td>blog</td>\n",
              "    </tr>\n",
              "    <tr>\n",
              "      <th>1740</th>\n",
              "      <td>5d60098a653a331687083238</td>\n",
              "      <td>5dbc631f99cbb90e4339c7fd</td>\n",
              "      <td>2020-03-28T13:42:50.090Z</td>\n",
              "      <td>Calligraphy</td>\n",
              "      <td>Drawings</td>\n",
              "      <td>artwork</td>\n",
              "    </tr>\n",
              "    <tr>\n",
              "      <th>1741</th>\n",
              "      <td>5d60098a653a331687083238</td>\n",
              "      <td>5dbc631f99cbb90e4339c7fd</td>\n",
              "      <td>2020-03-28T13:42:50.090Z</td>\n",
              "      <td>Calligraphy</td>\n",
              "      <td>Calligraphy</td>\n",
              "      <td>artwork</td>\n",
              "    </tr>\n",
              "    <tr>\n",
              "      <th>1742</th>\n",
              "      <td>5d618359fc5fcf3bdd9a0910</td>\n",
              "      <td>5e773c0bcfc8b713f5ac7ab7</td>\n",
              "      <td>2020-03-28T06:14:14.147Z</td>\n",
              "      <td>Study of Nerves</td>\n",
              "      <td>Physiology</td>\n",
              "      <td>blog</td>\n",
              "    </tr>\n",
              "    <tr>\n",
              "      <th>1743</th>\n",
              "      <td>5d618359fc5fcf3bdd9a0910</td>\n",
              "      <td>5e773c0bcfc8b713f5ac7ab7</td>\n",
              "      <td>2020-03-28T06:14:14.147Z</td>\n",
              "      <td>Study of Nerves</td>\n",
              "      <td>Neurology</td>\n",
              "      <td>blog</td>\n",
              "    </tr>\n",
              "    <tr>\n",
              "      <th>1744</th>\n",
              "      <td>5e7def80a3258347b42f2124</td>\n",
              "      <td>5dd1751db802e41ed198b680</td>\n",
              "      <td>2020-03-27T12:26:18.624Z</td>\n",
              "      <td>Marital Rape - Rape is Rape</td>\n",
              "      <td>Empowerment</td>\n",
              "      <td>blog</td>\n",
              "    </tr>\n",
              "    <tr>\n",
              "      <th>1745</th>\n",
              "      <td>5d60098a653a331687083238</td>\n",
              "      <td>5e294fd1c85ab714a7da6643</td>\n",
              "      <td>2020-03-27T08:41:13.123Z</td>\n",
              "      <td>Personal growth</td>\n",
              "      <td>Mass Media</td>\n",
              "      <td>blog</td>\n",
              "    </tr>\n",
              "    <tr>\n",
              "      <th>1746</th>\n",
              "      <td>5d60098a653a331687083238</td>\n",
              "      <td>5e294fd1c85ab714a7da6643</td>\n",
              "      <td>2020-03-27T08:41:13.123Z</td>\n",
              "      <td>Personal growth</td>\n",
              "      <td>International Relations</td>\n",
              "      <td>blog</td>\n",
              "    </tr>\n",
              "    <tr>\n",
              "      <th>1747</th>\n",
              "      <td>5d60098a653a331687083238</td>\n",
              "      <td>5dc065ca24b883670268772f</td>\n",
              "      <td>2020-03-26T19:10:26.525Z</td>\n",
              "      <td>Colours of pushkar.</td>\n",
              "      <td>Photography</td>\n",
              "      <td>artwork</td>\n",
              "    </tr>\n",
              "    <tr>\n",
              "      <th>1748</th>\n",
              "      <td>5d60098a653a331687083238</td>\n",
              "      <td>5e7a5ebdcfc8b713f5ac7d7f</td>\n",
              "      <td>2020-03-26T19:05:50.403Z</td>\n",
              "      <td>I won the Art.</td>\n",
              "      <td>Conceptual</td>\n",
              "      <td>artwork</td>\n",
              "    </tr>\n",
              "    <tr>\n",
              "      <th>1749</th>\n",
              "      <td>5d60098a653a331687083238</td>\n",
              "      <td>5e7a629ccfc8b713f5ac7d84</td>\n",
              "      <td>2020-03-26T19:01:42.384Z</td>\n",
              "      <td>3D composition.</td>\n",
              "      <td>Tapestry</td>\n",
              "      <td>artwork</td>\n",
              "    </tr>\n",
              "  </tbody>\n",
              "</table>\n",
              "</div>"
            ],
            "text/plain": [
              "                       user_id  ...  post_type\n",
              "1730  5d610ae1653a331687083239  ...       blog\n",
              "1731  5d610ae1653a331687083239  ...       blog\n",
              "1732  5d610ae1653a331687083239  ...       blog\n",
              "1733  5d610ae1653a331687083239  ...       blog\n",
              "1734  5d610ae1653a331687083239  ...       blog\n",
              "1735  5e5855ced701ab08af792b51  ...       blog\n",
              "1736  5e5855ced701ab08af792b51  ...       blog\n",
              "1737  5e5855ced701ab08af792b51  ...       blog\n",
              "1738  5e5855ced701ab08af792b51  ...       blog\n",
              "1739  5e5855ced701ab08af792b51  ...       blog\n",
              "1740  5d60098a653a331687083238  ...    artwork\n",
              "1741  5d60098a653a331687083238  ...    artwork\n",
              "1742  5d618359fc5fcf3bdd9a0910  ...       blog\n",
              "1743  5d618359fc5fcf3bdd9a0910  ...       blog\n",
              "1744  5e7def80a3258347b42f2124  ...       blog\n",
              "1745  5d60098a653a331687083238  ...       blog\n",
              "1746  5d60098a653a331687083238  ...       blog\n",
              "1747  5d60098a653a331687083238  ...    artwork\n",
              "1748  5d60098a653a331687083238  ...    artwork\n",
              "1749  5d60098a653a331687083238  ...    artwork\n",
              "\n",
              "[20 rows x 6 columns]"
            ]
          },
          "metadata": {
            "tags": []
          },
          "execution_count": 40
        }
      ]
    },
    {
      "cell_type": "code",
      "metadata": {
        "id": "XA5cs-Z-wsa-",
        "colab_type": "code",
        "colab": {
          "base_uri": "https://localhost:8080/",
          "height": 166
        },
        "outputId": "79ede568-f795-4f58-d497-d8d35ea9f666"
      },
      "source": [
        "main_df.describe()"
      ],
      "execution_count": 41,
      "outputs": [
        {
          "output_type": "execute_result",
          "data": {
            "text/html": [
              "<div>\n",
              "<style scoped>\n",
              "    .dataframe tbody tr th:only-of-type {\n",
              "        vertical-align: middle;\n",
              "    }\n",
              "\n",
              "    .dataframe tbody tr th {\n",
              "        vertical-align: top;\n",
              "    }\n",
              "\n",
              "    .dataframe thead th {\n",
              "        text-align: right;\n",
              "    }\n",
              "</style>\n",
              "<table border=\"1\" class=\"dataframe\">\n",
              "  <thead>\n",
              "    <tr style=\"text-align: right;\">\n",
              "      <th></th>\n",
              "      <th>user_id</th>\n",
              "      <th>post_id</th>\n",
              "      <th>timestamp</th>\n",
              "      <th>title</th>\n",
              "      <th>category</th>\n",
              "      <th>post_type</th>\n",
              "    </tr>\n",
              "  </thead>\n",
              "  <tbody>\n",
              "    <tr>\n",
              "      <th>count</th>\n",
              "      <td>1750</td>\n",
              "      <td>1750</td>\n",
              "      <td>1750</td>\n",
              "      <td>1750</td>\n",
              "      <td>1750</td>\n",
              "      <td>1750</td>\n",
              "    </tr>\n",
              "    <tr>\n",
              "      <th>unique</th>\n",
              "      <td>88</td>\n",
              "      <td>231</td>\n",
              "      <td>626</td>\n",
              "      <td>227</td>\n",
              "      <td>234</td>\n",
              "      <td>3</td>\n",
              "    </tr>\n",
              "    <tr>\n",
              "      <th>top</th>\n",
              "      <td>5d60098a653a331687083238</td>\n",
              "      <td>5ec7abfdec493f4a26558860</td>\n",
              "      <td>2020-05-22T20:11:47.721Z</td>\n",
              "      <td>FASHION ILLUSTRATION (OP ART)</td>\n",
              "      <td>Illustration</td>\n",
              "      <td>blog</td>\n",
              "    </tr>\n",
              "    <tr>\n",
              "      <th>freq</th>\n",
              "      <td>261</td>\n",
              "      <td>63</td>\n",
              "      <td>7</td>\n",
              "      <td>63</td>\n",
              "      <td>78</td>\n",
              "      <td>846</td>\n",
              "    </tr>\n",
              "  </tbody>\n",
              "</table>\n",
              "</div>"
            ],
            "text/plain": [
              "                         user_id  ...  post_type\n",
              "count                       1750  ...       1750\n",
              "unique                        88  ...          3\n",
              "top     5d60098a653a331687083238  ...       blog\n",
              "freq                         261  ...        846\n",
              "\n",
              "[4 rows x 6 columns]"
            ]
          },
          "metadata": {
            "tags": []
          },
          "execution_count": 41
        }
      ]
    },
    {
      "cell_type": "markdown",
      "metadata": {
        "id": "aV4FF6rzwUNh",
        "colab_type": "text"
      },
      "source": [
        "**Now the merging is done and we have our actuall dataframe to work on now lets move to the nect step which is filtering using Collaborative Filtering **"
      ]
    },
    {
      "cell_type": "markdown",
      "metadata": {
        "id": "AEu-EI6jxrum",
        "colab_type": "text"
      },
      "source": [
        "# **Collborative Filtering**"
      ]
    }
  ]
}