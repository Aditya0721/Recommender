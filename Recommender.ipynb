{
  "nbformat": 4,
  "nbformat_minor": 0,
  "metadata": {
    "colab": {
      "name": "Recommender.ipynb",
      "provenance": [],
      "collapsed_sections": [],
      "toc_visible": true,
      "authorship_tag": "ABX9TyOFtaG4PbjpGPp1KXBIBhbD",
      "include_colab_link": true
    },
    "kernelspec": {
      "name": "python3",
      "display_name": "Python 3"
    }
  },
  "cells": [
    {
      "cell_type": "markdown",
      "metadata": {
        "id": "view-in-github",
        "colab_type": "text"
      },
      "source": [
        "<a href=\"https://colab.research.google.com/github/Aditya0721/Recommender/blob/master/Recommender.ipynb\" target=\"_parent\"><img src=\"https://colab.research.google.com/assets/colab-badge.svg\" alt=\"Open In Colab\"/></a>"
      ]
    },
    {
      "cell_type": "markdown",
      "metadata": {
        "id": "cgZyXQPkuf-V",
        "colab_type": "text"
      },
      "source": [
        "\n",
        "# **# The main idea behind the generation of the Recommendation system is to recommend posts using both Collaborative and Content Based Filtering Methods. For Collaborative based filtering we will find out all the categories and find the cosine similarity using user-user collaborative filtering.**\n",
        "```\n",
        "\n"
      ]
    },
    {
      "cell_type": "markdown",
      "metadata": {
        "id": "9zqpa1O8sgAK",
        "colab_type": "text"
      },
      "source": [
        "# **DATA PREPROCESSING**"
      ]
    },
    {
      "cell_type": "markdown",
      "metadata": {
        "id": "AbK_UEwCs6nr",
        "colab_type": "text"
      },
      "source": [
        "## Uploading the datasets and storing it in dataframes"
      ]
    },
    {
      "cell_type": "code",
      "metadata": {
        "id": "fgvlmTujsr3j",
        "colab_type": "code",
        "colab": {}
      },
      "source": [
        "import pandas as pd\n",
        "from google.colab import files\n",
        "import io"
      ],
      "execution_count": 0,
      "outputs": []
    },
    {
      "cell_type": "code",
      "metadata": {
        "id": "Vw225DXpuJn6",
        "colab_type": "code",
        "outputId": "09a9c9ef-9b72-406d-c756-2ae8f29cf109",
        "colab": {
          "resources": {
            "http://localhost:8080/nbextensions/google.colab/files.js": {
              "data": "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",
              "ok": true,
              "headers": [
                [
                  "content-type",
                  "application/javascript"
                ]
              ],
              "status": 200,
              "status_text": ""
            }
          },
          "base_uri": "https://localhost:8080/",
          "height": 142
        }
      },
      "source": [
        "uploaded = files.upload()"
      ],
      "execution_count": 0,
      "outputs": [
        {
          "output_type": "display_data",
          "data": {
            "text/html": [
              "\n",
              "     <input type=\"file\" id=\"files-c22a5ed9-ba63-41e8-8cb1-eab4c42a5dea\" name=\"files[]\" multiple disabled />\n",
              "     <output id=\"result-c22a5ed9-ba63-41e8-8cb1-eab4c42a5dea\">\n",
              "      Upload widget is only available when the cell has been executed in the\n",
              "      current browser session. Please rerun this cell to enable.\n",
              "      </output>\n",
              "      <script src=\"/nbextensions/google.colab/files.js\"></script> "
            ],
            "text/plain": [
              "<IPython.core.display.HTML object>"
            ]
          },
          "metadata": {
            "tags": []
          }
        },
        {
          "output_type": "stream",
          "text": [
            "Saving posts.csv to posts.csv\n",
            "Saving users.csv to users.csv\n",
            "Saving views.csv to views.csv\n"
          ],
          "name": "stdout"
        }
      ]
    },
    {
      "cell_type": "code",
      "metadata": {
        "id": "elZS-mB4vO0x",
        "colab_type": "code",
        "outputId": "02935262-bf99-4f17-8f49-4bfe692cbaf0",
        "colab": {
          "base_uri": "https://localhost:8080/",
          "height": 195
        }
      },
      "source": [
        "users_df = pd.read_csv('users.csv')\n",
        "users_df.head()"
      ],
      "execution_count": 0,
      "outputs": [
        {
          "output_type": "execute_result",
          "data": {
            "text/html": [
              "<div>\n",
              "<style scoped>\n",
              "    .dataframe tbody tr th:only-of-type {\n",
              "        vertical-align: middle;\n",
              "    }\n",
              "\n",
              "    .dataframe tbody tr th {\n",
              "        vertical-align: top;\n",
              "    }\n",
              "\n",
              "    .dataframe thead th {\n",
              "        text-align: right;\n",
              "    }\n",
              "</style>\n",
              "<table border=\"1\" class=\"dataframe\">\n",
              "  <thead>\n",
              "    <tr style=\"text-align: right;\">\n",
              "      <th></th>\n",
              "      <th>_id</th>\n",
              "      <th>name</th>\n",
              "      <th>gender</th>\n",
              "      <th>academics</th>\n",
              "    </tr>\n",
              "  </thead>\n",
              "  <tbody>\n",
              "    <tr>\n",
              "      <th>0</th>\n",
              "      <td>5d60098a653a331687083238</td>\n",
              "      <td>Nivesh Singh Chauhan</td>\n",
              "      <td>male</td>\n",
              "      <td>undergraduate</td>\n",
              "    </tr>\n",
              "    <tr>\n",
              "      <th>1</th>\n",
              "      <td>5d610ae1653a331687083239</td>\n",
              "      <td>Gaurav Sharma</td>\n",
              "      <td>male</td>\n",
              "      <td>graduate</td>\n",
              "    </tr>\n",
              "    <tr>\n",
              "      <th>2</th>\n",
              "      <td>5d618359fc5fcf3bdd9a0910</td>\n",
              "      <td>Akshay Mishra</td>\n",
              "      <td>male</td>\n",
              "      <td>undergraduate</td>\n",
              "    </tr>\n",
              "    <tr>\n",
              "      <th>3</th>\n",
              "      <td>5d6d2bb87fa40e1417a49315</td>\n",
              "      <td>Saksham Mathur</td>\n",
              "      <td>male</td>\n",
              "      <td>undergraduate</td>\n",
              "    </tr>\n",
              "    <tr>\n",
              "      <th>4</th>\n",
              "      <td>5d7c994d5720533e15c3b1e9</td>\n",
              "      <td>Varun Chowhan</td>\n",
              "      <td>male</td>\n",
              "      <td>undergraduate</td>\n",
              "    </tr>\n",
              "  </tbody>\n",
              "</table>\n",
              "</div>"
            ],
            "text/plain": [
              "                        _id                  name gender      academics\n",
              "0  5d60098a653a331687083238  Nivesh Singh Chauhan   male  undergraduate\n",
              "1  5d610ae1653a331687083239         Gaurav Sharma   male       graduate\n",
              "2  5d618359fc5fcf3bdd9a0910         Akshay Mishra   male  undergraduate\n",
              "3  5d6d2bb87fa40e1417a49315        Saksham Mathur   male  undergraduate\n",
              "4  5d7c994d5720533e15c3b1e9         Varun Chowhan   male  undergraduate"
            ]
          },
          "metadata": {
            "tags": []
          },
          "execution_count": 6
        }
      ]
    },
    {
      "cell_type": "code",
      "metadata": {
        "id": "hOLibwYjvz6t",
        "colab_type": "code",
        "outputId": "af7e426c-26af-4d7f-dda7-888d84be5760",
        "colab": {
          "base_uri": "https://localhost:8080/",
          "height": 195
        }
      },
      "source": [
        "posts_df = pd.read_csv('posts.csv')\n",
        "posts_df.head()"
      ],
      "execution_count": 0,
      "outputs": [
        {
          "output_type": "execute_result",
          "data": {
            "text/html": [
              "<div>\n",
              "<style scoped>\n",
              "    .dataframe tbody tr th:only-of-type {\n",
              "        vertical-align: middle;\n",
              "    }\n",
              "\n",
              "    .dataframe tbody tr th {\n",
              "        vertical-align: top;\n",
              "    }\n",
              "\n",
              "    .dataframe thead th {\n",
              "        text-align: right;\n",
              "    }\n",
              "</style>\n",
              "<table border=\"1\" class=\"dataframe\">\n",
              "  <thead>\n",
              "    <tr style=\"text-align: right;\">\n",
              "      <th></th>\n",
              "      <th>_id</th>\n",
              "      <th>title</th>\n",
              "      <th>category</th>\n",
              "      <th>post_type</th>\n",
              "    </tr>\n",
              "  </thead>\n",
              "  <tbody>\n",
              "    <tr>\n",
              "      <th>0</th>\n",
              "      <td>5d62abaa65218653a132c956</td>\n",
              "      <td>hello there</td>\n",
              "      <td>Plant Biotechnology</td>\n",
              "      <td>blog</td>\n",
              "    </tr>\n",
              "    <tr>\n",
              "      <th>1</th>\n",
              "      <td>5d6d39567fa40e1417a4931c</td>\n",
              "      <td>Ml and AI</td>\n",
              "      <td>Artificial Intelligence|Machine Learning|Infor...</td>\n",
              "      <td>blog</td>\n",
              "    </tr>\n",
              "    <tr>\n",
              "      <th>2</th>\n",
              "      <td>5d7d23315720533e15c3b1ee</td>\n",
              "      <td>What is an Operating System ?</td>\n",
              "      <td>Operating Systems</td>\n",
              "      <td>blog</td>\n",
              "    </tr>\n",
              "    <tr>\n",
              "      <th>3</th>\n",
              "      <td>5d7d405e5720533e15c3b1f3</td>\n",
              "      <td>Lord Shiva</td>\n",
              "      <td>Drawings</td>\n",
              "      <td>artwork</td>\n",
              "    </tr>\n",
              "    <tr>\n",
              "      <th>4</th>\n",
              "      <td>5d80dfbc6c53455f896e600e</td>\n",
              "      <td>How Competition law evolved?</td>\n",
              "      <td>Competition Laws</td>\n",
              "      <td>blog</td>\n",
              "    </tr>\n",
              "  </tbody>\n",
              "</table>\n",
              "</div>"
            ],
            "text/plain": [
              "                        _id  ...  post_type\n",
              "0  5d62abaa65218653a132c956  ...       blog\n",
              "1  5d6d39567fa40e1417a4931c  ...       blog\n",
              "2  5d7d23315720533e15c3b1ee  ...       blog\n",
              "3  5d7d405e5720533e15c3b1f3  ...    artwork\n",
              "4  5d80dfbc6c53455f896e600e  ...       blog\n",
              "\n",
              "[5 rows x 4 columns]"
            ]
          },
          "metadata": {
            "tags": []
          },
          "execution_count": 7
        }
      ]
    },
    {
      "cell_type": "code",
      "metadata": {
        "id": "KAURKMjIwGzT",
        "colab_type": "code",
        "outputId": "ea020ef3-2cd8-45cf-ecc1-8827bcc1c919",
        "colab": {
          "base_uri": "https://localhost:8080/",
          "height": 195
        }
      },
      "source": [
        "views_df = pd.read_csv('views.csv')\n",
        "views_df.head()"
      ],
      "execution_count": 0,
      "outputs": [
        {
          "output_type": "execute_result",
          "data": {
            "text/html": [
              "<div>\n",
              "<style scoped>\n",
              "    .dataframe tbody tr th:only-of-type {\n",
              "        vertical-align: middle;\n",
              "    }\n",
              "\n",
              "    .dataframe tbody tr th {\n",
              "        vertical-align: top;\n",
              "    }\n",
              "\n",
              "    .dataframe thead th {\n",
              "        text-align: right;\n",
              "    }\n",
              "</style>\n",
              "<table border=\"1\" class=\"dataframe\">\n",
              "  <thead>\n",
              "    <tr style=\"text-align: right;\">\n",
              "      <th></th>\n",
              "      <th>user_id</th>\n",
              "      <th>post_id</th>\n",
              "      <th>timestamp</th>\n",
              "    </tr>\n",
              "  </thead>\n",
              "  <tbody>\n",
              "    <tr>\n",
              "      <th>0</th>\n",
              "      <td>5df49b32cc709107827fb3c7</td>\n",
              "      <td>5ec821ddec493f4a2655889e</td>\n",
              "      <td>2020-06-01T10:46:45.131Z</td>\n",
              "    </tr>\n",
              "    <tr>\n",
              "      <th>1</th>\n",
              "      <td>5ed3748576027d35905ccaab</td>\n",
              "      <td>5ed4cbadbd514d602c1531a6</td>\n",
              "      <td>2020-06-01T09:39:20.021Z</td>\n",
              "    </tr>\n",
              "    <tr>\n",
              "      <th>2</th>\n",
              "      <td>5ed0defa76027d35905cc2de</td>\n",
              "      <td>5eac305f10426255a7aa9dd3</td>\n",
              "      <td>2020-06-01T08:12:42.682Z</td>\n",
              "    </tr>\n",
              "    <tr>\n",
              "      <th>3</th>\n",
              "      <td>5ed0defa76027d35905cc2de</td>\n",
              "      <td>5ed1ff0276027d35905cc60d</td>\n",
              "      <td>2020-06-01T08:10:23.880Z</td>\n",
              "    </tr>\n",
              "    <tr>\n",
              "      <th>4</th>\n",
              "      <td>5ed0defa76027d35905cc2de</td>\n",
              "      <td>5ed3820f76027d35905ccac8</td>\n",
              "      <td>2020-06-01T08:08:54.124Z</td>\n",
              "    </tr>\n",
              "  </tbody>\n",
              "</table>\n",
              "</div>"
            ],
            "text/plain": [
              "                    user_id                   post_id                 timestamp\n",
              "0  5df49b32cc709107827fb3c7  5ec821ddec493f4a2655889e  2020-06-01T10:46:45.131Z\n",
              "1  5ed3748576027d35905ccaab  5ed4cbadbd514d602c1531a6  2020-06-01T09:39:20.021Z\n",
              "2  5ed0defa76027d35905cc2de  5eac305f10426255a7aa9dd3  2020-06-01T08:12:42.682Z\n",
              "3  5ed0defa76027d35905cc2de  5ed1ff0276027d35905cc60d  2020-06-01T08:10:23.880Z\n",
              "4  5ed0defa76027d35905cc2de  5ed3820f76027d35905ccac8  2020-06-01T08:08:54.124Z"
            ]
          },
          "metadata": {
            "tags": []
          },
          "execution_count": 8
        }
      ]
    },
    {
      "cell_type": "markdown",
      "metadata": {
        "id": "nWr9osbZxpIe",
        "colab_type": "text"
      },
      "source": [
        "## DETAILS OF THE DATAFRAMES"
      ]
    },
    {
      "cell_type": "code",
      "metadata": {
        "id": "Osovac3dx8n9",
        "colab_type": "code",
        "outputId": "4efba8d2-b1aa-4b97-a4f2-627bea27ec4d",
        "colab": {
          "base_uri": "https://localhost:8080/",
          "height": 166
        }
      },
      "source": [
        "users_df.describe()"
      ],
      "execution_count": 0,
      "outputs": [
        {
          "output_type": "execute_result",
          "data": {
            "text/html": [
              "<div>\n",
              "<style scoped>\n",
              "    .dataframe tbody tr th:only-of-type {\n",
              "        vertical-align: middle;\n",
              "    }\n",
              "\n",
              "    .dataframe tbody tr th {\n",
              "        vertical-align: top;\n",
              "    }\n",
              "\n",
              "    .dataframe thead th {\n",
              "        text-align: right;\n",
              "    }\n",
              "</style>\n",
              "<table border=\"1\" class=\"dataframe\">\n",
              "  <thead>\n",
              "    <tr style=\"text-align: right;\">\n",
              "      <th></th>\n",
              "      <th>_id</th>\n",
              "      <th>name</th>\n",
              "      <th>gender</th>\n",
              "      <th>academics</th>\n",
              "    </tr>\n",
              "  </thead>\n",
              "  <tbody>\n",
              "    <tr>\n",
              "      <th>count</th>\n",
              "      <td>118</td>\n",
              "      <td>118</td>\n",
              "      <td>118</td>\n",
              "      <td>118</td>\n",
              "    </tr>\n",
              "    <tr>\n",
              "      <th>unique</th>\n",
              "      <td>118</td>\n",
              "      <td>118</td>\n",
              "      <td>3</td>\n",
              "      <td>3</td>\n",
              "    </tr>\n",
              "    <tr>\n",
              "      <th>top</th>\n",
              "      <td>5e7b30a6cfc8b713f5ac7d95</td>\n",
              "      <td>Harishankar Dubey</td>\n",
              "      <td>male</td>\n",
              "      <td>undergraduate</td>\n",
              "    </tr>\n",
              "    <tr>\n",
              "      <th>freq</th>\n",
              "      <td>1</td>\n",
              "      <td>1</td>\n",
              "      <td>72</td>\n",
              "      <td>68</td>\n",
              "    </tr>\n",
              "  </tbody>\n",
              "</table>\n",
              "</div>"
            ],
            "text/plain": [
              "                             _id               name gender      academics\n",
              "count                        118                118    118            118\n",
              "unique                       118                118      3              3\n",
              "top     5e7b30a6cfc8b713f5ac7d95  Harishankar Dubey   male  undergraduate\n",
              "freq                           1                  1     72             68"
            ]
          },
          "metadata": {
            "tags": []
          },
          "execution_count": 9
        }
      ]
    },
    {
      "cell_type": "code",
      "metadata": {
        "id": "2-V1JhUTyRno",
        "colab_type": "code",
        "outputId": "d732b3f7-0340-47be-9a27-99a2240bbf63",
        "colab": {
          "base_uri": "https://localhost:8080/",
          "height": 166
        }
      },
      "source": [
        "views_df.describe()"
      ],
      "execution_count": 0,
      "outputs": [
        {
          "output_type": "execute_result",
          "data": {
            "text/html": [
              "<div>\n",
              "<style scoped>\n",
              "    .dataframe tbody tr th:only-of-type {\n",
              "        vertical-align: middle;\n",
              "    }\n",
              "\n",
              "    .dataframe tbody tr th {\n",
              "        vertical-align: top;\n",
              "    }\n",
              "\n",
              "    .dataframe thead th {\n",
              "        text-align: right;\n",
              "    }\n",
              "</style>\n",
              "<table border=\"1\" class=\"dataframe\">\n",
              "  <thead>\n",
              "    <tr style=\"text-align: right;\">\n",
              "      <th></th>\n",
              "      <th>user_id</th>\n",
              "      <th>post_id</th>\n",
              "      <th>timestamp</th>\n",
              "    </tr>\n",
              "  </thead>\n",
              "  <tbody>\n",
              "    <tr>\n",
              "      <th>count</th>\n",
              "      <td>1449</td>\n",
              "      <td>1449</td>\n",
              "      <td>1449</td>\n",
              "    </tr>\n",
              "    <tr>\n",
              "      <th>unique</th>\n",
              "      <td>118</td>\n",
              "      <td>495</td>\n",
              "      <td>1449</td>\n",
              "    </tr>\n",
              "    <tr>\n",
              "      <th>top</th>\n",
              "      <td>5d60098a653a331687083238</td>\n",
              "      <td>5ec1fd0974f7660d73aa0fd5</td>\n",
              "      <td>2020-04-06T17:50:28.504Z</td>\n",
              "    </tr>\n",
              "    <tr>\n",
              "      <th>freq</th>\n",
              "      <td>230</td>\n",
              "      <td>18</td>\n",
              "      <td>1</td>\n",
              "    </tr>\n",
              "  </tbody>\n",
              "</table>\n",
              "</div>"
            ],
            "text/plain": [
              "                         user_id  ...                 timestamp\n",
              "count                       1449  ...                      1449\n",
              "unique                       118  ...                      1449\n",
              "top     5d60098a653a331687083238  ...  2020-04-06T17:50:28.504Z\n",
              "freq                         230  ...                         1\n",
              "\n",
              "[4 rows x 3 columns]"
            ]
          },
          "metadata": {
            "tags": []
          },
          "execution_count": 10
        }
      ]
    },
    {
      "cell_type": "code",
      "metadata": {
        "id": "VRr6TO64yblb",
        "colab_type": "code",
        "outputId": "950f4da8-9fef-402b-b460-c6ed8d3f5046",
        "colab": {
          "base_uri": "https://localhost:8080/",
          "height": 166
        }
      },
      "source": [
        "posts_df.describe()"
      ],
      "execution_count": 0,
      "outputs": [
        {
          "output_type": "execute_result",
          "data": {
            "text/html": [
              "<div>\n",
              "<style scoped>\n",
              "    .dataframe tbody tr th:only-of-type {\n",
              "        vertical-align: middle;\n",
              "    }\n",
              "\n",
              "    .dataframe tbody tr th {\n",
              "        vertical-align: top;\n",
              "    }\n",
              "\n",
              "    .dataframe thead th {\n",
              "        text-align: right;\n",
              "    }\n",
              "</style>\n",
              "<table border=\"1\" class=\"dataframe\">\n",
              "  <thead>\n",
              "    <tr style=\"text-align: right;\">\n",
              "      <th></th>\n",
              "      <th>_id</th>\n",
              "      <th>title</th>\n",
              "      <th>category</th>\n",
              "      <th>post_type</th>\n",
              "    </tr>\n",
              "  </thead>\n",
              "  <tbody>\n",
              "    <tr>\n",
              "      <th>count</th>\n",
              "      <td>493</td>\n",
              "      <td>493</td>\n",
              "      <td>465</td>\n",
              "      <td>493</td>\n",
              "    </tr>\n",
              "    <tr>\n",
              "      <th>unique</th>\n",
              "      <td>493</td>\n",
              "      <td>477</td>\n",
              "      <td>231</td>\n",
              "      <td>4</td>\n",
              "    </tr>\n",
              "    <tr>\n",
              "      <th>top</th>\n",
              "      <td>5eb1407c10426255a7aa9fdb</td>\n",
              "      <td>PENCIL RENDERING</td>\n",
              "      <td>Photography</td>\n",
              "      <td>artwork</td>\n",
              "    </tr>\n",
              "    <tr>\n",
              "      <th>freq</th>\n",
              "      <td>1</td>\n",
              "      <td>3</td>\n",
              "      <td>81</td>\n",
              "      <td>241</td>\n",
              "    </tr>\n",
              "  </tbody>\n",
              "</table>\n",
              "</div>"
            ],
            "text/plain": [
              "                             _id             title     category  post_type\n",
              "count                        493               493          465        493\n",
              "unique                       493               477          231          4\n",
              "top     5eb1407c10426255a7aa9fdb  PENCIL RENDERING  Photography    artwork\n",
              "freq                           1                 3           81        241"
            ]
          },
          "metadata": {
            "tags": []
          },
          "execution_count": 11
        }
      ]
    },
    {
      "cell_type": "markdown",
      "metadata": {
        "id": "ZggFrzl7y5fb",
        "colab_type": "text"
      },
      "source": [
        "**checking for null values**"
      ]
    },
    {
      "cell_type": "code",
      "metadata": {
        "id": "WwbCGE1uzDh2",
        "colab_type": "code",
        "outputId": "682d3890-644a-480f-dc02-3c73eacada1e",
        "colab": {
          "base_uri": "https://localhost:8080/",
          "height": 101
        }
      },
      "source": [
        "users_df.isnull().any()\n"
      ],
      "execution_count": 0,
      "outputs": [
        {
          "output_type": "execute_result",
          "data": {
            "text/plain": [
              "_id          False\n",
              "name         False\n",
              "gender       False\n",
              "academics    False\n",
              "dtype: bool"
            ]
          },
          "metadata": {
            "tags": []
          },
          "execution_count": 12
        }
      ]
    },
    {
      "cell_type": "code",
      "metadata": {
        "id": "WXsX_dLHzlf3",
        "colab_type": "code",
        "outputId": "c319da95-1e36-430b-9f77-26f46a8e966b",
        "colab": {
          "base_uri": "https://localhost:8080/",
          "height": 84
        }
      },
      "source": [
        "views_df.isnull().any()"
      ],
      "execution_count": 0,
      "outputs": [
        {
          "output_type": "execute_result",
          "data": {
            "text/plain": [
              "user_id      False\n",
              "post_id      False\n",
              "timestamp    False\n",
              "dtype: bool"
            ]
          },
          "metadata": {
            "tags": []
          },
          "execution_count": 13
        }
      ]
    },
    {
      "cell_type": "code",
      "metadata": {
        "id": "aSf0qPGpzreN",
        "colab_type": "code",
        "outputId": "d311939a-0d4e-41cf-e4c6-4fcf1dfe80ee",
        "colab": {
          "base_uri": "https://localhost:8080/",
          "height": 101
        }
      },
      "source": [
        "posts_df.isnull().any()"
      ],
      "execution_count": 0,
      "outputs": [
        {
          "output_type": "execute_result",
          "data": {
            "text/plain": [
              "_id           False\n",
              "title         False\n",
              "category       True\n",
              " post_type    False\n",
              "dtype: bool"
            ]
          },
          "metadata": {
            "tags": []
          },
          "execution_count": 14
        }
      ]
    },
    {
      "cell_type": "markdown",
      "metadata": {
        "id": "GNfnflIoz1x3",
        "colab_type": "text"
      },
      "source": [
        "**we have got null values in the category column of the posts dataset**"
      ]
    },
    {
      "cell_type": "markdown",
      "metadata": {
        "id": "_KtYHNQ_0EiI",
        "colab_type": "text"
      },
      "source": [
        "**as its a categorical variable we have to fill the null values considering the title and post_type**"
      ]
    },
    {
      "cell_type": "markdown",
      "metadata": {
        "id": "TwC_G4qq3Pgb",
        "colab_type": "text"
      },
      "source": [
        "**counting total number of null values in posts_df**"
      ]
    },
    {
      "cell_type": "code",
      "metadata": {
        "id": "BhmbvuOi0pgb",
        "colab_type": "code",
        "outputId": "3343c008-4ee7-4d50-ae5a-2b55f1a59c36",
        "colab": {
          "base_uri": "https://localhost:8080/",
          "height": 34
        }
      },
      "source": [
        "posts_df['category'].isna().sum()"
      ],
      "execution_count": 0,
      "outputs": [
        {
          "output_type": "execute_result",
          "data": {
            "text/plain": [
              "28"
            ]
          },
          "metadata": {
            "tags": []
          },
          "execution_count": 15
        }
      ]
    },
    {
      "cell_type": "markdown",
      "metadata": {
        "id": "WDPdLi4t4Feh",
        "colab_type": "text"
      },
      "source": [
        "**finding title and post_type for all 28 null values**"
      ]
    },
    {
      "cell_type": "code",
      "metadata": {
        "id": "lvYNvdvn4BuI",
        "colab_type": "code",
        "outputId": "eb805b90-8066-41b9-b3b5-31fef373f5ed",
        "colab": {
          "base_uri": "https://localhost:8080/",
          "height": 876
        }
      },
      "source": [
        "posts_df[posts_df['category'].isna()]"
      ],
      "execution_count": 0,
      "outputs": [
        {
          "output_type": "execute_result",
          "data": {
            "text/html": [
              "<div>\n",
              "<style scoped>\n",
              "    .dataframe tbody tr th:only-of-type {\n",
              "        vertical-align: middle;\n",
              "    }\n",
              "\n",
              "    .dataframe tbody tr th {\n",
              "        vertical-align: top;\n",
              "    }\n",
              "\n",
              "    .dataframe thead th {\n",
              "        text-align: right;\n",
              "    }\n",
              "</style>\n",
              "<table border=\"1\" class=\"dataframe\">\n",
              "  <thead>\n",
              "    <tr style=\"text-align: right;\">\n",
              "      <th></th>\n",
              "      <th>_id</th>\n",
              "      <th>title</th>\n",
              "      <th>category</th>\n",
              "      <th>post_type</th>\n",
              "    </tr>\n",
              "  </thead>\n",
              "  <tbody>\n",
              "    <tr>\n",
              "      <th>24</th>\n",
              "      <td>5ddeb6e80eb5e25a8a07f065</td>\n",
              "      <td>Library Managment System: Software Requirement...</td>\n",
              "      <td>NaN</td>\n",
              "      <td>project</td>\n",
              "    </tr>\n",
              "    <tr>\n",
              "      <th>25</th>\n",
              "      <td>5de179d80eb5e25a8a07f079</td>\n",
              "      <td>Navigation system using BFS DFS algorithms</td>\n",
              "      <td>NaN</td>\n",
              "      <td>project</td>\n",
              "    </tr>\n",
              "    <tr>\n",
              "      <th>29</th>\n",
              "      <td>5dee9b5042a8854bf6eabaaf</td>\n",
              "      <td>Computer Aided Machine Drawing (CAMD)</td>\n",
              "      <td>NaN</td>\n",
              "      <td>project</td>\n",
              "    </tr>\n",
              "    <tr>\n",
              "      <th>65</th>\n",
              "      <td>5e3ea110eab55d319938a7a7</td>\n",
              "      <td>OS</td>\n",
              "      <td>NaN</td>\n",
              "      <td>project</td>\n",
              "    </tr>\n",
              "    <tr>\n",
              "      <th>88</th>\n",
              "      <td>5e4c3873f5561b1994c8e3d9</td>\n",
              "      <td>Bill Calculation(PHP)</td>\n",
              "      <td>NaN</td>\n",
              "      <td>project</td>\n",
              "    </tr>\n",
              "    <tr>\n",
              "      <th>93</th>\n",
              "      <td>5e4da502f5561b1994c8e42c</td>\n",
              "      <td>Prime No.(PHP)</td>\n",
              "      <td>NaN</td>\n",
              "      <td>project</td>\n",
              "    </tr>\n",
              "    <tr>\n",
              "      <th>94</th>\n",
              "      <td>5e4da7c8f5561b1994c8e439</td>\n",
              "      <td>Factorial of a No.(PHP)</td>\n",
              "      <td>NaN</td>\n",
              "      <td>project</td>\n",
              "    </tr>\n",
              "    <tr>\n",
              "      <th>95</th>\n",
              "      <td>5e4dab15f5561b1994c8e446</td>\n",
              "      <td>Palindrome No.(PHP)</td>\n",
              "      <td>NaN</td>\n",
              "      <td>project</td>\n",
              "    </tr>\n",
              "    <tr>\n",
              "      <th>96</th>\n",
              "      <td>5e4ed85af5561b1994c8e470</td>\n",
              "      <td>Factorial (.net)</td>\n",
              "      <td>NaN</td>\n",
              "      <td>project</td>\n",
              "    </tr>\n",
              "    <tr>\n",
              "      <th>97</th>\n",
              "      <td>5e4ed8ccf5561b1994c8e47d</td>\n",
              "      <td>Leap year checking (.net)</td>\n",
              "      <td>NaN</td>\n",
              "      <td>project</td>\n",
              "    </tr>\n",
              "    <tr>\n",
              "      <th>98</th>\n",
              "      <td>5e4edd1bf5561b1994c8e48a</td>\n",
              "      <td>Delegates(.net)</td>\n",
              "      <td>NaN</td>\n",
              "      <td>project</td>\n",
              "    </tr>\n",
              "    <tr>\n",
              "      <th>99</th>\n",
              "      <td>5e4edd87f5561b1994c8e497</td>\n",
              "      <td>Overloading Method(.net)</td>\n",
              "      <td>NaN</td>\n",
              "      <td>project</td>\n",
              "    </tr>\n",
              "    <tr>\n",
              "      <th>227</th>\n",
              "      <td>5e8c2d01a3258347b42f2627</td>\n",
              "      <td>Even and Odd Numbers (PHP)</td>\n",
              "      <td>NaN</td>\n",
              "      <td>project</td>\n",
              "    </tr>\n",
              "    <tr>\n",
              "      <th>228</th>\n",
              "      <td>5e8c993da3258347b42f264d</td>\n",
              "      <td>Armstrong No.(C# .Net)</td>\n",
              "      <td>NaN</td>\n",
              "      <td>project</td>\n",
              "    </tr>\n",
              "    <tr>\n",
              "      <th>229</th>\n",
              "      <td>5e8cb88ea3258347b42f267e</td>\n",
              "      <td>Palindrome (C# .Net)</td>\n",
              "      <td>NaN</td>\n",
              "      <td>project</td>\n",
              "    </tr>\n",
              "    <tr>\n",
              "      <th>230</th>\n",
              "      <td>5e8cc876a3258347b42f26a3</td>\n",
              "      <td>Negative or Positive No. (PHP)</td>\n",
              "      <td>NaN</td>\n",
              "      <td>project</td>\n",
              "    </tr>\n",
              "    <tr>\n",
              "      <th>231</th>\n",
              "      <td>5e8ccfb5a3258347b42f26bc</td>\n",
              "      <td>Friend Number (C# .Net)</td>\n",
              "      <td>NaN</td>\n",
              "      <td>project</td>\n",
              "    </tr>\n",
              "    <tr>\n",
              "      <th>352</th>\n",
              "      <td>5ea5aacd10426255a7aa9b71</td>\n",
              "      <td>Photography Composition</td>\n",
              "      <td>NaN</td>\n",
              "      <td>project</td>\n",
              "    </tr>\n",
              "    <tr>\n",
              "      <th>353</th>\n",
              "      <td>5ea5ce9310426255a7aa9b8d</td>\n",
              "      <td>Photography</td>\n",
              "      <td>NaN</td>\n",
              "      <td>project</td>\n",
              "    </tr>\n",
              "    <tr>\n",
              "      <th>374</th>\n",
              "      <td>5eaf3d4110426255a7aa9f4c</td>\n",
              "      <td>Students Networking!</td>\n",
              "      <td>NaN</td>\n",
              "      <td>blog</td>\n",
              "    </tr>\n",
              "    <tr>\n",
              "      <th>394</th>\n",
              "      <td>5eb1df6d10426255a7aaa029</td>\n",
              "      <td>Novel &amp; Consenent (P.H.P)</td>\n",
              "      <td>NaN</td>\n",
              "      <td>project</td>\n",
              "    </tr>\n",
              "    <tr>\n",
              "      <th>442</th>\n",
              "      <td>5eca8fceeaff6b0c3a58a3c0</td>\n",
              "      <td>Zero-Waste Lifestyle</td>\n",
              "      <td>NaN</td>\n",
              "      <td>project</td>\n",
              "    </tr>\n",
              "    <tr>\n",
              "      <th>463</th>\n",
              "      <td>5ed0e31a76027d35905cc302</td>\n",
              "      <td>Designing Cmos circuit from Boolean expression...</td>\n",
              "      <td>NaN</td>\n",
              "      <td>project</td>\n",
              "    </tr>\n",
              "    <tr>\n",
              "      <th>464</th>\n",
              "      <td>5ed0e65976027d35905cc356</td>\n",
              "      <td>Moore FSM Sequence Detector</td>\n",
              "      <td>NaN</td>\n",
              "      <td>project</td>\n",
              "    </tr>\n",
              "    <tr>\n",
              "      <th>465</th>\n",
              "      <td>5ed0f0c576027d35905cc3c7</td>\n",
              "      <td>Designing Circular Microstrip Antenna</td>\n",
              "      <td>NaN</td>\n",
              "      <td>project</td>\n",
              "    </tr>\n",
              "    <tr>\n",
              "      <th>468</th>\n",
              "      <td>5ed175f176027d35905cc554</td>\n",
              "      <td>GAN's Introduction</td>\n",
              "      <td>NaN</td>\n",
              "      <td>project</td>\n",
              "    </tr>\n",
              "    <tr>\n",
              "      <th>469</th>\n",
              "      <td>5ed175f476027d35905cc562</td>\n",
              "      <td>GAN's Introduction</td>\n",
              "      <td>NaN</td>\n",
              "      <td>project</td>\n",
              "    </tr>\n",
              "    <tr>\n",
              "      <th>490</th>\n",
              "      <td>5ed3ef4cbd514d602c1530f2</td>\n",
              "      <td>Recommendation Engine</td>\n",
              "      <td>NaN</td>\n",
              "      <td>project</td>\n",
              "    </tr>\n",
              "  </tbody>\n",
              "</table>\n",
              "</div>"
            ],
            "text/plain": [
              "                          _id  ...  post_type\n",
              "24   5ddeb6e80eb5e25a8a07f065  ...    project\n",
              "25   5de179d80eb5e25a8a07f079  ...    project\n",
              "29   5dee9b5042a8854bf6eabaaf  ...    project\n",
              "65   5e3ea110eab55d319938a7a7  ...    project\n",
              "88   5e4c3873f5561b1994c8e3d9  ...    project\n",
              "93   5e4da502f5561b1994c8e42c  ...    project\n",
              "94   5e4da7c8f5561b1994c8e439  ...    project\n",
              "95   5e4dab15f5561b1994c8e446  ...    project\n",
              "96   5e4ed85af5561b1994c8e470  ...    project\n",
              "97   5e4ed8ccf5561b1994c8e47d  ...    project\n",
              "98   5e4edd1bf5561b1994c8e48a  ...    project\n",
              "99   5e4edd87f5561b1994c8e497  ...    project\n",
              "227  5e8c2d01a3258347b42f2627  ...    project\n",
              "228  5e8c993da3258347b42f264d  ...    project\n",
              "229  5e8cb88ea3258347b42f267e  ...    project\n",
              "230  5e8cc876a3258347b42f26a3  ...    project\n",
              "231  5e8ccfb5a3258347b42f26bc  ...    project\n",
              "352  5ea5aacd10426255a7aa9b71  ...    project\n",
              "353  5ea5ce9310426255a7aa9b8d  ...    project\n",
              "374  5eaf3d4110426255a7aa9f4c  ...       blog\n",
              "394  5eb1df6d10426255a7aaa029  ...    project\n",
              "442  5eca8fceeaff6b0c3a58a3c0  ...    project\n",
              "463  5ed0e31a76027d35905cc302  ...    project\n",
              "464  5ed0e65976027d35905cc356  ...    project\n",
              "465  5ed0f0c576027d35905cc3c7  ...    project\n",
              "468  5ed175f176027d35905cc554  ...    project\n",
              "469  5ed175f476027d35905cc562  ...    project\n",
              "490  5ed3ef4cbd514d602c1530f2  ...    project\n",
              "\n",
              "[28 rows x 4 columns]"
            ]
          },
          "metadata": {
            "tags": []
          },
          "execution_count": 16
        }
      ]
    },
    {
      "cell_type": "markdown",
      "metadata": {
        "id": "RQYNuDLe5ve4",
        "colab_type": "text"
      },
      "source": [
        "**As we can see most of the null values are for the post_types project we will create a new category called project and assign it to the null values and when ever a user leaves the category field empty we will assign the category field same as the post_type as default**"
      ]
    },
    {
      "cell_type": "code",
      "metadata": {
        "id": "Ogqln3t76OjS",
        "colab_type": "code",
        "colab": {}
      },
      "source": [
        "posts_df[posts_df['category'].isna()]='project'"
      ],
      "execution_count": 0,
      "outputs": []
    },
    {
      "cell_type": "markdown",
      "metadata": {
        "id": "iV0kTtSm6k6r",
        "colab_type": "text"
      },
      "source": [
        "**As we have imputed the null values lets check again**"
      ]
    },
    {
      "cell_type": "code",
      "metadata": {
        "id": "fbSLvD7D6e2q",
        "colab_type": "code",
        "outputId": "5832bad0-af8f-4874-c4ec-564cf5af6ccc",
        "colab": {
          "base_uri": "https://localhost:8080/",
          "height": 101
        }
      },
      "source": [
        "posts_df.isna().any()"
      ],
      "execution_count": 0,
      "outputs": [
        {
          "output_type": "execute_result",
          "data": {
            "text/plain": [
              "_id           False\n",
              "title         False\n",
              "category      False\n",
              " post_type    False\n",
              "dtype: bool"
            ]
          },
          "metadata": {
            "tags": []
          },
          "execution_count": 18
        }
      ]
    },
    {
      "cell_type": "markdown",
      "metadata": {
        "id": "DJvcYDVM-NwF",
        "colab_type": "text"
      },
      "source": [
        "**Now lets see how many unique categories are present in the dataset**"
      ]
    },
    {
      "cell_type": "code",
      "metadata": {
        "id": "ydrCZASi-YkF",
        "colab_type": "code",
        "outputId": "0384db5e-9b12-470d-d095-4fbda0bb6a4b",
        "colab": {
          "base_uri": "https://localhost:8080/",
          "height": 1000
        }
      },
      "source": [
        "posts_df['category'].unique()"
      ],
      "execution_count": 0,
      "outputs": [
        {
          "output_type": "execute_result",
          "data": {
            "text/plain": [
              "array(['Plant Biotechnology',\n",
              "       'Artificial Intelligence|Machine Learning|Information Technology',\n",
              "       'Operating Systems', 'Drawings', 'Competition Laws', 'Eco System',\n",
              "       'Economic Policies', 'Graphic|Graphic Design', 'Painting',\n",
              "       'Pen and ink', 'Computer Technology|Information Technology',\n",
              "       'Drawings|Painting',\n",
              "       'Graphic Design|Visual Arts|Illustration|Graphic',\n",
              "       'Drawings|Calligraphy', 'Photography', 'Empowerment', 'project',\n",
              "       'Video editing', 'Inorganic Chemistry', 'Programming languages',\n",
              "       'Conceptual|Graphic Design', 'HR Management',\n",
              "       'Human Resources|HR Management',\n",
              "       'Mass Media|International Relations', 'Sculptures|Artistic design',\n",
              "       'Fashion Design|Ceramics|Artistic design', 'Craft|Artistic design',\n",
              "       'Fashion Design|Visual Arts|Conceptual|Artistic design',\n",
              "       'Photography|Fashion Design|Visual Arts|Graphic Design|Artistic design',\n",
              "       'Fashion Design|Visual Arts|Graphic Design|Artistic design|Graphic|Illustration',\n",
              "       'Mathematics|Linear Algebra',\n",
              "       'Electronics & electrical Technology|Electrical Machines',\n",
              "       'Auditing|Internal Audit', 'E Commerce|E Transactions',\n",
              "       'Computer Technology|Computation',\n",
              "       'Auditing|Internal Financial Control', 'Taxation|Custom Laws',\n",
              "       'Auditing|Audit Evidence', 'Taxation|GST', 'Taxation|Direct Tax',\n",
              "       'Auditing|Secratarial Audit', 'Banking|Banking Companies',\n",
              "       'Banking|Banking Technology', 'Auditing|Audit Remark',\n",
              "       'Auditing|Cost Audit', 'Auditing|Statuary Audit',\n",
              "       'Computer Technology|Programming languages',\n",
              "       'Legal Studies|Legal System', 'Sports Coaching|Sports Law',\n",
              "       'Economics|Economics Sociology', 'Economics|Revenue Concept',\n",
              "       'Human Rights|Rights and Duties',\n",
              "       'Sociology|Sociology of Religion', 'Sociology|Sociology in India',\n",
              "       'Political Science|International Politics',\n",
              "       'Political Science|Colonialism In India',\n",
              "       'Legal Studies|Labor Law',\n",
              "       'Computer Technology|Design and Analysis of Algorithms|Programming languages',\n",
              "       'Computer Technology|Computer Application|Programming languages|Information Technology',\n",
              "       'Graphics|Computer Creation', 'E Commerce|Other Online Platforms',\n",
              "       'Drawing', 'Drawings|Artistic design',\n",
              "       'Drawings|Artistic design|Illustration',\n",
              "       'E Commerce|Shopping Platform|Other Online Platforms',\n",
              "       'Computer Technology|Hardware|Information Technology',\n",
              "       'Computer Technology|Computation|Computer Application',\n",
              "       'Business|Business Skills',\n",
              "       'Computer Technology|Computer Application|Hardware|Information Technology',\n",
              "       'Computer Technology|Computer Application',\n",
              "       'Computer Technology|Mobile Applications',\n",
              "       'Computer Technology|Computer Application|Operating Systems',\n",
              "       'Computer Technology|Information Technology|Computer Application',\n",
              "       'Computer Technology|Computer Application|Information Technology',\n",
              "       'Communication|Basics of Communiaction',\n",
              "       'Drawings|Painting|Visual Arts|Graphic Design|Prints|Illustration',\n",
              "       'Drawings|Visual Arts|Painting|Graphic Design|Artistic design|Illustration',\n",
              "       'Computer Technology|Artificial Intelligence',\n",
              "       'Marketing|Advertising', 'Political Science|Political Thought',\n",
              "       'Accounting|Fundamental Of Accounting', 'Mixed Media',\n",
              "       'Management|Team Mangememnt',\n",
              "       'Business|Corporate Social Responsibilities',\n",
              "       'Philosophy|Applied Ethics',\n",
              "       'Human Resources|Performance In Organization|Organizational Behaviour|HR Management',\n",
              "       'Fashion Desigining|Fashion Textile|Fashion Manufacturing|Fashion Techniques|Garment Production|Garment Technology',\n",
              "       'Marketing|Promotion And Distribution Decisions',\n",
              "       'Biotechnology|Genetic Engineering', 'Physiology|Neurology',\n",
              "       'Mass Media|Indian Government', 'Physiology|Osteology',\n",
              "       'Physiology|Cardiology', 'Zoology|Ecology',\n",
              "       'Computer Technology|Cloud Computing', 'Physiology|Radiology',\n",
              "       'Computer Technology|Operating Systems',\n",
              "       'Biotechnology|Molecular Biology',\n",
              "       'Physiology|Gastroenterology|Cardiology', 'Philosophy|Logic',\n",
              "       'Watercolours', 'Drawings|Watercolours', 'Mixed Media|Conceptual',\n",
              "       'Drawings|Painting|Watercolours', 'Visual Arts', 'Conceptual',\n",
              "       'Tapestry', 'Calligraphy',\n",
              "       'Human Resources|Performance In Organization',\n",
              "       'Computer Technology|Robotics|Data Science|Information Technology|Artificial Intelligence',\n",
              "       'Philosophy|Public Philosophy', 'Digital Marketing',\n",
              "       'Mass Media|Videography',\n",
              "       'Drawings|Painting|Visual Arts|Artistic design|Watercolours|Acrylics',\n",
              "       'Biotechnology|Plant Biotechnology',\n",
              "       'Sports Coaching|Sports Event',\n",
              "       'Political Science|Government and Politics',\n",
              "       'Geography|Physical Geography', 'Computer Technology|Data Science',\n",
              "       'Computer Technology|Machine Learning', 'Graphic Design',\n",
              "       'Graphic Design|Visual Arts', 'Education',\n",
              "       'Business|Business Organisation', 'Zoology|Environmental Biology',\n",
              "       'Human Rights|Fundamental Rights',\n",
              "       'Computer Technology|Design and Analysis of Algorithms',\n",
              "       'Marketing|Marketing Management',\n",
              "       'Accounting|Partnership Accounting|Corporate Accounting|Accounting Theory And Practices',\n",
              "       'Legal Studies|Income Tax Laws',\n",
              "       'Graphics|Articulation|Computer Creation',\n",
              "       'Archeology|Human Prehistory',\n",
              "       'Business|Start Ups|Entreperneurship|Business Strategies|Venture Capitalist|Business Planning',\n",
              "       'Geography|Indian Geography',\n",
              "       'E Commerce|Shopping Platform|Other Online Platforms|Digital India',\n",
              "       'Business|Bio-entrepreneurship', 'Literature|Stories',\n",
              "       'History|Indian History', 'ViDEO',\n",
              "       'Management|Business Management', 'Visual Arts|Photography',\n",
              "       'Social Work|Health Education', 'Social Work|Social Tech',\n",
              "       'Social Work|Humanities', 'Photography|Visual Arts',\n",
              "       'Accounting|Financial Accounting', 'Psycholgy|Social Psychology',\n",
              "       'Photography|Conceptual', 'Physics|Instrumentation', 'Craft work',\n",
              "       'Social Work|Social Interventions|Substance Abuse',\n",
              "       'Economics|Indian Economy',\n",
              "       'Social Work|Substance Abuse|Social Interventions|Humanities',\n",
              "       'Social Work|Social Interventions|Substance Abuse|Health Education',\n",
              "       'Social Work|Humanities|Social Interventions',\n",
              "       'Finance|Financial Analysis', 'Architecture',\n",
              "       'Photography|Architecture|Painting',\n",
              "       'Computer Technology|Cloud Computing|Artificial Intelligence|Information Technology|Programming languages',\n",
              "       'Computer Technology|Design and Analysis of Algorithms|Web designing|Database Management|Artificial Intelligence',\n",
              "       'Literature|Movements in Literature',\n",
              "       'Physics|Atomic Physics|Energy Physics|Quantum Mecahnics|Instrumentation',\n",
              "       'Business|Business Strategies|Venture Capitalist',\n",
              "       'Photography|Architecture|Illustration',\n",
              "       'Photography|Architecture',\n",
              "       'Human Rights|Fundamental Rights|Protection & Enforcement',\n",
              "       'Environment Studies|Pollution|Environmental Biology',\n",
              "       'Photography|Conceptual|Illustration',\n",
              "       'Physics|Quantum Mecahnics|Industrial Instrumentation|Atomic Physics|Nuclear & Particle Physics|Energy Physics',\n",
              "       'Biotechnology|Environmental Biotechnology',\n",
              "       'Legal Studies|Alternate Dispute Resolution|International Treaties|International Agreement',\n",
              "       'Marketing|Principles Of Marketing|Marketing Research Methadology|Marketing Management|International Marketing',\n",
              "       'Sculptures', 'Psycholgy|Child Development',\n",
              "       'Economics|Economic Policies|Break even Point|Foreign Economy',\n",
              "       'Psycholgy|Psychological Growth',\n",
              "       'Management|Business Management|Technology Mangement|Managerial Activity|Creative And Lateral Management',\n",
              "       'Business',\n",
              "       'Business|Business Strategies|Business Enviorment|New Venture Planning|Foreign Business|Business Organisation',\n",
              "       'Marketing|Principles Of Marketing|International Marketing|Promotion And Distribution Decisions',\n",
              "       'Social Work|NGO', 'Fine Arts|Painting',\n",
              "       'Legal Studies|Legal System|Legal Tradition|Nationality Law|Government Law',\n",
              "       'Business|Entreperneurship|Venture Capitalist|Business Enviorment|Start Ups|Business Planning|New Venture Planning',\n",
              "       'Legal Studies|Company Law|Legal System|Banking Law',\n",
              "       'Computer Technology|Web designing|Artificial Intelligence|Computer Application|Machine Learning|Frontend Development',\n",
              "       'Music', 'Sculptures|Wood Crafts|Craft|Wood carving',\n",
              "       'Fashion Design', 'Painting|Craft|Artistic design',\n",
              "       '2D Composition|Watercolours|Painting',\n",
              "       'Painting|Watercolours|2D Composition',\n",
              "       'Visual Arts|Craft|Conceptual',\n",
              "       'Painting|Visual Arts|Craft|Conceptual',\n",
              "       'Painting|Craft|Mixed Media|2D Composition',\n",
              "       'Visual Arts|Craft|Mixed Media|Conceptual|Mosaic painting',\n",
              "       'Craft|Drawings|Conceptual|2D Composition',\n",
              "       'Craft|Mixed Media|Conceptual|Mosaic painting|2D Composition',\n",
              "       'Video',\n",
              "       'Fashion Desigining|Fashion Illustration|Pattern Cutting|Fashion Communication',\n",
              "       'Biotechnology|Animal Biotechnology',\n",
              "       'Fashion Desigining|Pattern & Culture|Fashion Trends|Fashion Portfoilio',\n",
              "       'Sketch Video',\n",
              "       'Fashion Desigining|Pattern & Culture|Fashion Textile|Fashion Trends',\n",
              "       'Test', 'Professionalism', 'Art', 'Science;Technology',\n",
              "       'Art; Science',\n",
              "       'Fashion Design|Illustration|Watercolours|Drawings',\n",
              "       'Drawings|Fashion Design|Illustration|Watercolours',\n",
              "       'Fashion Design|Illustration|Watercolours',\n",
              "       'Drawings|Fashion Design|Mixed Media|Conceptual|Illustration|Pen and ink|Watercolours',\n",
              "       'Fashion Design|Illustration|Conceptual|Watercolours|Pen and ink',\n",
              "       'Artistic design|Logo Design|Graphic|Illustration',\n",
              "       'Visual Arts|Graphic Design|Artistic design|Graphic|Illustration',\n",
              "       'Learning', 'Photography|Architecture|Visual Arts|Graphic Design',\n",
              "       'Photography|Architecture|Visual Arts|Graphic Design|Artistic design|Graphic|Logo Design',\n",
              "       'Visual Arts|Graphic Design|2D Composition|Logo Design',\n",
              "       'Artistic design',\n",
              "       'Literature|Stories|Fictions|Movements in Literature',\n",
              "       'Technology',\n",
              "       'Computer Technology|Computation|Computer Application|Cloud Computing',\n",
              "       'Visual Arts|Calligraphy|Pen and ink',\n",
              "       'Mixed Media|Calligraphy|Pen and ink', 'Typography|Pen and ink',\n",
              "       'Typography|Calligraphy|Pen and ink',\n",
              "       'Calligraphy|Typography|Pen and ink', 'Calligraphy|Pen and ink',\n",
              "       'Mass Media|Media And Society', 'Science; Technology'],\n",
              "      dtype=object)"
            ]
          },
          "metadata": {
            "tags": []
          },
          "execution_count": 19
        }
      ]
    },
    {
      "cell_type": "markdown",
      "metadata": {
        "id": "kjSSGdU1_9Jj",
        "colab_type": "text"
      },
      "source": [
        "**As we can see some of the categories are combination of multiple categoris we will add more rows to the posts_df by splitting the categories and making one category for each row**"
      ]
    },
    {
      "cell_type": "code",
      "metadata": {
        "id": "oDM-WtcyA5R4",
        "colab_type": "code",
        "outputId": "ac1056d2-36a1-415b-e8ce-95199de54b77",
        "colab": {
          "base_uri": "https://localhost:8080/",
          "height": 54
        }
      },
      "source": [
        "categories = {}\n",
        "for i in posts_df['category']:\n",
        "  categories.update({i:[]})\n",
        "  for j in list(i.split(\"|\")):\n",
        "      categories[i].append(j) \n",
        "print(categories)"
      ],
      "execution_count": 0,
      "outputs": [
        {
          "output_type": "stream",
          "text": [
            "{'Plant Biotechnology': ['Plant Biotechnology'], 'Artificial Intelligence|Machine Learning|Information Technology': ['Artificial Intelligence', 'Machine Learning', 'Information Technology'], 'Operating Systems': ['Operating Systems'], 'Drawings': ['Drawings'], 'Competition Laws': ['Competition Laws'], 'Eco System': ['Eco System'], 'Economic Policies': ['Economic Policies'], 'Graphic|Graphic Design': ['Graphic', 'Graphic Design'], 'Painting': ['Painting'], 'Pen and ink': ['Pen and ink'], 'Computer Technology|Information Technology': ['Computer Technology', 'Information Technology'], 'Drawings|Painting': ['Drawings', 'Painting'], 'Graphic Design|Visual Arts|Illustration|Graphic': ['Graphic Design', 'Visual Arts', 'Illustration', 'Graphic'], 'Drawings|Calligraphy': ['Drawings', 'Calligraphy'], 'Photography': ['Photography'], 'Empowerment': ['Empowerment'], 'project': ['project'], 'Video editing': ['Video editing'], 'Inorganic Chemistry': ['Inorganic Chemistry'], 'Programming languages': ['Programming languages'], 'Conceptual|Graphic Design': ['Conceptual', 'Graphic Design'], 'HR Management': ['HR Management'], 'Human Resources|HR Management': ['Human Resources', 'HR Management'], 'Mass Media|International Relations': ['Mass Media', 'International Relations'], 'Sculptures|Artistic design': ['Sculptures', 'Artistic design'], 'Fashion Design|Ceramics|Artistic design': ['Fashion Design', 'Ceramics', 'Artistic design'], 'Craft|Artistic design': ['Craft', 'Artistic design'], 'Fashion Design|Visual Arts|Conceptual|Artistic design': ['Fashion Design', 'Visual Arts', 'Conceptual', 'Artistic design'], 'Photography|Fashion Design|Visual Arts|Graphic Design|Artistic design': ['Photography', 'Fashion Design', 'Visual Arts', 'Graphic Design', 'Artistic design'], 'Fashion Design|Visual Arts|Graphic Design|Artistic design|Graphic|Illustration': ['Fashion Design', 'Visual Arts', 'Graphic Design', 'Artistic design', 'Graphic', 'Illustration'], 'Mathematics|Linear Algebra': ['Mathematics', 'Linear Algebra'], 'Electronics & electrical Technology|Electrical Machines': ['Electronics & electrical Technology', 'Electrical Machines'], 'Auditing|Internal Audit': ['Auditing', 'Internal Audit'], 'E Commerce|E Transactions': ['E Commerce', 'E Transactions'], 'Computer Technology|Computation': ['Computer Technology', 'Computation'], 'Auditing|Internal Financial Control': ['Auditing', 'Internal Financial Control'], 'Taxation|Custom Laws': ['Taxation', 'Custom Laws'], 'Auditing|Audit Evidence': ['Auditing', 'Audit Evidence'], 'Taxation|GST': ['Taxation', 'GST'], 'Taxation|Direct Tax': ['Taxation', 'Direct Tax'], 'Auditing|Secratarial Audit': ['Auditing', 'Secratarial Audit'], 'Banking|Banking Companies': ['Banking', 'Banking Companies'], 'Banking|Banking Technology': ['Banking', 'Banking Technology'], 'Auditing|Audit Remark': ['Auditing', 'Audit Remark'], 'Auditing|Cost Audit': ['Auditing', 'Cost Audit'], 'Auditing|Statuary Audit': ['Auditing', 'Statuary Audit'], 'Computer Technology|Programming languages': ['Computer Technology', 'Programming languages'], 'Legal Studies|Legal System': ['Legal Studies', 'Legal System'], 'Sports Coaching|Sports Law': ['Sports Coaching', 'Sports Law'], 'Economics|Economics Sociology': ['Economics', 'Economics Sociology'], 'Economics|Revenue Concept': ['Economics', 'Revenue Concept'], 'Human Rights|Rights and Duties': ['Human Rights', 'Rights and Duties'], 'Sociology|Sociology of Religion': ['Sociology', 'Sociology of Religion'], 'Sociology|Sociology in India': ['Sociology', 'Sociology in India'], 'Political Science|International Politics': ['Political Science', 'International Politics'], 'Political Science|Colonialism In India': ['Political Science', 'Colonialism In India'], 'Legal Studies|Labor Law': ['Legal Studies', 'Labor Law'], 'Computer Technology|Design and Analysis of Algorithms|Programming languages': ['Computer Technology', 'Design and Analysis of Algorithms', 'Programming languages'], 'Computer Technology|Computer Application|Programming languages|Information Technology': ['Computer Technology', 'Computer Application', 'Programming languages', 'Information Technology'], 'Graphics|Computer Creation': ['Graphics', 'Computer Creation'], 'E Commerce|Other Online Platforms': ['E Commerce', 'Other Online Platforms'], 'Drawing': ['Drawing'], 'Drawings|Artistic design': ['Drawings', 'Artistic design'], 'Drawings|Artistic design|Illustration': ['Drawings', 'Artistic design', 'Illustration'], 'E Commerce|Shopping Platform|Other Online Platforms': ['E Commerce', 'Shopping Platform', 'Other Online Platforms'], 'Computer Technology|Hardware|Information Technology': ['Computer Technology', 'Hardware', 'Information Technology'], 'Computer Technology|Computation|Computer Application': ['Computer Technology', 'Computation', 'Computer Application'], 'Business|Business Skills': ['Business', 'Business Skills'], 'Computer Technology|Computer Application|Hardware|Information Technology': ['Computer Technology', 'Computer Application', 'Hardware', 'Information Technology'], 'Computer Technology|Computer Application': ['Computer Technology', 'Computer Application'], 'Computer Technology|Mobile Applications': ['Computer Technology', 'Mobile Applications'], 'Computer Technology|Computer Application|Operating Systems': ['Computer Technology', 'Computer Application', 'Operating Systems'], 'Computer Technology|Information Technology|Computer Application': ['Computer Technology', 'Information Technology', 'Computer Application'], 'Computer Technology|Computer Application|Information Technology': ['Computer Technology', 'Computer Application', 'Information Technology'], 'Communication|Basics of Communiaction': ['Communication', 'Basics of Communiaction'], 'Drawings|Painting|Visual Arts|Graphic Design|Prints|Illustration': ['Drawings', 'Painting', 'Visual Arts', 'Graphic Design', 'Prints', 'Illustration'], 'Drawings|Visual Arts|Painting|Graphic Design|Artistic design|Illustration': ['Drawings', 'Visual Arts', 'Painting', 'Graphic Design', 'Artistic design', 'Illustration'], 'Computer Technology|Artificial Intelligence': ['Computer Technology', 'Artificial Intelligence'], 'Marketing|Advertising': ['Marketing', 'Advertising'], 'Political Science|Political Thought': ['Political Science', 'Political Thought'], 'Accounting|Fundamental Of Accounting': ['Accounting', 'Fundamental Of Accounting'], 'Mixed Media': ['Mixed Media'], 'Management|Team Mangememnt': ['Management', 'Team Mangememnt'], 'Business|Corporate Social Responsibilities': ['Business', 'Corporate Social Responsibilities'], 'Philosophy|Applied Ethics': ['Philosophy', 'Applied Ethics'], 'Human Resources|Performance In Organization|Organizational Behaviour|HR Management': ['Human Resources', 'Performance In Organization', 'Organizational Behaviour', 'HR Management'], 'Fashion Desigining|Fashion Textile|Fashion Manufacturing|Fashion Techniques|Garment Production|Garment Technology': ['Fashion Desigining', 'Fashion Textile', 'Fashion Manufacturing', 'Fashion Techniques', 'Garment Production', 'Garment Technology'], 'Marketing|Promotion And Distribution Decisions': ['Marketing', 'Promotion And Distribution Decisions'], 'Biotechnology|Genetic Engineering': ['Biotechnology', 'Genetic Engineering'], 'Physiology|Neurology': ['Physiology', 'Neurology'], 'Mass Media|Indian Government': ['Mass Media', 'Indian Government'], 'Physiology|Osteology': ['Physiology', 'Osteology'], 'Physiology|Cardiology': ['Physiology', 'Cardiology'], 'Zoology|Ecology': ['Zoology', 'Ecology'], 'Computer Technology|Cloud Computing': ['Computer Technology', 'Cloud Computing'], 'Physiology|Radiology': ['Physiology', 'Radiology'], 'Computer Technology|Operating Systems': ['Computer Technology', 'Operating Systems'], 'Biotechnology|Molecular Biology': ['Biotechnology', 'Molecular Biology'], 'Physiology|Gastroenterology|Cardiology': ['Physiology', 'Gastroenterology', 'Cardiology'], 'Philosophy|Logic': ['Philosophy', 'Logic'], 'Watercolours': ['Watercolours'], 'Drawings|Watercolours': ['Drawings', 'Watercolours'], 'Mixed Media|Conceptual': ['Mixed Media', 'Conceptual'], 'Drawings|Painting|Watercolours': ['Drawings', 'Painting', 'Watercolours'], 'Visual Arts': ['Visual Arts'], 'Conceptual': ['Conceptual'], 'Tapestry': ['Tapestry'], 'Calligraphy': ['Calligraphy'], 'Human Resources|Performance In Organization': ['Human Resources', 'Performance In Organization'], 'Computer Technology|Robotics|Data Science|Information Technology|Artificial Intelligence': ['Computer Technology', 'Robotics', 'Data Science', 'Information Technology', 'Artificial Intelligence'], 'Philosophy|Public Philosophy': ['Philosophy', 'Public Philosophy'], 'Digital Marketing': ['Digital Marketing'], 'Mass Media|Videography': ['Mass Media', 'Videography'], 'Drawings|Painting|Visual Arts|Artistic design|Watercolours|Acrylics': ['Drawings', 'Painting', 'Visual Arts', 'Artistic design', 'Watercolours', 'Acrylics'], 'Biotechnology|Plant Biotechnology': ['Biotechnology', 'Plant Biotechnology'], 'Sports Coaching|Sports Event': ['Sports Coaching', 'Sports Event'], 'Political Science|Government and Politics': ['Political Science', 'Government and Politics'], 'Geography|Physical Geography': ['Geography', 'Physical Geography'], 'Computer Technology|Data Science': ['Computer Technology', 'Data Science'], 'Computer Technology|Machine Learning': ['Computer Technology', 'Machine Learning'], 'Graphic Design': ['Graphic Design'], 'Graphic Design|Visual Arts': ['Graphic Design', 'Visual Arts'], 'Education': ['Education'], 'Business|Business Organisation': ['Business', 'Business Organisation'], 'Zoology|Environmental Biology': ['Zoology', 'Environmental Biology'], 'Human Rights|Fundamental Rights': ['Human Rights', 'Fundamental Rights'], 'Computer Technology|Design and Analysis of Algorithms': ['Computer Technology', 'Design and Analysis of Algorithms'], 'Marketing|Marketing Management': ['Marketing', 'Marketing Management'], 'Accounting|Partnership Accounting|Corporate Accounting|Accounting Theory And Practices': ['Accounting', 'Partnership Accounting', 'Corporate Accounting', 'Accounting Theory And Practices'], 'Legal Studies|Income Tax Laws': ['Legal Studies', 'Income Tax Laws'], 'Graphics|Articulation|Computer Creation': ['Graphics', 'Articulation', 'Computer Creation'], 'Archeology|Human Prehistory': ['Archeology', 'Human Prehistory'], 'Business|Start Ups|Entreperneurship|Business Strategies|Venture Capitalist|Business Planning': ['Business', 'Start Ups', 'Entreperneurship', 'Business Strategies', 'Venture Capitalist', 'Business Planning'], 'Geography|Indian Geography': ['Geography', 'Indian Geography'], 'E Commerce|Shopping Platform|Other Online Platforms|Digital India': ['E Commerce', 'Shopping Platform', 'Other Online Platforms', 'Digital India'], 'Business|Bio-entrepreneurship': ['Business', 'Bio-entrepreneurship'], 'Literature|Stories': ['Literature', 'Stories'], 'History|Indian History': ['History', 'Indian History'], 'ViDEO': ['ViDEO'], 'Management|Business Management': ['Management', 'Business Management'], 'Visual Arts|Photography': ['Visual Arts', 'Photography'], 'Social Work|Health Education': ['Social Work', 'Health Education'], 'Social Work|Social Tech': ['Social Work', 'Social Tech'], 'Social Work|Humanities': ['Social Work', 'Humanities'], 'Photography|Visual Arts': ['Photography', 'Visual Arts'], 'Accounting|Financial Accounting': ['Accounting', 'Financial Accounting'], 'Psycholgy|Social Psychology': ['Psycholgy', 'Social Psychology'], 'Photography|Conceptual': ['Photography', 'Conceptual'], 'Physics|Instrumentation': ['Physics', 'Instrumentation'], 'Craft work': ['Craft work'], 'Social Work|Social Interventions|Substance Abuse': ['Social Work', 'Social Interventions', 'Substance Abuse'], 'Economics|Indian Economy': ['Economics', 'Indian Economy'], 'Social Work|Substance Abuse|Social Interventions|Humanities': ['Social Work', 'Substance Abuse', 'Social Interventions', 'Humanities'], 'Social Work|Social Interventions|Substance Abuse|Health Education': ['Social Work', 'Social Interventions', 'Substance Abuse', 'Health Education'], 'Social Work|Humanities|Social Interventions': ['Social Work', 'Humanities', 'Social Interventions'], 'Finance|Financial Analysis': ['Finance', 'Financial Analysis'], 'Architecture': ['Architecture'], 'Photography|Architecture|Painting': ['Photography', 'Architecture', 'Painting'], 'Computer Technology|Cloud Computing|Artificial Intelligence|Information Technology|Programming languages': ['Computer Technology', 'Cloud Computing', 'Artificial Intelligence', 'Information Technology', 'Programming languages'], 'Computer Technology|Design and Analysis of Algorithms|Web designing|Database Management|Artificial Intelligence': ['Computer Technology', 'Design and Analysis of Algorithms', 'Web designing', 'Database Management', 'Artificial Intelligence'], 'Literature|Movements in Literature': ['Literature', 'Movements in Literature'], 'Physics|Atomic Physics|Energy Physics|Quantum Mecahnics|Instrumentation': ['Physics', 'Atomic Physics', 'Energy Physics', 'Quantum Mecahnics', 'Instrumentation'], 'Business|Business Strategies|Venture Capitalist': ['Business', 'Business Strategies', 'Venture Capitalist'], 'Photography|Architecture|Illustration': ['Photography', 'Architecture', 'Illustration'], 'Photography|Architecture': ['Photography', 'Architecture'], 'Human Rights|Fundamental Rights|Protection & Enforcement': ['Human Rights', 'Fundamental Rights', 'Protection & Enforcement'], 'Environment Studies|Pollution|Environmental Biology': ['Environment Studies', 'Pollution', 'Environmental Biology'], 'Photography|Conceptual|Illustration': ['Photography', 'Conceptual', 'Illustration'], 'Physics|Quantum Mecahnics|Industrial Instrumentation|Atomic Physics|Nuclear & Particle Physics|Energy Physics': ['Physics', 'Quantum Mecahnics', 'Industrial Instrumentation', 'Atomic Physics', 'Nuclear & Particle Physics', 'Energy Physics'], 'Biotechnology|Environmental Biotechnology': ['Biotechnology', 'Environmental Biotechnology'], 'Legal Studies|Alternate Dispute Resolution|International Treaties|International Agreement': ['Legal Studies', 'Alternate Dispute Resolution', 'International Treaties', 'International Agreement'], 'Marketing|Principles Of Marketing|Marketing Research Methadology|Marketing Management|International Marketing': ['Marketing', 'Principles Of Marketing', 'Marketing Research Methadology', 'Marketing Management', 'International Marketing'], 'Sculptures': ['Sculptures'], 'Psycholgy|Child Development': ['Psycholgy', 'Child Development'], 'Economics|Economic Policies|Break even Point|Foreign Economy': ['Economics', 'Economic Policies', 'Break even Point', 'Foreign Economy'], 'Psycholgy|Psychological Growth': ['Psycholgy', 'Psychological Growth'], 'Management|Business Management|Technology Mangement|Managerial Activity|Creative And Lateral Management': ['Management', 'Business Management', 'Technology Mangement', 'Managerial Activity', 'Creative And Lateral Management'], 'Business': ['Business'], 'Business|Business Strategies|Business Enviorment|New Venture Planning|Foreign Business|Business Organisation': ['Business', 'Business Strategies', 'Business Enviorment', 'New Venture Planning', 'Foreign Business', 'Business Organisation'], 'Marketing|Principles Of Marketing|International Marketing|Promotion And Distribution Decisions': ['Marketing', 'Principles Of Marketing', 'International Marketing', 'Promotion And Distribution Decisions'], 'Social Work|NGO': ['Social Work', 'NGO'], 'Fine Arts|Painting': ['Fine Arts', 'Painting'], 'Legal Studies|Legal System|Legal Tradition|Nationality Law|Government Law': ['Legal Studies', 'Legal System', 'Legal Tradition', 'Nationality Law', 'Government Law'], 'Business|Entreperneurship|Venture Capitalist|Business Enviorment|Start Ups|Business Planning|New Venture Planning': ['Business', 'Entreperneurship', 'Venture Capitalist', 'Business Enviorment', 'Start Ups', 'Business Planning', 'New Venture Planning'], 'Legal Studies|Company Law|Legal System|Banking Law': ['Legal Studies', 'Company Law', 'Legal System', 'Banking Law'], 'Computer Technology|Web designing|Artificial Intelligence|Computer Application|Machine Learning|Frontend Development': ['Computer Technology', 'Web designing', 'Artificial Intelligence', 'Computer Application', 'Machine Learning', 'Frontend Development'], 'Music': ['Music'], 'Sculptures|Wood Crafts|Craft|Wood carving': ['Sculptures', 'Wood Crafts', 'Craft', 'Wood carving'], 'Fashion Design': ['Fashion Design'], 'Painting|Craft|Artistic design': ['Painting', 'Craft', 'Artistic design'], '2D Composition|Watercolours|Painting': ['2D Composition', 'Watercolours', 'Painting'], 'Painting|Watercolours|2D Composition': ['Painting', 'Watercolours', '2D Composition'], 'Visual Arts|Craft|Conceptual': ['Visual Arts', 'Craft', 'Conceptual'], 'Painting|Visual Arts|Craft|Conceptual': ['Painting', 'Visual Arts', 'Craft', 'Conceptual'], 'Painting|Craft|Mixed Media|2D Composition': ['Painting', 'Craft', 'Mixed Media', '2D Composition'], 'Visual Arts|Craft|Mixed Media|Conceptual|Mosaic painting': ['Visual Arts', 'Craft', 'Mixed Media', 'Conceptual', 'Mosaic painting'], 'Craft|Drawings|Conceptual|2D Composition': ['Craft', 'Drawings', 'Conceptual', '2D Composition'], 'Craft|Mixed Media|Conceptual|Mosaic painting|2D Composition': ['Craft', 'Mixed Media', 'Conceptual', 'Mosaic painting', '2D Composition'], 'Video': ['Video'], 'Fashion Desigining|Fashion Illustration|Pattern Cutting|Fashion Communication': ['Fashion Desigining', 'Fashion Illustration', 'Pattern Cutting', 'Fashion Communication'], 'Biotechnology|Animal Biotechnology': ['Biotechnology', 'Animal Biotechnology'], 'Fashion Desigining|Pattern & Culture|Fashion Trends|Fashion Portfoilio': ['Fashion Desigining', 'Pattern & Culture', 'Fashion Trends', 'Fashion Portfoilio'], 'Sketch Video': ['Sketch Video'], 'Fashion Desigining|Pattern & Culture|Fashion Textile|Fashion Trends': ['Fashion Desigining', 'Pattern & Culture', 'Fashion Textile', 'Fashion Trends'], 'Test': ['Test'], 'Professionalism': ['Professionalism'], 'Art': ['Art'], 'Science;Technology': ['Science;Technology'], 'Art; Science': ['Art; Science'], 'Fashion Design|Illustration|Watercolours|Drawings': ['Fashion Design', 'Illustration', 'Watercolours', 'Drawings'], 'Drawings|Fashion Design|Illustration|Watercolours': ['Drawings', 'Fashion Design', 'Illustration', 'Watercolours'], 'Fashion Design|Illustration|Watercolours': ['Fashion Design', 'Illustration', 'Watercolours'], 'Drawings|Fashion Design|Mixed Media|Conceptual|Illustration|Pen and ink|Watercolours': ['Drawings', 'Fashion Design', 'Mixed Media', 'Conceptual', 'Illustration', 'Pen and ink', 'Watercolours'], 'Fashion Design|Illustration|Conceptual|Watercolours|Pen and ink': ['Fashion Design', 'Illustration', 'Conceptual', 'Watercolours', 'Pen and ink'], 'Artistic design|Logo Design|Graphic|Illustration': ['Artistic design', 'Logo Design', 'Graphic', 'Illustration'], 'Visual Arts|Graphic Design|Artistic design|Graphic|Illustration': ['Visual Arts', 'Graphic Design', 'Artistic design', 'Graphic', 'Illustration'], 'Learning': ['Learning'], 'Photography|Architecture|Visual Arts|Graphic Design': ['Photography', 'Architecture', 'Visual Arts', 'Graphic Design'], 'Photography|Architecture|Visual Arts|Graphic Design|Artistic design|Graphic|Logo Design': ['Photography', 'Architecture', 'Visual Arts', 'Graphic Design', 'Artistic design', 'Graphic', 'Logo Design'], 'Visual Arts|Graphic Design|2D Composition|Logo Design': ['Visual Arts', 'Graphic Design', '2D Composition', 'Logo Design'], 'Artistic design': ['Artistic design'], 'Literature|Stories|Fictions|Movements in Literature': ['Literature', 'Stories', 'Fictions', 'Movements in Literature'], 'Technology': ['Technology'], 'Computer Technology|Computation|Computer Application|Cloud Computing': ['Computer Technology', 'Computation', 'Computer Application', 'Cloud Computing'], 'Visual Arts|Calligraphy|Pen and ink': ['Visual Arts', 'Calligraphy', 'Pen and ink'], 'Mixed Media|Calligraphy|Pen and ink': ['Mixed Media', 'Calligraphy', 'Pen and ink'], 'Typography|Pen and ink': ['Typography', 'Pen and ink'], 'Typography|Calligraphy|Pen and ink': ['Typography', 'Calligraphy', 'Pen and ink'], 'Calligraphy|Typography|Pen and ink': ['Calligraphy', 'Typography', 'Pen and ink'], 'Calligraphy|Pen and ink': ['Calligraphy', 'Pen and ink'], 'Mass Media|Media And Society': ['Mass Media', 'Media And Society'], 'Science; Technology': ['Science; Technology']}\n"
          ],
          "name": "stdout"
        }
      ]
    },
    {
      "cell_type": "markdown",
      "metadata": {
        "id": "P46c4Q7xgCHa",
        "colab_type": "text"
      },
      "source": [
        "**Now lets update posts_df**"
      ]
    },
    {
      "cell_type": "code",
      "metadata": {
        "id": "BHRIry_jg_ph",
        "colab_type": "code",
        "colab": {}
      },
      "source": [
        "updated_data =  []\n",
        "for i in categories:\n",
        "  dummy = posts_df[posts_df['category']==i]\n",
        "  id = dummy['_id'].values[0]\n",
        "  title = dummy['title'].values[0]\n",
        "  post_type = dummy[' post_type'].values[0]\n",
        "  for j in categories[i]:\n",
        "      dict1 = {}\n",
        "      dict1.update({'_id':id})\n",
        "      dict1.update({'title':title})\n",
        "      dict1.update({'category':j})\n",
        "      dict1.update({' post_type':post_type})\n",
        "      updated_data.append(dict1)"
      ],
      "execution_count": 0,
      "outputs": []
    },
    {
      "cell_type": "code",
      "metadata": {
        "id": "G-n7sQu3esJ-",
        "colab_type": "code",
        "colab": {}
      },
      "source": [
        "posts_df_updated = pd.DataFrame(updated_data)\n"
      ],
      "execution_count": 0,
      "outputs": []
    },
    {
      "cell_type": "markdown",
      "metadata": {
        "id": "zKxAa4QA1aZ8",
        "colab_type": "text"
      },
      "source": [
        "**now lets check updated posts_df**"
      ]
    },
    {
      "cell_type": "code",
      "metadata": {
        "id": "jSuZckP4jL85",
        "colab_type": "code",
        "outputId": "5cd9a4ce-8226-453d-e05b-7d7b068c6aa7",
        "colab": {
          "base_uri": "https://localhost:8080/",
          "height": 195
        }
      },
      "source": [
        "posts_df_updated.loc[:, ['_id', 'category', ' post_type']].head()"
      ],
      "execution_count": 0,
      "outputs": [
        {
          "output_type": "execute_result",
          "data": {
            "text/html": [
              "<div>\n",
              "<style scoped>\n",
              "    .dataframe tbody tr th:only-of-type {\n",
              "        vertical-align: middle;\n",
              "    }\n",
              "\n",
              "    .dataframe tbody tr th {\n",
              "        vertical-align: top;\n",
              "    }\n",
              "\n",
              "    .dataframe thead th {\n",
              "        text-align: right;\n",
              "    }\n",
              "</style>\n",
              "<table border=\"1\" class=\"dataframe\">\n",
              "  <thead>\n",
              "    <tr style=\"text-align: right;\">\n",
              "      <th></th>\n",
              "      <th>_id</th>\n",
              "      <th>category</th>\n",
              "      <th>post_type</th>\n",
              "    </tr>\n",
              "  </thead>\n",
              "  <tbody>\n",
              "    <tr>\n",
              "      <th>0</th>\n",
              "      <td>5d62abaa65218653a132c956</td>\n",
              "      <td>Plant Biotechnology</td>\n",
              "      <td>blog</td>\n",
              "    </tr>\n",
              "    <tr>\n",
              "      <th>1</th>\n",
              "      <td>5d6d39567fa40e1417a4931c</td>\n",
              "      <td>Artificial Intelligence</td>\n",
              "      <td>blog</td>\n",
              "    </tr>\n",
              "    <tr>\n",
              "      <th>2</th>\n",
              "      <td>5d6d39567fa40e1417a4931c</td>\n",
              "      <td>Machine Learning</td>\n",
              "      <td>blog</td>\n",
              "    </tr>\n",
              "    <tr>\n",
              "      <th>3</th>\n",
              "      <td>5d6d39567fa40e1417a4931c</td>\n",
              "      <td>Information Technology</td>\n",
              "      <td>blog</td>\n",
              "    </tr>\n",
              "    <tr>\n",
              "      <th>4</th>\n",
              "      <td>5d7d23315720533e15c3b1ee</td>\n",
              "      <td>Operating Systems</td>\n",
              "      <td>blog</td>\n",
              "    </tr>\n",
              "  </tbody>\n",
              "</table>\n",
              "</div>"
            ],
            "text/plain": [
              "                        _id                 category  post_type\n",
              "0  5d62abaa65218653a132c956      Plant Biotechnology       blog\n",
              "1  5d6d39567fa40e1417a4931c  Artificial Intelligence       blog\n",
              "2  5d6d39567fa40e1417a4931c         Machine Learning       blog\n",
              "3  5d6d39567fa40e1417a4931c   Information Technology       blog\n",
              "4  5d7d23315720533e15c3b1ee        Operating Systems       blog"
            ]
          },
          "metadata": {
            "tags": []
          },
          "execution_count": 23
        }
      ]
    },
    {
      "cell_type": "code",
      "metadata": {
        "id": "fnWr1EkRsbRU",
        "colab_type": "code",
        "outputId": "c6c577b7-ab2f-48ef-f427-c2533df25c7f",
        "colab": {
          "base_uri": "https://localhost:8080/",
          "height": 195
        }
      },
      "source": [
        "posts_df.loc[:, ['_id', 'category', ' post_type']].head()"
      ],
      "execution_count": 0,
      "outputs": [
        {
          "output_type": "execute_result",
          "data": {
            "text/html": [
              "<div>\n",
              "<style scoped>\n",
              "    .dataframe tbody tr th:only-of-type {\n",
              "        vertical-align: middle;\n",
              "    }\n",
              "\n",
              "    .dataframe tbody tr th {\n",
              "        vertical-align: top;\n",
              "    }\n",
              "\n",
              "    .dataframe thead th {\n",
              "        text-align: right;\n",
              "    }\n",
              "</style>\n",
              "<table border=\"1\" class=\"dataframe\">\n",
              "  <thead>\n",
              "    <tr style=\"text-align: right;\">\n",
              "      <th></th>\n",
              "      <th>_id</th>\n",
              "      <th>category</th>\n",
              "      <th>post_type</th>\n",
              "    </tr>\n",
              "  </thead>\n",
              "  <tbody>\n",
              "    <tr>\n",
              "      <th>0</th>\n",
              "      <td>5d62abaa65218653a132c956</td>\n",
              "      <td>Plant Biotechnology</td>\n",
              "      <td>blog</td>\n",
              "    </tr>\n",
              "    <tr>\n",
              "      <th>1</th>\n",
              "      <td>5d6d39567fa40e1417a4931c</td>\n",
              "      <td>Artificial Intelligence|Machine Learning|Infor...</td>\n",
              "      <td>blog</td>\n",
              "    </tr>\n",
              "    <tr>\n",
              "      <th>2</th>\n",
              "      <td>5d7d23315720533e15c3b1ee</td>\n",
              "      <td>Operating Systems</td>\n",
              "      <td>blog</td>\n",
              "    </tr>\n",
              "    <tr>\n",
              "      <th>3</th>\n",
              "      <td>5d7d405e5720533e15c3b1f3</td>\n",
              "      <td>Drawings</td>\n",
              "      <td>artwork</td>\n",
              "    </tr>\n",
              "    <tr>\n",
              "      <th>4</th>\n",
              "      <td>5d80dfbc6c53455f896e600e</td>\n",
              "      <td>Competition Laws</td>\n",
              "      <td>blog</td>\n",
              "    </tr>\n",
              "  </tbody>\n",
              "</table>\n",
              "</div>"
            ],
            "text/plain": [
              "                        _id  ...  post_type\n",
              "0  5d62abaa65218653a132c956  ...       blog\n",
              "1  5d6d39567fa40e1417a4931c  ...       blog\n",
              "2  5d7d23315720533e15c3b1ee  ...       blog\n",
              "3  5d7d405e5720533e15c3b1f3  ...    artwork\n",
              "4  5d80dfbc6c53455f896e600e  ...       blog\n",
              "\n",
              "[5 rows x 3 columns]"
            ]
          },
          "metadata": {
            "tags": []
          },
          "execution_count": 24
        }
      ]
    },
    {
      "cell_type": "code",
      "metadata": {
        "id": "sxg1e6G512r9",
        "colab_type": "code",
        "outputId": "d5e5d76f-8606-4c97-efa3-9ce3eb70c3d5",
        "colab": {
          "base_uri": "https://localhost:8080/",
          "height": 166
        }
      },
      "source": [
        "posts_df_updated.describe()"
      ],
      "execution_count": 0,
      "outputs": [
        {
          "output_type": "execute_result",
          "data": {
            "text/html": [
              "<div>\n",
              "<style scoped>\n",
              "    .dataframe tbody tr th:only-of-type {\n",
              "        vertical-align: middle;\n",
              "    }\n",
              "\n",
              "    .dataframe tbody tr th {\n",
              "        vertical-align: top;\n",
              "    }\n",
              "\n",
              "    .dataframe thead th {\n",
              "        text-align: right;\n",
              "    }\n",
              "</style>\n",
              "<table border=\"1\" class=\"dataframe\">\n",
              "  <thead>\n",
              "    <tr style=\"text-align: right;\">\n",
              "      <th></th>\n",
              "      <th>_id</th>\n",
              "      <th>title</th>\n",
              "      <th>category</th>\n",
              "      <th>post_type</th>\n",
              "    </tr>\n",
              "  </thead>\n",
              "  <tbody>\n",
              "    <tr>\n",
              "      <th>count</th>\n",
              "      <td>592</td>\n",
              "      <td>592</td>\n",
              "      <td>592</td>\n",
              "      <td>592</td>\n",
              "    </tr>\n",
              "    <tr>\n",
              "      <th>unique</th>\n",
              "      <td>232</td>\n",
              "      <td>228</td>\n",
              "      <td>235</td>\n",
              "      <td>4</td>\n",
              "    </tr>\n",
              "    <tr>\n",
              "      <th>top</th>\n",
              "      <td>5ec7abfdec493f4a26558860</td>\n",
              "      <td>MOSAIC ART</td>\n",
              "      <td>Computer Technology</td>\n",
              "      <td>blog</td>\n",
              "    </tr>\n",
              "    <tr>\n",
              "      <th>freq</th>\n",
              "      <td>7</td>\n",
              "      <td>10</td>\n",
              "      <td>24</td>\n",
              "      <td>374</td>\n",
              "    </tr>\n",
              "  </tbody>\n",
              "</table>\n",
              "</div>"
            ],
            "text/plain": [
              "                             _id       title             category  post_type\n",
              "count                        592         592                  592        592\n",
              "unique                       232         228                  235          4\n",
              "top     5ec7abfdec493f4a26558860  MOSAIC ART  Computer Technology       blog\n",
              "freq                           7          10                   24        374"
            ]
          },
          "metadata": {
            "tags": []
          },
          "execution_count": 25
        }
      ]
    },
    {
      "cell_type": "markdown",
      "metadata": {
        "id": "tUqhgbKi1ryt",
        "colab_type": "text"
      },
      "source": [
        "**As we can see we have successfully created our posts dataframe now we will merge the dataframes**"
      ]
    },
    {
      "cell_type": "markdown",
      "metadata": {
        "id": "-9WJoBJc7JRE",
        "colab_type": "text"
      },
      "source": [
        "##MERGING OF THE DATAFRAMES "
      ]
    },
    {
      "cell_type": "markdown",
      "metadata": {
        "id": "pI1Rpq81rT-K",
        "colab_type": "text"
      },
      "source": [
        "**We will merge views_df and posts_df_updated dataframes as they conatin all the columns and data that we will need for our recommendation system**"
      ]
    },
    {
      "cell_type": "code",
      "metadata": {
        "id": "xkoX98hSrjZC",
        "colab_type": "code",
        "outputId": "79099d8e-4d89-4a40-8f7b-e0276f2e1aef",
        "colab": {
          "base_uri": "https://localhost:8080/",
          "height": 34
        }
      },
      "source": [
        "views_df.columns"
      ],
      "execution_count": 0,
      "outputs": [
        {
          "output_type": "execute_result",
          "data": {
            "text/plain": [
              "Index(['user_id', 'post_id', 'timestamp'], dtype='object')"
            ]
          },
          "metadata": {
            "tags": []
          },
          "execution_count": 26
        }
      ]
    },
    {
      "cell_type": "code",
      "metadata": {
        "id": "Sug8N0Uir0kV",
        "colab_type": "code",
        "outputId": "d3cd5cea-4df1-4120-f4b9-82d81574cedd",
        "colab": {
          "base_uri": "https://localhost:8080/",
          "height": 34
        }
      },
      "source": [
        "posts_df_updated.columns"
      ],
      "execution_count": 0,
      "outputs": [
        {
          "output_type": "execute_result",
          "data": {
            "text/plain": [
              "Index(['_id', 'title', 'category', ' post_type'], dtype='object')"
            ]
          },
          "metadata": {
            "tags": []
          },
          "execution_count": 27
        }
      ]
    },
    {
      "cell_type": "markdown",
      "metadata": {
        "id": "uy30Ua1lsKrd",
        "colab_type": "text"
      },
      "source": [
        "**As we know for merging we need a common column and post_id is the column in the both dataframes but we have to rename one of them to perform the merge operation**\n",
        "**We will change rename _id to post id in the posts_df_updated column** "
      ]
    },
    {
      "cell_type": "code",
      "metadata": {
        "id": "PKZ_O6WqsysF",
        "colab_type": "code",
        "colab": {}
      },
      "source": [
        "posts_df_updated.rename(columns={'_id':'post_id'}, inplace=True)"
      ],
      "execution_count": 0,
      "outputs": []
    },
    {
      "cell_type": "code",
      "metadata": {
        "id": "ZcHLnjIDsJh8",
        "colab_type": "code",
        "outputId": "9670db35-39c9-4e55-9cb6-4224f0e1e506",
        "colab": {
          "base_uri": "https://localhost:8080/",
          "height": 34
        }
      },
      "source": [
        "posts_df_updated.columns"
      ],
      "execution_count": 0,
      "outputs": [
        {
          "output_type": "execute_result",
          "data": {
            "text/plain": [
              "Index(['post_id', 'title', 'category', ' post_type'], dtype='object')"
            ]
          },
          "metadata": {
            "tags": []
          },
          "execution_count": 29
        }
      ]
    },
    {
      "cell_type": "code",
      "metadata": {
        "id": "-3Pv27CSt5qK",
        "colab_type": "code",
        "colab": {}
      },
      "source": [
        "main_df = pd.merge(views_df, posts_df_updated)"
      ],
      "execution_count": 0,
      "outputs": []
    },
    {
      "cell_type": "code",
      "metadata": {
        "id": "-8M20CYNuGI2",
        "colab_type": "code",
        "outputId": "aa34bb0f-1a8e-4976-bf7a-505df4cffee7",
        "colab": {
          "base_uri": "https://localhost:8080/",
          "height": 34
        }
      },
      "source": [
        "main_df.columns"
      ],
      "execution_count": 0,
      "outputs": [
        {
          "output_type": "execute_result",
          "data": {
            "text/plain": [
              "Index(['user_id', 'post_id', 'timestamp', 'title', 'category', ' post_type'], dtype='object')"
            ]
          },
          "metadata": {
            "tags": []
          },
          "execution_count": 31
        }
      ]
    },
    {
      "cell_type": "code",
      "metadata": {
        "id": "6qm7H5t8uL0Y",
        "colab_type": "code",
        "outputId": "a6216dd1-398d-487b-f194-6b237de9622b",
        "colab": {
          "base_uri": "https://localhost:8080/",
          "height": 343
        }
      },
      "source": [
        "main_df.head(10)"
      ],
      "execution_count": 0,
      "outputs": [
        {
          "output_type": "execute_result",
          "data": {
            "text/html": [
              "<div>\n",
              "<style scoped>\n",
              "    .dataframe tbody tr th:only-of-type {\n",
              "        vertical-align: middle;\n",
              "    }\n",
              "\n",
              "    .dataframe tbody tr th {\n",
              "        vertical-align: top;\n",
              "    }\n",
              "\n",
              "    .dataframe thead th {\n",
              "        text-align: right;\n",
              "    }\n",
              "</style>\n",
              "<table border=\"1\" class=\"dataframe\">\n",
              "  <thead>\n",
              "    <tr style=\"text-align: right;\">\n",
              "      <th></th>\n",
              "      <th>user_id</th>\n",
              "      <th>post_id</th>\n",
              "      <th>timestamp</th>\n",
              "      <th>title</th>\n",
              "      <th>category</th>\n",
              "      <th>post_type</th>\n",
              "    </tr>\n",
              "  </thead>\n",
              "  <tbody>\n",
              "    <tr>\n",
              "      <th>0</th>\n",
              "      <td>5df49b32cc709107827fb3c7</td>\n",
              "      <td>5ec821ddec493f4a2655889e</td>\n",
              "      <td>2020-06-01T10:46:45.131Z</td>\n",
              "      <td>Save Earth.</td>\n",
              "      <td>Visual Arts</td>\n",
              "      <td>artwork</td>\n",
              "    </tr>\n",
              "    <tr>\n",
              "      <th>1</th>\n",
              "      <td>5df49b32cc709107827fb3c7</td>\n",
              "      <td>5ec821ddec493f4a2655889e</td>\n",
              "      <td>2020-06-01T10:46:45.131Z</td>\n",
              "      <td>Save Earth.</td>\n",
              "      <td>Graphic Design</td>\n",
              "      <td>artwork</td>\n",
              "    </tr>\n",
              "    <tr>\n",
              "      <th>2</th>\n",
              "      <td>5df49b32cc709107827fb3c7</td>\n",
              "      <td>5ec821ddec493f4a2655889e</td>\n",
              "      <td>2020-06-01T10:46:45.131Z</td>\n",
              "      <td>Save Earth.</td>\n",
              "      <td>Artistic design</td>\n",
              "      <td>artwork</td>\n",
              "    </tr>\n",
              "    <tr>\n",
              "      <th>3</th>\n",
              "      <td>5df49b32cc709107827fb3c7</td>\n",
              "      <td>5ec821ddec493f4a2655889e</td>\n",
              "      <td>2020-06-01T10:46:45.131Z</td>\n",
              "      <td>Save Earth.</td>\n",
              "      <td>Graphic</td>\n",
              "      <td>artwork</td>\n",
              "    </tr>\n",
              "    <tr>\n",
              "      <th>4</th>\n",
              "      <td>5df49b32cc709107827fb3c7</td>\n",
              "      <td>5ec821ddec493f4a2655889e</td>\n",
              "      <td>2020-06-01T10:46:45.131Z</td>\n",
              "      <td>Save Earth.</td>\n",
              "      <td>Illustration</td>\n",
              "      <td>artwork</td>\n",
              "    </tr>\n",
              "    <tr>\n",
              "      <th>5</th>\n",
              "      <td>5ec3ba5374f7660d73aa1201</td>\n",
              "      <td>5ec821ddec493f4a2655889e</td>\n",
              "      <td>2020-05-24T10:49:55.177Z</td>\n",
              "      <td>Save Earth.</td>\n",
              "      <td>Visual Arts</td>\n",
              "      <td>artwork</td>\n",
              "    </tr>\n",
              "    <tr>\n",
              "      <th>6</th>\n",
              "      <td>5ec3ba5374f7660d73aa1201</td>\n",
              "      <td>5ec821ddec493f4a2655889e</td>\n",
              "      <td>2020-05-24T10:49:55.177Z</td>\n",
              "      <td>Save Earth.</td>\n",
              "      <td>Graphic Design</td>\n",
              "      <td>artwork</td>\n",
              "    </tr>\n",
              "    <tr>\n",
              "      <th>7</th>\n",
              "      <td>5ec3ba5374f7660d73aa1201</td>\n",
              "      <td>5ec821ddec493f4a2655889e</td>\n",
              "      <td>2020-05-24T10:49:55.177Z</td>\n",
              "      <td>Save Earth.</td>\n",
              "      <td>Artistic design</td>\n",
              "      <td>artwork</td>\n",
              "    </tr>\n",
              "    <tr>\n",
              "      <th>8</th>\n",
              "      <td>5ec3ba5374f7660d73aa1201</td>\n",
              "      <td>5ec821ddec493f4a2655889e</td>\n",
              "      <td>2020-05-24T10:49:55.177Z</td>\n",
              "      <td>Save Earth.</td>\n",
              "      <td>Graphic</td>\n",
              "      <td>artwork</td>\n",
              "    </tr>\n",
              "    <tr>\n",
              "      <th>9</th>\n",
              "      <td>5ec3ba5374f7660d73aa1201</td>\n",
              "      <td>5ec821ddec493f4a2655889e</td>\n",
              "      <td>2020-05-24T10:49:55.177Z</td>\n",
              "      <td>Save Earth.</td>\n",
              "      <td>Illustration</td>\n",
              "      <td>artwork</td>\n",
              "    </tr>\n",
              "  </tbody>\n",
              "</table>\n",
              "</div>"
            ],
            "text/plain": [
              "                    user_id  ...  post_type\n",
              "0  5df49b32cc709107827fb3c7  ...    artwork\n",
              "1  5df49b32cc709107827fb3c7  ...    artwork\n",
              "2  5df49b32cc709107827fb3c7  ...    artwork\n",
              "3  5df49b32cc709107827fb3c7  ...    artwork\n",
              "4  5df49b32cc709107827fb3c7  ...    artwork\n",
              "5  5ec3ba5374f7660d73aa1201  ...    artwork\n",
              "6  5ec3ba5374f7660d73aa1201  ...    artwork\n",
              "7  5ec3ba5374f7660d73aa1201  ...    artwork\n",
              "8  5ec3ba5374f7660d73aa1201  ...    artwork\n",
              "9  5ec3ba5374f7660d73aa1201  ...    artwork\n",
              "\n",
              "[10 rows x 6 columns]"
            ]
          },
          "metadata": {
            "tags": []
          },
          "execution_count": 32
        }
      ]
    },
    {
      "cell_type": "code",
      "metadata": {
        "id": "m-X6BfoHwHsW",
        "colab_type": "code",
        "outputId": "f25ce56f-47a4-49d2-9e35-064f4d3d5f84",
        "colab": {
          "base_uri": "https://localhost:8080/",
          "height": 975
        }
      },
      "source": [
        "main_df.tail(20)"
      ],
      "execution_count": 0,
      "outputs": [
        {
          "output_type": "execute_result",
          "data": {
            "text/html": [
              "<div>\n",
              "<style scoped>\n",
              "    .dataframe tbody tr th:only-of-type {\n",
              "        vertical-align: middle;\n",
              "    }\n",
              "\n",
              "    .dataframe tbody tr th {\n",
              "        vertical-align: top;\n",
              "    }\n",
              "\n",
              "    .dataframe thead th {\n",
              "        text-align: right;\n",
              "    }\n",
              "</style>\n",
              "<table border=\"1\" class=\"dataframe\">\n",
              "  <thead>\n",
              "    <tr style=\"text-align: right;\">\n",
              "      <th></th>\n",
              "      <th>user_id</th>\n",
              "      <th>post_id</th>\n",
              "      <th>timestamp</th>\n",
              "      <th>title</th>\n",
              "      <th>category</th>\n",
              "      <th>post_type</th>\n",
              "    </tr>\n",
              "  </thead>\n",
              "  <tbody>\n",
              "    <tr>\n",
              "      <th>1730</th>\n",
              "      <td>5d610ae1653a331687083239</td>\n",
              "      <td>5e7bd922cfc8b713f5ac7da9</td>\n",
              "      <td>2020-03-27T09:45:14.071Z</td>\n",
              "      <td>What sports will look like in the future</td>\n",
              "      <td>Computer Technology</td>\n",
              "      <td>blog</td>\n",
              "    </tr>\n",
              "    <tr>\n",
              "      <th>1731</th>\n",
              "      <td>5d610ae1653a331687083239</td>\n",
              "      <td>5e7bd922cfc8b713f5ac7da9</td>\n",
              "      <td>2020-03-27T09:45:14.071Z</td>\n",
              "      <td>What sports will look like in the future</td>\n",
              "      <td>Robotics</td>\n",
              "      <td>blog</td>\n",
              "    </tr>\n",
              "    <tr>\n",
              "      <th>1732</th>\n",
              "      <td>5d610ae1653a331687083239</td>\n",
              "      <td>5e7bd922cfc8b713f5ac7da9</td>\n",
              "      <td>2020-03-27T09:45:14.071Z</td>\n",
              "      <td>What sports will look like in the future</td>\n",
              "      <td>Data Science</td>\n",
              "      <td>blog</td>\n",
              "    </tr>\n",
              "    <tr>\n",
              "      <th>1733</th>\n",
              "      <td>5d610ae1653a331687083239</td>\n",
              "      <td>5e7bd922cfc8b713f5ac7da9</td>\n",
              "      <td>2020-03-27T09:45:14.071Z</td>\n",
              "      <td>What sports will look like in the future</td>\n",
              "      <td>Information Technology</td>\n",
              "      <td>blog</td>\n",
              "    </tr>\n",
              "    <tr>\n",
              "      <th>1734</th>\n",
              "      <td>5d610ae1653a331687083239</td>\n",
              "      <td>5e7bd922cfc8b713f5ac7da9</td>\n",
              "      <td>2020-03-27T09:45:14.071Z</td>\n",
              "      <td>What sports will look like in the future</td>\n",
              "      <td>Artificial Intelligence</td>\n",
              "      <td>blog</td>\n",
              "    </tr>\n",
              "    <tr>\n",
              "      <th>1735</th>\n",
              "      <td>5e5855ced701ab08af792b51</td>\n",
              "      <td>5e7bd922cfc8b713f5ac7da9</td>\n",
              "      <td>2020-03-26T21:39:16.764Z</td>\n",
              "      <td>What sports will look like in the future</td>\n",
              "      <td>Computer Technology</td>\n",
              "      <td>blog</td>\n",
              "    </tr>\n",
              "    <tr>\n",
              "      <th>1736</th>\n",
              "      <td>5e5855ced701ab08af792b51</td>\n",
              "      <td>5e7bd922cfc8b713f5ac7da9</td>\n",
              "      <td>2020-03-26T21:39:16.764Z</td>\n",
              "      <td>What sports will look like in the future</td>\n",
              "      <td>Robotics</td>\n",
              "      <td>blog</td>\n",
              "    </tr>\n",
              "    <tr>\n",
              "      <th>1737</th>\n",
              "      <td>5e5855ced701ab08af792b51</td>\n",
              "      <td>5e7bd922cfc8b713f5ac7da9</td>\n",
              "      <td>2020-03-26T21:39:16.764Z</td>\n",
              "      <td>What sports will look like in the future</td>\n",
              "      <td>Data Science</td>\n",
              "      <td>blog</td>\n",
              "    </tr>\n",
              "    <tr>\n",
              "      <th>1738</th>\n",
              "      <td>5e5855ced701ab08af792b51</td>\n",
              "      <td>5e7bd922cfc8b713f5ac7da9</td>\n",
              "      <td>2020-03-26T21:39:16.764Z</td>\n",
              "      <td>What sports will look like in the future</td>\n",
              "      <td>Information Technology</td>\n",
              "      <td>blog</td>\n",
              "    </tr>\n",
              "    <tr>\n",
              "      <th>1739</th>\n",
              "      <td>5e5855ced701ab08af792b51</td>\n",
              "      <td>5e7bd922cfc8b713f5ac7da9</td>\n",
              "      <td>2020-03-26T21:39:16.764Z</td>\n",
              "      <td>What sports will look like in the future</td>\n",
              "      <td>Artificial Intelligence</td>\n",
              "      <td>blog</td>\n",
              "    </tr>\n",
              "    <tr>\n",
              "      <th>1740</th>\n",
              "      <td>5d60098a653a331687083238</td>\n",
              "      <td>5dbc631f99cbb90e4339c7fd</td>\n",
              "      <td>2020-03-28T13:42:50.090Z</td>\n",
              "      <td>Calligraphy</td>\n",
              "      <td>Drawings</td>\n",
              "      <td>artwork</td>\n",
              "    </tr>\n",
              "    <tr>\n",
              "      <th>1741</th>\n",
              "      <td>5d60098a653a331687083238</td>\n",
              "      <td>5dbc631f99cbb90e4339c7fd</td>\n",
              "      <td>2020-03-28T13:42:50.090Z</td>\n",
              "      <td>Calligraphy</td>\n",
              "      <td>Calligraphy</td>\n",
              "      <td>artwork</td>\n",
              "    </tr>\n",
              "    <tr>\n",
              "      <th>1742</th>\n",
              "      <td>5d618359fc5fcf3bdd9a0910</td>\n",
              "      <td>5e773c0bcfc8b713f5ac7ab7</td>\n",
              "      <td>2020-03-28T06:14:14.147Z</td>\n",
              "      <td>Study of Nerves</td>\n",
              "      <td>Physiology</td>\n",
              "      <td>blog</td>\n",
              "    </tr>\n",
              "    <tr>\n",
              "      <th>1743</th>\n",
              "      <td>5d618359fc5fcf3bdd9a0910</td>\n",
              "      <td>5e773c0bcfc8b713f5ac7ab7</td>\n",
              "      <td>2020-03-28T06:14:14.147Z</td>\n",
              "      <td>Study of Nerves</td>\n",
              "      <td>Neurology</td>\n",
              "      <td>blog</td>\n",
              "    </tr>\n",
              "    <tr>\n",
              "      <th>1744</th>\n",
              "      <td>5e7def80a3258347b42f2124</td>\n",
              "      <td>5dd1751db802e41ed198b680</td>\n",
              "      <td>2020-03-27T12:26:18.624Z</td>\n",
              "      <td>Marital Rape - Rape is Rape</td>\n",
              "      <td>Empowerment</td>\n",
              "      <td>blog</td>\n",
              "    </tr>\n",
              "    <tr>\n",
              "      <th>1745</th>\n",
              "      <td>5d60098a653a331687083238</td>\n",
              "      <td>5e294fd1c85ab714a7da6643</td>\n",
              "      <td>2020-03-27T08:41:13.123Z</td>\n",
              "      <td>Personal growth</td>\n",
              "      <td>Mass Media</td>\n",
              "      <td>blog</td>\n",
              "    </tr>\n",
              "    <tr>\n",
              "      <th>1746</th>\n",
              "      <td>5d60098a653a331687083238</td>\n",
              "      <td>5e294fd1c85ab714a7da6643</td>\n",
              "      <td>2020-03-27T08:41:13.123Z</td>\n",
              "      <td>Personal growth</td>\n",
              "      <td>International Relations</td>\n",
              "      <td>blog</td>\n",
              "    </tr>\n",
              "    <tr>\n",
              "      <th>1747</th>\n",
              "      <td>5d60098a653a331687083238</td>\n",
              "      <td>5dc065ca24b883670268772f</td>\n",
              "      <td>2020-03-26T19:10:26.525Z</td>\n",
              "      <td>Colours of pushkar.</td>\n",
              "      <td>Photography</td>\n",
              "      <td>artwork</td>\n",
              "    </tr>\n",
              "    <tr>\n",
              "      <th>1748</th>\n",
              "      <td>5d60098a653a331687083238</td>\n",
              "      <td>5e7a5ebdcfc8b713f5ac7d7f</td>\n",
              "      <td>2020-03-26T19:05:50.403Z</td>\n",
              "      <td>I won the Art.</td>\n",
              "      <td>Conceptual</td>\n",
              "      <td>artwork</td>\n",
              "    </tr>\n",
              "    <tr>\n",
              "      <th>1749</th>\n",
              "      <td>5d60098a653a331687083238</td>\n",
              "      <td>5e7a629ccfc8b713f5ac7d84</td>\n",
              "      <td>2020-03-26T19:01:42.384Z</td>\n",
              "      <td>3D composition.</td>\n",
              "      <td>Tapestry</td>\n",
              "      <td>artwork</td>\n",
              "    </tr>\n",
              "  </tbody>\n",
              "</table>\n",
              "</div>"
            ],
            "text/plain": [
              "                       user_id  ...  post_type\n",
              "1730  5d610ae1653a331687083239  ...       blog\n",
              "1731  5d610ae1653a331687083239  ...       blog\n",
              "1732  5d610ae1653a331687083239  ...       blog\n",
              "1733  5d610ae1653a331687083239  ...       blog\n",
              "1734  5d610ae1653a331687083239  ...       blog\n",
              "1735  5e5855ced701ab08af792b51  ...       blog\n",
              "1736  5e5855ced701ab08af792b51  ...       blog\n",
              "1737  5e5855ced701ab08af792b51  ...       blog\n",
              "1738  5e5855ced701ab08af792b51  ...       blog\n",
              "1739  5e5855ced701ab08af792b51  ...       blog\n",
              "1740  5d60098a653a331687083238  ...    artwork\n",
              "1741  5d60098a653a331687083238  ...    artwork\n",
              "1742  5d618359fc5fcf3bdd9a0910  ...       blog\n",
              "1743  5d618359fc5fcf3bdd9a0910  ...       blog\n",
              "1744  5e7def80a3258347b42f2124  ...       blog\n",
              "1745  5d60098a653a331687083238  ...       blog\n",
              "1746  5d60098a653a331687083238  ...       blog\n",
              "1747  5d60098a653a331687083238  ...    artwork\n",
              "1748  5d60098a653a331687083238  ...    artwork\n",
              "1749  5d60098a653a331687083238  ...    artwork\n",
              "\n",
              "[20 rows x 6 columns]"
            ]
          },
          "metadata": {
            "tags": []
          },
          "execution_count": 33
        }
      ]
    },
    {
      "cell_type": "code",
      "metadata": {
        "id": "XA5cs-Z-wsa-",
        "colab_type": "code",
        "outputId": "2714dac1-6a7c-4143-ec4c-bfda35e4163e",
        "colab": {
          "base_uri": "https://localhost:8080/",
          "height": 166
        }
      },
      "source": [
        "main_df.describe()"
      ],
      "execution_count": 0,
      "outputs": [
        {
          "output_type": "execute_result",
          "data": {
            "text/html": [
              "<div>\n",
              "<style scoped>\n",
              "    .dataframe tbody tr th:only-of-type {\n",
              "        vertical-align: middle;\n",
              "    }\n",
              "\n",
              "    .dataframe tbody tr th {\n",
              "        vertical-align: top;\n",
              "    }\n",
              "\n",
              "    .dataframe thead th {\n",
              "        text-align: right;\n",
              "    }\n",
              "</style>\n",
              "<table border=\"1\" class=\"dataframe\">\n",
              "  <thead>\n",
              "    <tr style=\"text-align: right;\">\n",
              "      <th></th>\n",
              "      <th>user_id</th>\n",
              "      <th>post_id</th>\n",
              "      <th>timestamp</th>\n",
              "      <th>title</th>\n",
              "      <th>category</th>\n",
              "      <th>post_type</th>\n",
              "    </tr>\n",
              "  </thead>\n",
              "  <tbody>\n",
              "    <tr>\n",
              "      <th>count</th>\n",
              "      <td>1750</td>\n",
              "      <td>1750</td>\n",
              "      <td>1750</td>\n",
              "      <td>1750</td>\n",
              "      <td>1750</td>\n",
              "      <td>1750</td>\n",
              "    </tr>\n",
              "    <tr>\n",
              "      <th>unique</th>\n",
              "      <td>88</td>\n",
              "      <td>231</td>\n",
              "      <td>626</td>\n",
              "      <td>227</td>\n",
              "      <td>234</td>\n",
              "      <td>3</td>\n",
              "    </tr>\n",
              "    <tr>\n",
              "      <th>top</th>\n",
              "      <td>5d60098a653a331687083238</td>\n",
              "      <td>5ec7abfdec493f4a26558860</td>\n",
              "      <td>2020-05-26T12:33:48.981Z</td>\n",
              "      <td>FASHION ILLUSTRATION (OP ART)</td>\n",
              "      <td>Illustration</td>\n",
              "      <td>blog</td>\n",
              "    </tr>\n",
              "    <tr>\n",
              "      <th>freq</th>\n",
              "      <td>261</td>\n",
              "      <td>63</td>\n",
              "      <td>7</td>\n",
              "      <td>63</td>\n",
              "      <td>78</td>\n",
              "      <td>846</td>\n",
              "    </tr>\n",
              "  </tbody>\n",
              "</table>\n",
              "</div>"
            ],
            "text/plain": [
              "                         user_id  ...  post_type\n",
              "count                       1750  ...       1750\n",
              "unique                        88  ...          3\n",
              "top     5d60098a653a331687083238  ...       blog\n",
              "freq                         261  ...        846\n",
              "\n",
              "[4 rows x 6 columns]"
            ]
          },
          "metadata": {
            "tags": []
          },
          "execution_count": 34
        }
      ]
    },
    {
      "cell_type": "markdown",
      "metadata": {
        "id": "aV4FF6rzwUNh",
        "colab_type": "text"
      },
      "source": [
        "**Now the merging is done and we have our actuall dataframe to work on now lets move to the nect step which is filtering using Collaborative Filtering **"
      ]
    },
    {
      "cell_type": "markdown",
      "metadata": {
        "id": "AEu-EI6jxrum",
        "colab_type": "text"
      },
      "source": [
        "# **Collaborative Filtering**"
      ]
    },
    {
      "cell_type": "markdown",
      "metadata": {
        "id": "rcmMoyXUk7WX",
        "colab_type": "text"
      },
      "source": [
        "**So we are using user-user collaberative filtering. And we are using cosine similarity to determine the similarity between users. For that we need to build a matrix. categories will be the columns and user_ids will be the rows. And we are using K near neighbour model to determine the similar users.**"
      ]
    },
    {
      "cell_type": "markdown",
      "metadata": {
        "id": "R3p5_SbYls_y",
        "colab_type": "text"
      },
      "source": [
        "## CONSTRUCTING THE MATRIX"
      ]
    },
    {
      "cell_type": "markdown",
      "metadata": {
        "id": "dJr_kujnl9Qw",
        "colab_type": "text"
      },
      "source": [
        "**We will create a sparse matrix of mXn. All the unique categories will be the column values and user_ids will be the row value. And the cell values will be the number times a user has viwed a category. The higher the cell value the higher the users interest for that particular category**"
      ]
    },
    {
      "cell_type": "markdown",
      "metadata": {
        "id": "PiOzKQN9nlbC",
        "colab_type": "text"
      },
      "source": [
        "**Lets find all the unique user_ids and categories**"
      ]
    },
    {
      "cell_type": "code",
      "metadata": {
        "id": "6LgL93dWn_zS",
        "colab_type": "code",
        "outputId": "4cf8abf3-97ea-450c-c0cf-831865baf3c4",
        "colab": {
          "base_uri": "https://localhost:8080/",
          "height": 34
        }
      },
      "source": [
        "users = list(main_df['user_id'].unique())\n",
        "len(users)"
      ],
      "execution_count": 0,
      "outputs": [
        {
          "output_type": "execute_result",
          "data": {
            "text/plain": [
              "'5df49b32cc709107827fb3c7'"
            ]
          },
          "metadata": {
            "tags": []
          },
          "execution_count": 80
        }
      ]
    },
    {
      "cell_type": "code",
      "metadata": {
        "id": "ntPfqadCpASN",
        "colab_type": "code",
        "outputId": "0caee494-17b7-4279-bcc5-5aa837ab0dab",
        "colab": {
          "base_uri": "https://localhost:8080/",
          "height": 34
        }
      },
      "source": [
        "categories = list(main_df['category'].unique())\n",
        "len(categories)"
      ],
      "execution_count": 0,
      "outputs": [
        {
          "output_type": "execute_result",
          "data": {
            "text/plain": [
              "234"
            ]
          },
          "metadata": {
            "tags": []
          },
          "execution_count": 67
        }
      ]
    },
    {
      "cell_type": "markdown",
      "metadata": {
        "id": "P50d5JaDpk0D",
        "colab_type": "text"
      },
      "source": [
        "**Our matrix size will be of size 88X234**"
      ]
    },
    {
      "cell_type": "code",
      "metadata": {
        "id": "9rxlk87kpwJ5",
        "colab_type": "code",
        "colab": {}
      },
      "source": [
        "user_mat = [[] for i in range(len(users))]\n",
        "for i in range(len(users)):\n",
        "    for j in range(len(categories)):\n",
        "        value = len(main_df[(main_df['user_id']==users[i])&(main_df['category']==categories[j])])\n",
        "        user_mat[i].append(value)"
      ],
      "execution_count": 0,
      "outputs": []
    },
    {
      "cell_type": "code",
      "metadata": {
        "id": "c5tBtp9Pu8RV",
        "colab_type": "code",
        "outputId": "4fe5d576-1b90-48f8-c08d-6d2c5bb1fb7c",
        "colab": {
          "base_uri": "https://localhost:8080/",
          "height": 54
        }
      },
      "source": [
        "for i in user_mat[0]:\n",
        "    print(i, end=\" \")"
      ],
      "execution_count": 0,
      "outputs": [
        {
          "output_type": "stream",
          "text": [
            "4 3 3 3 2 0 0 0 0 0 0 1 0 0 0 0 0 0 0 0 0 0 0 0 0 2 2 2 0 0 0 0 1 2 1 1 0 0 0 0 0 0 0 0 0 0 0 0 1 0 0 0 0 0 0 0 0 0 0 0 0 0 0 0 0 0 0 0 0 0 0 0 0 0 0 0 0 0 0 0 0 0 0 0 0 0 0 1 1 1 1 0 1 0 0 0 0 0 0 0 0 0 0 0 0 0 0 0 0 0 0 0 0 0 0 0 0 0 0 0 0 0 0 0 0 0 0 0 0 0 0 0 0 0 0 0 0 0 0 0 0 0 0 0 0 0 0 0 0 0 0 0 0 0 0 0 0 0 0 0 0 0 0 0 0 0 0 0 0 0 0 0 0 0 0 0 0 0 0 0 0 0 0 0 0 0 0 0 0 0 0 0 0 0 0 0 0 0 0 0 0 0 0 0 0 0 0 0 0 0 0 0 0 0 0 0 0 0 0 0 0 0 0 0 0 0 0 0 0 0 0 0 0 0 "
          ],
          "name": "stdout"
        }
      ]
    },
    {
      "cell_type": "markdown",
      "metadata": {
        "id": "J1ajtZSByk1b",
        "colab_type": "text"
      },
      "source": [
        "**Now we will convert the list to a actual sparse matrix using scipy.sparse library**"
      ]
    },
    {
      "cell_type": "code",
      "metadata": {
        "id": "2GtRwNMOyvUO",
        "colab_type": "code",
        "colab": {}
      },
      "source": [
        "from scipy.sparse import csr_matrix # for creating a sparse matrix\n",
        "user_mat = csr_matrix(user_mat)"
      ],
      "execution_count": 0,
      "outputs": []
    },
    {
      "cell_type": "code",
      "metadata": {
        "id": "LM1TeUP7zBr7",
        "colab_type": "code",
        "outputId": "39b8c4cd-8b6f-444f-ae7c-961a22cf1acc",
        "colab": {
          "base_uri": "https://localhost:8080/",
          "height": 50
        }
      },
      "source": [
        "user_mat"
      ],
      "execution_count": 0,
      "outputs": [
        {
          "output_type": "execute_result",
          "data": {
            "text/plain": [
              "<88x234 sparse matrix of type '<class 'numpy.longlong'>'\n",
              "\twith 1034 stored elements in Compressed Sparse Row format>"
            ]
          },
          "metadata": {
            "tags": []
          },
          "execution_count": 70
        }
      ]
    },
    {
      "cell_type": "markdown",
      "metadata": {
        "id": "6stLNNq_zHSx",
        "colab_type": "text"
      },
      "source": [
        "**As we have made our matrix lets train the model.**"
      ]
    },
    {
      "cell_type": "markdown",
      "metadata": {
        "id": "0CaYrtWd03Q9",
        "colab_type": "text"
      },
      "source": [
        "## TRAINING THE MODEL"
      ]
    },
    {
      "cell_type": "markdown",
      "metadata": {
        "id": "AZx3vrsR081J",
        "colab_type": "text"
      },
      "source": [
        "**So we are using K nearest neighbour model. And the similarity constraint we are using is cosine similarity.**"
      ]
    },
    {
      "cell_type": "markdown",
      "metadata": {
        "id": "TFeNaztW1T_A",
        "colab_type": "text"
      },
      "source": [
        "**Importing the model**"
      ]
    },
    {
      "cell_type": "code",
      "metadata": {
        "id": "HGX3Z47P1XLb",
        "colab_type": "code",
        "colab": {}
      },
      "source": [
        "from sklearn.neighbors import NearestNeighbors"
      ],
      "execution_count": 0,
      "outputs": []
    },
    {
      "cell_type": "code",
      "metadata": {
        "id": "seZdVFNL1jBB",
        "colab_type": "code",
        "colab": {}
      },
      "source": [
        "model_knn = NearestNeighbors(metric='cosine', algorithm='brute', n_neighbors=15)"
      ],
      "execution_count": 0,
      "outputs": []
    },
    {
      "cell_type": "code",
      "metadata": {
        "id": "d0BRaK5M153L",
        "colab_type": "code",
        "outputId": "f9958118-3112-44b9-d857-925a96dcdcd6",
        "colab": {
          "base_uri": "https://localhost:8080/",
          "height": 67
        }
      },
      "source": [
        "model_knn.fit(user_mat)"
      ],
      "execution_count": 0,
      "outputs": [
        {
          "output_type": "execute_result",
          "data": {
            "text/plain": [
              "NearestNeighbors(algorithm='brute', leaf_size=30, metric='cosine',\n",
              "                 metric_params=None, n_jobs=None, n_neighbors=15, p=2,\n",
              "                 radius=1.0)"
            ]
          },
          "metadata": {
            "tags": []
          },
          "execution_count": 60
        }
      ]
    },
    {
      "cell_type": "markdown",
      "metadata": {
        "id": "Y_wXlud62CnL",
        "colab_type": "text"
      },
      "source": [
        "**We have trained our model. Now lets make a function which will take users_id as input and recommend categories that the user would like**"
      ]
    },
    {
      "cell_type": "code",
      "metadata": {
        "id": "o_UYRhor2TKE",
        "colab_type": "code",
        "colab": {}
      },
      "source": [
        "def recommender(user_id, data=user_mat, model=model_knn):\n",
        "    model.fit(data)\n",
        "    index = users.index(user_id)\n",
        "    current_user = main_df[main_df['user_id']==user_id]\n",
        "    distances, indices = model.kneighbors(data[index], 15)\n",
        "    recomendation = []\n",
        "    for i in indices[0]:\n",
        "        user = main_df[main_df['user_id']==users[i]]\n",
        "        for i in user['category'].unique():\n",
        "            if i not in current_user['category'].unique():\n",
        "                recomendation.append(i)\n",
        "    print(recomendation)\n",
        "    print(indices)"
      ],
      "execution_count": 0,
      "outputs": []
    },
    {
      "cell_type": "markdown",
      "metadata": {
        "id": "hEK0DolVEVrL",
        "colab_type": "text"
      },
      "source": [
        "**What we did above there is first we found out 15 similar users for our current user and we recomended those posts to the user which he/she hasnot viewed yet but similar users have.Now lets test our function for a user**"
      ]
    },
    {
      "cell_type": "markdown",
      "metadata": {
        "id": "yxsxLxxlE7WO",
        "colab_type": "text"
      },
      "source": [
        "**Lets see what the system recomendation for the first user before that lets see the users categories that he has already viewed**"
      ]
    },
    {
      "cell_type": "code",
      "metadata": {
        "id": "XVu_qOQdE02w",
        "colab_type": "code",
        "outputId": "350660ad-3b65-429f-c984-5c4aab920bb3",
        "colab": {
          "base_uri": "https://localhost:8080/",
          "height": 118
        }
      },
      "source": [
        "main_df[main_df['user_id']==users[0]]['category'].unique()"
      ],
      "execution_count": 0,
      "outputs": [
        {
          "output_type": "execute_result",
          "data": {
            "text/plain": [
              "array(['Visual Arts', 'Graphic Design', 'Artistic design', 'Graphic',\n",
              "       'Illustration', 'Photography', 'Architecture', 'Logo Design',\n",
              "       'Art; Science', 'Science;Technology', 'Fashion Desigining',\n",
              "       'Pattern & Culture', 'Fashion Textile', 'Fashion Trends',\n",
              "       'Fashion Illustration', 'Pattern Cutting', 'Fashion Communication',\n",
              "       'Art', 'Calligraphy'], dtype=object)"
            ]
          },
          "metadata": {
            "tags": []
          },
          "execution_count": 117
        }
      ]
    },
    {
      "cell_type": "markdown",
      "metadata": {
        "id": "QwQ49wi2FT43",
        "colab_type": "text"
      },
      "source": [
        "**These are the categories the user has viewed now lets see the recomendations for our user**"
      ]
    },
    {
      "cell_type": "code",
      "metadata": {
        "id": "IiXgWTAdFeap",
        "colab_type": "code",
        "outputId": "fc3de0ca-b360-4f04-bf59-0bf5518643f4",
        "colab": {
          "base_uri": "https://localhost:8080/",
          "height": 70
        }
      },
      "source": [
        "recommender(users[0])"
      ],
      "execution_count": 0,
      "outputs": [
        {
          "output_type": "stream",
          "text": [
            "['Fashion Portfoilio', 'Fashion Design', 'Watercolours', 'Drawings', 'Sketch Video', 'Political Science', 'Colonialism In India', 'Legal Studies', 'Labor Law', 'Banking', 'Banking Companies', 'Professionalism', 'Fashion Portfoilio', 'Painting', 'Craft', 'Technology', 'Drawings', 'Business', 'Learning', 'Literature', 'Stories', 'Fictions', 'Movements in Literature', 'Fashion Portfoilio', 'Business Strategies', 'Business Enviorment', 'New Venture Planning', 'Foreign Business', 'Business Organisation', 'Fashion Design', 'Watercolours', 'Conceptual', 'Pen and ink', 'Mixed Media', '2D Composition', 'Communication', 'Basics of Communiaction', 'Sketch Video', 'Professionalism', 'Biotechnology', 'Molecular Biology', 'Fine Arts', 'Painting', 'Management', 'Business Management', 'Technology Mangement', 'Managerial Activity', 'Creative And Lateral Management', 'Economics', 'Economic Policies', 'Break even Point', 'Foreign Economy', 'Computer Technology', 'Operating Systems', 'Fashion Manufacturing', 'Fashion Techniques', 'Garment Production', 'Garment Technology', 'Digital Marketing', 'Learning', 'Fashion Design', 'Watercolours', 'Drawings', 'Conceptual', 'Pen and ink', 'Mixed Media', 'Political Science', 'Colonialism In India', 'Legal Studies', 'Labor Law', 'Banking', 'Banking Companies', 'Auditing', 'Statuary Audit', 'Legal System', 'Sports Coaching', 'Sports Law', 'Taxation', 'Custom Laws', 'Economics', 'Revenue Concept', 'Human Rights', 'Rights and Duties', 'Sociology', 'Sociology of Religion', 'Sociology in India', 'International Politics', 'Mass Media', 'Videography', 'Biotechnology', 'Plant Biotechnology', 'Painting', 'Technology', 'Digital Marketing', 'Business', 'Learning', 'Literature', 'Stories', 'Fictions', 'Movements in Literature', 'Business Strategies', 'Business Enviorment', 'New Venture Planning', 'Foreign Business', 'Business Organisation', 'Conceptual', 'Fashion Design', 'Watercolours', 'Drawings', 'Pen and ink', 'Mixed Media', '2D Composition', 'Sketch Video', 'Professionalism', 'Philosophy', 'Public Philosophy', 'Test', 'Applied Ethics', 'Entreperneurship', 'Venture Capitalist', 'Start Ups', 'Business Planning', 'Painting', 'Prints', 'Biotechnology', 'Animal Biotechnology', 'Craft', 'Mosaic painting', 'Social Work', 'Humanities', 'Social Interventions', 'Sculptures', 'Marketing', 'Principles Of Marketing', 'Marketing Research Methadology', 'Marketing Management', 'International Marketing', 'Music', 'Fine Arts', 'Promotion And Distribution Decisions', 'Video', 'Legal Studies', 'Legal System', 'Legal Tradition', 'Nationality Law', 'Government Law', 'Plant Biotechnology', 'Management', 'Business Management', 'Technology Mangement', 'Managerial Activity', 'Creative And Lateral Management', 'Human Rights', 'Fundamental Rights', 'Protection & Enforcement', 'NGO', 'Graphics', 'Articulation', 'Computer Creation', 'Psycholgy', 'Psychological Growth', 'Physics', 'Quantum Mecahnics', 'Industrial Instrumentation', 'Atomic Physics', 'Nuclear & Particle Physics', 'Energy Physics', 'Substance Abuse', 'Environmental Biotechnology', 'Computer Technology', 'Design and Analysis of Algorithms', 'Web designing', 'Database Management', 'Artificial Intelligence', 'Health Education', 'Social Psychology', 'Economics', 'Indian Economy', 'Instrumentation', 'Craft work', 'Acrylics', 'Accounting', 'Financial Accounting', 'ViDEO', 'Archeology', 'Human Prehistory', 'Mass Media', 'Videography', 'Sports Coaching', 'Sports Event', 'Machine Learning', 'Information Technology', 'Partnership Accounting', 'Corporate Accounting', 'Accounting Theory And Practices', 'Zoology', 'Environmental Biology', 'Physiology', 'Osteology', 'Education', 'Fashion Manufacturing', 'Fashion Techniques', 'Garment Production', 'Garment Technology', 'Political Science', 'Government and Politics', 'Gastroenterology', 'Cardiology', 'Logic', 'Human Resources', 'Performance In Organization', 'Robotics', 'Data Science', 'International Relations', 'Tapestry', 'Technology', 'Competition Laws', 'Digital Marketing', 'Fashion Portfoilio', 'Fashion Design', 'Conceptual', 'Painting', 'Craft', 'Biotechnology', 'Animal Biotechnology', 'Mixed Media', 'Mosaic painting', '2D Composition', 'Drawings', 'Sculptures', 'Wood Crafts', 'Wood carving', 'Watercolours', 'Ceramics', 'Music', 'Fine Arts', 'Legal Studies', 'Company Law', 'Legal System', 'Banking Law', 'Computer Technology', 'Web designing', 'Artificial Intelligence', 'Computer Application', 'Machine Learning', 'Frontend Development', 'Social Work', 'NGO', 'Graphics', 'Articulation', 'Computer Creation', 'Physics', 'Quantum Mecahnics', 'Industrial Instrumentation', 'Atomic Physics', 'Nuclear & Particle Physics', 'Energy Physics', 'Psycholgy', 'Child Development', 'Alternate Dispute Resolution', 'International Treaties', 'International Agreement', 'Economics', 'Economic Policies', 'Break even Point', 'Foreign Economy', 'Environment Studies', 'Pollution', 'Environmental Biology', 'Business', 'Business Organisation', 'Acrylics', 'ViDEO', 'E Commerce', 'Shopping Platform', 'Other Online Platforms', 'Digital India', 'Bio-entrepreneurship', 'History', 'Indian History', 'Income Tax Laws', 'Mass Media', 'Videography', 'Marketing', 'Marketing Management', 'Design and Analysis of Algorithms', 'Zoology', 'Education', 'Plant Biotechnology', 'Robotics', 'Data Science', 'Information Technology', 'Physiology', 'Radiology', 'Fashion Design', 'Watercolours', 'Drawings', 'Conceptual', 'Pen and ink', 'Mixed Media', 'Painting', 'Craft', 'Mosaic painting', '2D Composition', 'Sculptures', 'Wood Crafts', 'Wood carving', 'Ceramics', 'Fine Arts', 'Fashion Manufacturing', 'Fashion Techniques', 'Garment Production', 'Garment Technology', 'Technology', 'Fashion Design', 'Watercolours', 'Drawings', 'Conceptual', 'Pen and ink', 'Mixed Media', 'Computer Technology', 'Cloud Computing', 'Human Rights', 'Fundamental Rights', 'Biotechnology', 'Plant Biotechnology', 'Mass Media', 'Indian Government', 'Fashion Design', 'Watercolours', 'Drawings', 'Conceptual', 'Pen and ink', 'Mixed Media', 'Physiology', 'Radiology', 'Drawings', 'Painting', 'Watercolours', 'Acrylics', 'Human Resources', 'Performance In Organization', 'Organizational Behaviour', 'HR Management']\n",
            "[[ 0  1  2 32  3 42  8 15 16 73 37  4  6 75 70]]\n"
          ],
          "name": "stdout"
        }
      ]
    },
    {
      "cell_type": "markdown",
      "metadata": {
        "id": "1DxbV2HpFuw9",
        "colab_type": "text"
      },
      "source": [
        "**Looks like the system is suggesting posts of users interest and also some new categories for the user.**\n",
        "**The List below suggests the similar users to the current user.**"
      ]
    },
    {
      "cell_type": "markdown",
      "metadata": {
        "id": "Ys_7gOAaGFLq",
        "colab_type": "text"
      },
      "source": [
        "**So This ends our Collaborative Filtering. Lets move on to Content based filtering**"
      ]
    },
    {
      "cell_type": "markdown",
      "metadata": {
        "id": "BkwGnG9hGhHV",
        "colab_type": "text"
      },
      "source": [
        "# CONTENT BASED FILTERING"
      ]
    },
    {
      "cell_type": "markdown",
      "metadata": {
        "id": "7GT_sDo1GmqP",
        "colab_type": "text"
      },
      "source": [
        ""
      ]
    }
  ]
}