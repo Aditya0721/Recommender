{
  "nbformat": 4,
  "nbformat_minor": 0,
  "metadata": {
    "colab": {
      "name": "Recommender.ipynb",
      "provenance": [],
      "private_outputs": true,
      "collapsed_sections": [],
      "authorship_tag": "ABX9TyMcoDthcBsfdpRw2KZ0c+uF",
      "include_colab_link": true
    },
    "kernelspec": {
      "name": "python3",
      "display_name": "Python 3"
    }
  },
  "cells": [
    {
      "cell_type": "markdown",
      "metadata": {
        "id": "view-in-github",
        "colab_type": "text"
      },
      "source": [
        "<a href=\"https://colab.research.google.com/github/Aditya0721/Recommender/blob/master/Recommender.ipynb\" target=\"_parent\"><img src=\"https://colab.research.google.com/assets/colab-badge.svg\" alt=\"Open In Colab\"/></a>"
      ]
    },
    {
      "cell_type": "markdown",
      "metadata": {
        "id": "9zqpa1O8sgAK",
        "colab_type": "text"
      },
      "source": [
        "# **DATA PREPROCESSING**"
      ]
    },
    {
      "cell_type": "markdown",
      "metadata": {
        "id": "AbK_UEwCs6nr",
        "colab_type": "text"
      },
      "source": [
        "## Uploading the datasets and storing it in dataframes"
      ]
    },
    {
      "cell_type": "code",
      "metadata": {
        "id": "fgvlmTujsr3j",
        "colab_type": "code",
        "colab": {}
      },
      "source": [
        "import pandas as pd\n",
        "from google.colab import files\n",
        "import io"
      ],
      "execution_count": 0,
      "outputs": []
    },
    {
      "cell_type": "code",
      "metadata": {
        "id": "Vw225DXpuJn6",
        "colab_type": "code",
        "colab": {}
      },
      "source": [
        "uploaded = files.upload()"
      ],
      "execution_count": 0,
      "outputs": []
    },
    {
      "cell_type": "code",
      "metadata": {
        "id": "elZS-mB4vO0x",
        "colab_type": "code",
        "colab": {}
      },
      "source": [
        "users_df = pd.read_csv('users.csv')\n",
        "users_df.head()"
      ],
      "execution_count": 0,
      "outputs": []
    },
    {
      "cell_type": "code",
      "metadata": {
        "id": "hOLibwYjvz6t",
        "colab_type": "code",
        "colab": {}
      },
      "source": [
        "posts_df = pd.read_csv('posts.csv')\n",
        "posts_df.head()"
      ],
      "execution_count": 0,
      "outputs": []
    },
    {
      "cell_type": "code",
      "metadata": {
        "id": "KAURKMjIwGzT",
        "colab_type": "code",
        "colab": {}
      },
      "source": [
        "views_df = pd.read_csv('views.csv')\n",
        "views_df.head()"
      ],
      "execution_count": 0,
      "outputs": []
    },
    {
      "cell_type": "markdown",
      "metadata": {
        "id": "nWr9osbZxpIe",
        "colab_type": "text"
      },
      "source": [
        "## DETAILS OF THE DATAFRAMES"
      ]
    },
    {
      "cell_type": "code",
      "metadata": {
        "id": "Osovac3dx8n9",
        "colab_type": "code",
        "colab": {}
      },
      "source": [
        "users_df.describe()"
      ],
      "execution_count": 0,
      "outputs": []
    },
    {
      "cell_type": "code",
      "metadata": {
        "id": "2-V1JhUTyRno",
        "colab_type": "code",
        "colab": {}
      },
      "source": [
        "views_df.describe()"
      ],
      "execution_count": 0,
      "outputs": []
    },
    {
      "cell_type": "code",
      "metadata": {
        "id": "VRr6TO64yblb",
        "colab_type": "code",
        "colab": {}
      },
      "source": [
        "posts_df.describe()"
      ],
      "execution_count": 0,
      "outputs": []
    },
    {
      "cell_type": "markdown",
      "metadata": {
        "id": "ZggFrzl7y5fb",
        "colab_type": "text"
      },
      "source": [
        "**checking for null values**"
      ]
    },
    {
      "cell_type": "code",
      "metadata": {
        "id": "WwbCGE1uzDh2",
        "colab_type": "code",
        "colab": {}
      },
      "source": [
        "users_df.isnull().any()\n"
      ],
      "execution_count": 0,
      "outputs": []
    },
    {
      "cell_type": "code",
      "metadata": {
        "id": "WXsX_dLHzlf3",
        "colab_type": "code",
        "colab": {}
      },
      "source": [
        "views_df.isnull().any()"
      ],
      "execution_count": 0,
      "outputs": []
    },
    {
      "cell_type": "code",
      "metadata": {
        "id": "aSf0qPGpzreN",
        "colab_type": "code",
        "colab": {}
      },
      "source": [
        "posts_df.isnull().any()"
      ],
      "execution_count": 0,
      "outputs": []
    },
    {
      "cell_type": "markdown",
      "metadata": {
        "id": "GNfnflIoz1x3",
        "colab_type": "text"
      },
      "source": [
        "**we have got null values in the category column of the posts dataset**"
      ]
    },
    {
      "cell_type": "markdown",
      "metadata": {
        "id": "_KtYHNQ_0EiI",
        "colab_type": "text"
      },
      "source": [
        "**as its a categorical variable we have to fill the null values considering the title and post_type**"
      ]
    },
    {
      "cell_type": "markdown",
      "metadata": {
        "id": "TwC_G4qq3Pgb",
        "colab_type": "text"
      },
      "source": [
        "**counting total number of null values in posts_df**"
      ]
    },
    {
      "cell_type": "code",
      "metadata": {
        "id": "BhmbvuOi0pgb",
        "colab_type": "code",
        "colab": {}
      },
      "source": [
        "posts_df['category'].isna().sum()"
      ],
      "execution_count": 0,
      "outputs": []
    },
    {
      "cell_type": "markdown",
      "metadata": {
        "id": "WDPdLi4t4Feh",
        "colab_type": "text"
      },
      "source": [
        "**finding title and post_type for all 28 null values**"
      ]
    },
    {
      "cell_type": "code",
      "metadata": {
        "id": "lvYNvdvn4BuI",
        "colab_type": "code",
        "colab": {}
      },
      "source": [
        "posts_df[posts_df['category'].isna()]"
      ],
      "execution_count": 0,
      "outputs": []
    },
    {
      "cell_type": "markdown",
      "metadata": {
        "id": "RQYNuDLe5ve4",
        "colab_type": "text"
      },
      "source": [
        "**As we can see most of the null values are for the project post types we will create a new category called project and assign it to the null values and when ever a user leaves the category field empty we will assign it to project as default**"
      ]
    },
    {
      "cell_type": "code",
      "metadata": {
        "id": "Ogqln3t76OjS",
        "colab_type": "code",
        "colab": {}
      },
      "source": [
        "posts_df[posts_df['category'].isna()]='project'"
      ],
      "execution_count": 0,
      "outputs": []
    },
    {
      "cell_type": "markdown",
      "metadata": {
        "id": "iV0kTtSm6k6r",
        "colab_type": "text"
      },
      "source": [
        "**As we have imputed the null values lets check again**"
      ]
    },
    {
      "cell_type": "code",
      "metadata": {
        "id": "fbSLvD7D6e2q",
        "colab_type": "code",
        "colab": {}
      },
      "source": [
        "posts_df.isna().any()"
      ],
      "execution_count": 0,
      "outputs": []
    },
    {
      "cell_type": "markdown",
      "metadata": {
        "id": "DJvcYDVM-NwF",
        "colab_type": "text"
      },
      "source": [
        "**Now lets see how many unique categories are present in the dataset**"
      ]
    },
    {
      "cell_type": "code",
      "metadata": {
        "id": "ydrCZASi-YkF",
        "colab_type": "code",
        "colab": {}
      },
      "source": [
        "posts_df['category'].unique()"
      ],
      "execution_count": 0,
      "outputs": []
    },
    {
      "cell_type": "markdown",
      "metadata": {
        "id": "kjSSGdU1_9Jj",
        "colab_type": "text"
      },
      "source": [
        "**As we can see the categories conatin multiple categoris we will add more rows to the posts_df by splitting the categories and making one category for each row**"
      ]
    },
    {
      "cell_type": "code",
      "metadata": {
        "id": "oDM-WtcyA5R4",
        "colab_type": "code",
        "colab": {}
      },
      "source": [
        "categories = {}\n",
        "for i in posts_df['category']:\n",
        "  categories.update({i:[]})\n",
        "  for j in list(i.split(\"|\")):\n",
        "      categories[i].append(j) \n",
        "print(categories)"
      ],
      "execution_count": 0,
      "outputs": []
    },
    {
      "cell_type": "markdown",
      "metadata": {
        "id": "P46c4Q7xgCHa",
        "colab_type": "text"
      },
      "source": [
        "**Now lets update posts_df**"
      ]
    },
    {
      "cell_type": "code",
      "metadata": {
        "id": "BHRIry_jg_ph",
        "colab_type": "code",
        "colab": {}
      },
      "source": [
        "updated_data =  []\n",
        "for i in categories:\n",
        "  dummy = posts_df[posts_df['category']==i]\n",
        "  id = dummy['_id'].values[0]\n",
        "  title = dummy['title'].values[0]\n",
        "  post_type = dummy[' post_type'].values[0]\n",
        "  for j in categories[i]:\n",
        "      dict1 = {}\n",
        "      dict1.update({'_id':id})\n",
        "      dict1.update({'title':title})\n",
        "      dict1.update({'category':j})\n",
        "      dict1.update({' post_type':post_type})\n",
        "      updated_data.append(dict1)"
      ],
      "execution_count": 0,
      "outputs": []
    },
    {
      "cell_type": "code",
      "metadata": {
        "id": "G-n7sQu3esJ-",
        "colab_type": "code",
        "colab": {}
      },
      "source": [
        "posts_df_updated = pd.DataFrame(updated_data)\n"
      ],
      "execution_count": 0,
      "outputs": []
    },
    {
      "cell_type": "markdown",
      "metadata": {
        "id": "zKxAa4QA1aZ8",
        "colab_type": "text"
      },
      "source": [
        "**now lets check updated posts_df**"
      ]
    },
    {
      "cell_type": "code",
      "metadata": {
        "id": "jSuZckP4jL85",
        "colab_type": "code",
        "colab": {}
      },
      "source": [
        "posts_df_updated.loc[:, ['_id', 'category', ' post_type']].head()"
      ],
      "execution_count": 0,
      "outputs": []
    },
    {
      "cell_type": "code",
      "metadata": {
        "id": "fnWr1EkRsbRU",
        "colab_type": "code",
        "colab": {}
      },
      "source": [
        "posts_df.loc[:, ['_id', 'category', ' post_type']].head()"
      ],
      "execution_count": 0,
      "outputs": []
    },
    {
      "cell_type": "code",
      "metadata": {
        "id": "sxg1e6G512r9",
        "colab_type": "code",
        "colab": {}
      },
      "source": [
        "posts_df_updated.describe()"
      ],
      "execution_count": 0,
      "outputs": []
    },
    {
      "cell_type": "markdown",
      "metadata": {
        "id": "tUqhgbKi1ryt",
        "colab_type": "text"
      },
      "source": [
        "**As we can see we have successfully created our posts dataframe now we will merge the dataframes**"
      ]
    },
    {
      "cell_type": "markdown",
      "metadata": {
        "id": "-9WJoBJc7JRE",
        "colab_type": "text"
      },
      "source": [
        "##MERGING OF THE DATAFRAMES "
      ]
    }
  ]
}